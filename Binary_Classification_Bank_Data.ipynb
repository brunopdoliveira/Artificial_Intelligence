{
 "cells": [
  {
   "cell_type": "markdown",
   "id": "e36a8c9d",
   "metadata": {},
   "source": [
    "# Classificação binária com dados não balanceados\n",
    "\n",
    "### Bruno Oliveira\n",
    "\n",
    "\n",
    "## 1. Objetivos\n",
    "- Apresentar exemplo de pré-processamento de dados.\n",
    "\n",
    "- Apresentar como classificar um conjunto de dados altamente desbalanceado no qual o número de exemplos de uma classe supera em muito os exemplos da outra.\n",
    "\n",
    "- O conjunto de dados usados é o Detecção de fraude de cartão de crédito do Kaggle. O objetivo desses dados é detectar apenas 492 transações fraudulentas de um total de 284.807 transações.\n",
    "\n",
    "- As tarefas realizadas para desenvolver a RNA para essa tarefa de classificação são as seguintes:\n",
    "        \n",
    "        Carregar um arquivo tipo CSV usando o Pandas;\n",
    "        Criar conjuntos de treinamento, validação e teste;\n",
    "        Definir e treinar um modelo com definição de pesos de classe;\n",
    "        Avaliar o modelo usando várias métricas, incluindo precisão, revocação e F1;"
   ]
  },
  {
   "cell_type": "markdown",
   "id": "2e144174",
   "metadata": {},
   "source": [
    "## 2. Importação dos dados"
   ]
  },
  {
   "cell_type": "code",
   "execution_count": 22,
   "id": "8e9dc5d8",
   "metadata": {},
   "outputs": [],
   "source": [
    "import tensorflow as tf\n",
    "from tensorflow import keras\n",
    "\n",
    "import matplotlib as mpl                                      #gráficos complexos\n",
    "import matplotlib.pyplot as plt                               #gráficos comuns\n",
    "\n",
    "import numpy as np\n",
    "import pandas as pd\n",
    "import seaborn as sns                                         #visualização de dados\n",
    "\n",
    "import sklearn\n",
    "from sklearn.metrics import confusion_matrix\n",
    "from sklearn.model_selection import train_test_split          #Divide dados de train, valid e test"
   ]
  },
  {
   "cell_type": "code",
   "execution_count": 23,
   "id": "23206ef5",
   "metadata": {},
   "outputs": [],
   "source": [
    "# Definição de cores para gráficos\n",
    "colors = plt.rcParams['axes.prop_cycle'].by_key()['color']"
   ]
  },
  {
   "cell_type": "markdown",
   "id": "9fd059c2",
   "metadata": {},
   "source": [
    "## 3. Análise e processamento dos dados\n",
    "\n",
    "## Carregar dados (\"Credit Card Fraud dataset\")\n",
    "\n",
    "Para carregar dados de arquivos tipo CSV a melhor ferramenta é o Pandas. O Pandas possui muitas funções úteis para processar dados estruturados."
   ]
  },
  {
   "cell_type": "code",
   "execution_count": 24,
   "id": "e6711955",
   "metadata": {},
   "outputs": [],
   "source": [
    "#Carrega base de dado do TensorFlow\n",
    "raw_df = pd.read_csv('https://storage.googleapis.com/download.tensorflow.org/data/creditcard.csv')"
   ]
  },
  {
   "cell_type": "code",
   "execution_count": 25,
   "id": "dfca7494",
   "metadata": {},
   "outputs": [
    {
     "data": {
      "text/html": [
       "<div>\n",
       "<style scoped>\n",
       "    .dataframe tbody tr th:only-of-type {\n",
       "        vertical-align: middle;\n",
       "    }\n",
       "\n",
       "    .dataframe tbody tr th {\n",
       "        vertical-align: top;\n",
       "    }\n",
       "\n",
       "    .dataframe thead th {\n",
       "        text-align: right;\n",
       "    }\n",
       "</style>\n",
       "<table border=\"1\" class=\"dataframe\">\n",
       "  <thead>\n",
       "    <tr style=\"text-align: right;\">\n",
       "      <th></th>\n",
       "      <th>Time</th>\n",
       "      <th>V1</th>\n",
       "      <th>V2</th>\n",
       "      <th>V3</th>\n",
       "      <th>V4</th>\n",
       "      <th>V5</th>\n",
       "      <th>V6</th>\n",
       "      <th>V7</th>\n",
       "      <th>V8</th>\n",
       "      <th>V9</th>\n",
       "      <th>...</th>\n",
       "      <th>V21</th>\n",
       "      <th>V22</th>\n",
       "      <th>V23</th>\n",
       "      <th>V24</th>\n",
       "      <th>V25</th>\n",
       "      <th>V26</th>\n",
       "      <th>V27</th>\n",
       "      <th>V28</th>\n",
       "      <th>Amount</th>\n",
       "      <th>Class</th>\n",
       "    </tr>\n",
       "  </thead>\n",
       "  <tbody>\n",
       "    <tr>\n",
       "      <th>0</th>\n",
       "      <td>0.0</td>\n",
       "      <td>-1.359807</td>\n",
       "      <td>-0.072781</td>\n",
       "      <td>2.536347</td>\n",
       "      <td>1.378155</td>\n",
       "      <td>-0.338321</td>\n",
       "      <td>0.462388</td>\n",
       "      <td>0.239599</td>\n",
       "      <td>0.098698</td>\n",
       "      <td>0.363787</td>\n",
       "      <td>...</td>\n",
       "      <td>-0.018307</td>\n",
       "      <td>0.277838</td>\n",
       "      <td>-0.110474</td>\n",
       "      <td>0.066928</td>\n",
       "      <td>0.128539</td>\n",
       "      <td>-0.189115</td>\n",
       "      <td>0.133558</td>\n",
       "      <td>-0.021053</td>\n",
       "      <td>149.62</td>\n",
       "      <td>0</td>\n",
       "    </tr>\n",
       "    <tr>\n",
       "      <th>1</th>\n",
       "      <td>0.0</td>\n",
       "      <td>1.191857</td>\n",
       "      <td>0.266151</td>\n",
       "      <td>0.166480</td>\n",
       "      <td>0.448154</td>\n",
       "      <td>0.060018</td>\n",
       "      <td>-0.082361</td>\n",
       "      <td>-0.078803</td>\n",
       "      <td>0.085102</td>\n",
       "      <td>-0.255425</td>\n",
       "      <td>...</td>\n",
       "      <td>-0.225775</td>\n",
       "      <td>-0.638672</td>\n",
       "      <td>0.101288</td>\n",
       "      <td>-0.339846</td>\n",
       "      <td>0.167170</td>\n",
       "      <td>0.125895</td>\n",
       "      <td>-0.008983</td>\n",
       "      <td>0.014724</td>\n",
       "      <td>2.69</td>\n",
       "      <td>0</td>\n",
       "    </tr>\n",
       "    <tr>\n",
       "      <th>2</th>\n",
       "      <td>1.0</td>\n",
       "      <td>-1.358354</td>\n",
       "      <td>-1.340163</td>\n",
       "      <td>1.773209</td>\n",
       "      <td>0.379780</td>\n",
       "      <td>-0.503198</td>\n",
       "      <td>1.800499</td>\n",
       "      <td>0.791461</td>\n",
       "      <td>0.247676</td>\n",
       "      <td>-1.514654</td>\n",
       "      <td>...</td>\n",
       "      <td>0.247998</td>\n",
       "      <td>0.771679</td>\n",
       "      <td>0.909412</td>\n",
       "      <td>-0.689281</td>\n",
       "      <td>-0.327642</td>\n",
       "      <td>-0.139097</td>\n",
       "      <td>-0.055353</td>\n",
       "      <td>-0.059752</td>\n",
       "      <td>378.66</td>\n",
       "      <td>0</td>\n",
       "    </tr>\n",
       "    <tr>\n",
       "      <th>3</th>\n",
       "      <td>1.0</td>\n",
       "      <td>-0.966272</td>\n",
       "      <td>-0.185226</td>\n",
       "      <td>1.792993</td>\n",
       "      <td>-0.863291</td>\n",
       "      <td>-0.010309</td>\n",
       "      <td>1.247203</td>\n",
       "      <td>0.237609</td>\n",
       "      <td>0.377436</td>\n",
       "      <td>-1.387024</td>\n",
       "      <td>...</td>\n",
       "      <td>-0.108300</td>\n",
       "      <td>0.005274</td>\n",
       "      <td>-0.190321</td>\n",
       "      <td>-1.175575</td>\n",
       "      <td>0.647376</td>\n",
       "      <td>-0.221929</td>\n",
       "      <td>0.062723</td>\n",
       "      <td>0.061458</td>\n",
       "      <td>123.50</td>\n",
       "      <td>0</td>\n",
       "    </tr>\n",
       "    <tr>\n",
       "      <th>4</th>\n",
       "      <td>2.0</td>\n",
       "      <td>-1.158233</td>\n",
       "      <td>0.877737</td>\n",
       "      <td>1.548718</td>\n",
       "      <td>0.403034</td>\n",
       "      <td>-0.407193</td>\n",
       "      <td>0.095921</td>\n",
       "      <td>0.592941</td>\n",
       "      <td>-0.270533</td>\n",
       "      <td>0.817739</td>\n",
       "      <td>...</td>\n",
       "      <td>-0.009431</td>\n",
       "      <td>0.798278</td>\n",
       "      <td>-0.137458</td>\n",
       "      <td>0.141267</td>\n",
       "      <td>-0.206010</td>\n",
       "      <td>0.502292</td>\n",
       "      <td>0.219422</td>\n",
       "      <td>0.215153</td>\n",
       "      <td>69.99</td>\n",
       "      <td>0</td>\n",
       "    </tr>\n",
       "  </tbody>\n",
       "</table>\n",
       "<p>5 rows × 31 columns</p>\n",
       "</div>"
      ],
      "text/plain": [
       "   Time        V1        V2        V3        V4        V5        V6        V7  \\\n",
       "0   0.0 -1.359807 -0.072781  2.536347  1.378155 -0.338321  0.462388  0.239599   \n",
       "1   0.0  1.191857  0.266151  0.166480  0.448154  0.060018 -0.082361 -0.078803   \n",
       "2   1.0 -1.358354 -1.340163  1.773209  0.379780 -0.503198  1.800499  0.791461   \n",
       "3   1.0 -0.966272 -0.185226  1.792993 -0.863291 -0.010309  1.247203  0.237609   \n",
       "4   2.0 -1.158233  0.877737  1.548718  0.403034 -0.407193  0.095921  0.592941   \n",
       "\n",
       "         V8        V9  ...       V21       V22       V23       V24       V25  \\\n",
       "0  0.098698  0.363787  ... -0.018307  0.277838 -0.110474  0.066928  0.128539   \n",
       "1  0.085102 -0.255425  ... -0.225775 -0.638672  0.101288 -0.339846  0.167170   \n",
       "2  0.247676 -1.514654  ...  0.247998  0.771679  0.909412 -0.689281 -0.327642   \n",
       "3  0.377436 -1.387024  ... -0.108300  0.005274 -0.190321 -1.175575  0.647376   \n",
       "4 -0.270533  0.817739  ... -0.009431  0.798278 -0.137458  0.141267 -0.206010   \n",
       "\n",
       "        V26       V27       V28  Amount  Class  \n",
       "0 -0.189115  0.133558 -0.021053  149.62      0  \n",
       "1  0.125895 -0.008983  0.014724    2.69      0  \n",
       "2 -0.139097 -0.055353 -0.059752  378.66      0  \n",
       "3 -0.221929  0.062723  0.061458  123.50      0  \n",
       "4  0.502292  0.219422  0.215153   69.99      0  \n",
       "\n",
       "[5 rows x 31 columns]"
      ]
     },
     "execution_count": 25,
     "metadata": {},
     "output_type": "execute_result"
    }
   ],
   "source": [
    "# Mostra os 5 primeiros exemplos de dados\n",
    "raw_df.head()"
   ]
  },
  {
   "cell_type": "markdown",
   "id": "b363a1c6",
   "metadata": {},
   "source": [
    "## Estatística básica de algumas colunas de características"
   ]
  },
  {
   "cell_type": "code",
   "execution_count": 26,
   "id": "8b51184b",
   "metadata": {},
   "outputs": [
    {
     "data": {
      "text/html": [
       "<div>\n",
       "<style scoped>\n",
       "    .dataframe tbody tr th:only-of-type {\n",
       "        vertical-align: middle;\n",
       "    }\n",
       "\n",
       "    .dataframe tbody tr th {\n",
       "        vertical-align: top;\n",
       "    }\n",
       "\n",
       "    .dataframe thead th {\n",
       "        text-align: right;\n",
       "    }\n",
       "</style>\n",
       "<table border=\"1\" class=\"dataframe\">\n",
       "  <thead>\n",
       "    <tr style=\"text-align: right;\">\n",
       "      <th></th>\n",
       "      <th>count</th>\n",
       "      <th>mean</th>\n",
       "      <th>std</th>\n",
       "      <th>min</th>\n",
       "      <th>25%</th>\n",
       "      <th>50%</th>\n",
       "      <th>75%</th>\n",
       "      <th>max</th>\n",
       "    </tr>\n",
       "  </thead>\n",
       "  <tbody>\n",
       "    <tr>\n",
       "      <th>Time</th>\n",
       "      <td>284807.0</td>\n",
       "      <td>9.481386e+04</td>\n",
       "      <td>47488.145955</td>\n",
       "      <td>0.000000</td>\n",
       "      <td>54201.500000</td>\n",
       "      <td>84692.000000</td>\n",
       "      <td>139320.500000</td>\n",
       "      <td>172792.000000</td>\n",
       "    </tr>\n",
       "    <tr>\n",
       "      <th>V1</th>\n",
       "      <td>284807.0</td>\n",
       "      <td>3.918649e-15</td>\n",
       "      <td>1.958696</td>\n",
       "      <td>-56.407510</td>\n",
       "      <td>-0.920373</td>\n",
       "      <td>0.018109</td>\n",
       "      <td>1.315642</td>\n",
       "      <td>2.454930</td>\n",
       "    </tr>\n",
       "    <tr>\n",
       "      <th>V2</th>\n",
       "      <td>284807.0</td>\n",
       "      <td>5.682686e-16</td>\n",
       "      <td>1.651309</td>\n",
       "      <td>-72.715728</td>\n",
       "      <td>-0.598550</td>\n",
       "      <td>0.065486</td>\n",
       "      <td>0.803724</td>\n",
       "      <td>22.057729</td>\n",
       "    </tr>\n",
       "    <tr>\n",
       "      <th>V3</th>\n",
       "      <td>284807.0</td>\n",
       "      <td>-8.761736e-15</td>\n",
       "      <td>1.516255</td>\n",
       "      <td>-48.325589</td>\n",
       "      <td>-0.890365</td>\n",
       "      <td>0.179846</td>\n",
       "      <td>1.027196</td>\n",
       "      <td>9.382558</td>\n",
       "    </tr>\n",
       "    <tr>\n",
       "      <th>V4</th>\n",
       "      <td>284807.0</td>\n",
       "      <td>2.811118e-15</td>\n",
       "      <td>1.415869</td>\n",
       "      <td>-5.683171</td>\n",
       "      <td>-0.848640</td>\n",
       "      <td>-0.019847</td>\n",
       "      <td>0.743341</td>\n",
       "      <td>16.875344</td>\n",
       "    </tr>\n",
       "    <tr>\n",
       "      <th>V5</th>\n",
       "      <td>284807.0</td>\n",
       "      <td>-1.552103e-15</td>\n",
       "      <td>1.380247</td>\n",
       "      <td>-113.743307</td>\n",
       "      <td>-0.691597</td>\n",
       "      <td>-0.054336</td>\n",
       "      <td>0.611926</td>\n",
       "      <td>34.801666</td>\n",
       "    </tr>\n",
       "    <tr>\n",
       "      <th>V26</th>\n",
       "      <td>284807.0</td>\n",
       "      <td>1.701640e-15</td>\n",
       "      <td>0.482227</td>\n",
       "      <td>-2.604551</td>\n",
       "      <td>-0.326984</td>\n",
       "      <td>-0.052139</td>\n",
       "      <td>0.240952</td>\n",
       "      <td>3.517346</td>\n",
       "    </tr>\n",
       "    <tr>\n",
       "      <th>V27</th>\n",
       "      <td>284807.0</td>\n",
       "      <td>-3.662252e-16</td>\n",
       "      <td>0.403632</td>\n",
       "      <td>-22.565679</td>\n",
       "      <td>-0.070840</td>\n",
       "      <td>0.001342</td>\n",
       "      <td>0.091045</td>\n",
       "      <td>31.612198</td>\n",
       "    </tr>\n",
       "    <tr>\n",
       "      <th>V28</th>\n",
       "      <td>284807.0</td>\n",
       "      <td>-1.217809e-16</td>\n",
       "      <td>0.330083</td>\n",
       "      <td>-15.430084</td>\n",
       "      <td>-0.052960</td>\n",
       "      <td>0.011244</td>\n",
       "      <td>0.078280</td>\n",
       "      <td>33.847808</td>\n",
       "    </tr>\n",
       "    <tr>\n",
       "      <th>Amount</th>\n",
       "      <td>284807.0</td>\n",
       "      <td>8.834962e+01</td>\n",
       "      <td>250.120109</td>\n",
       "      <td>0.000000</td>\n",
       "      <td>5.600000</td>\n",
       "      <td>22.000000</td>\n",
       "      <td>77.165000</td>\n",
       "      <td>25691.160000</td>\n",
       "    </tr>\n",
       "    <tr>\n",
       "      <th>Class</th>\n",
       "      <td>284807.0</td>\n",
       "      <td>1.727486e-03</td>\n",
       "      <td>0.041527</td>\n",
       "      <td>0.000000</td>\n",
       "      <td>0.000000</td>\n",
       "      <td>0.000000</td>\n",
       "      <td>0.000000</td>\n",
       "      <td>1.000000</td>\n",
       "    </tr>\n",
       "  </tbody>\n",
       "</table>\n",
       "</div>"
      ],
      "text/plain": [
       "           count          mean           std         min           25%  \\\n",
       "Time    284807.0  9.481386e+04  47488.145955    0.000000  54201.500000   \n",
       "V1      284807.0  3.918649e-15      1.958696  -56.407510     -0.920373   \n",
       "V2      284807.0  5.682686e-16      1.651309  -72.715728     -0.598550   \n",
       "V3      284807.0 -8.761736e-15      1.516255  -48.325589     -0.890365   \n",
       "V4      284807.0  2.811118e-15      1.415869   -5.683171     -0.848640   \n",
       "V5      284807.0 -1.552103e-15      1.380247 -113.743307     -0.691597   \n",
       "V26     284807.0  1.701640e-15      0.482227   -2.604551     -0.326984   \n",
       "V27     284807.0 -3.662252e-16      0.403632  -22.565679     -0.070840   \n",
       "V28     284807.0 -1.217809e-16      0.330083  -15.430084     -0.052960   \n",
       "Amount  284807.0  8.834962e+01    250.120109    0.000000      5.600000   \n",
       "Class   284807.0  1.727486e-03      0.041527    0.000000      0.000000   \n",
       "\n",
       "                 50%            75%            max  \n",
       "Time    84692.000000  139320.500000  172792.000000  \n",
       "V1          0.018109       1.315642       2.454930  \n",
       "V2          0.065486       0.803724      22.057729  \n",
       "V3          0.179846       1.027196       9.382558  \n",
       "V4         -0.019847       0.743341      16.875344  \n",
       "V5         -0.054336       0.611926      34.801666  \n",
       "V26        -0.052139       0.240952       3.517346  \n",
       "V27         0.001342       0.091045      31.612198  \n",
       "V28         0.011244       0.078280      33.847808  \n",
       "Amount     22.000000      77.165000   25691.160000  \n",
       "Class       0.000000       0.000000       1.000000  "
      ]
     },
     "execution_count": 26,
     "metadata": {},
     "output_type": "execute_result"
    }
   ],
   "source": [
    "#Inviável calcular estatísticas básicas de todas as colunas, seleciona somente algumas\n",
    "raw_df[['Time', 'V1', 'V2', 'V3', 'V4', 'V5', 'V26', 'V27', 'V28', 'Amount', 'Class']].describe().T"
   ]
  },
  {
   "cell_type": "code",
   "execution_count": 27,
   "id": "98100340",
   "metadata": {},
   "outputs": [
    {
     "name": "stdout",
     "output_type": "stream",
     "text": [
      "Dimensões dos dados = (284807, 31)\n"
     ]
    }
   ],
   "source": [
    "print('Dimensões dos dados =', raw_df.shape)"
   ]
  },
  {
   "cell_type": "markdown",
   "id": "788f8b47",
   "metadata": {},
   "source": [
    "## Verificar o desbalanceamento dos dados"
   ]
  },
  {
   "cell_type": "code",
   "execution_count": 28,
   "id": "3102d414",
   "metadata": {},
   "outputs": [
    {
     "name": "stdout",
     "output_type": "stream",
     "text": [
      "Examples:\n",
      " Total: 284807\n",
      " Positive: 492 (0.17% of total)\n",
      "\n"
     ]
    }
   ],
   "source": [
    "#bincount calcula a quantidade de zeros e uns de 'Classe' do dataframe\n",
    "neg, pos = np.bincount(raw_df['Class'])\n",
    "total = neg + pos\n",
    "\n",
    "print('Examples:\\n Total: {}\\n Positive: {} ({:.2f}% of total)\\n'.format(\n",
    "total, pos, 100 * pos / total))"
   ]
  },
  {
   "cell_type": "markdown",
   "id": "b49ba646",
   "metadata": {},
   "source": [
    "#### Esse resultado mostra a pequena fração dos dados da classe positiva (dados fraudulentos)."
   ]
  },
  {
   "cell_type": "markdown",
   "id": "ef7c8526",
   "metadata": {},
   "source": [
    "## Limpeza inicial dos dados\n",
    "\n",
    "Esses dados apresentam alguns problemas. Primeiro, as colunas Time e Amount apresentam grandes variações para serem usadas diretamente. Assim, vamos elimine a coluna Time (uma vez que não está claro o que significa) e vamos calcular o logaritmo da coluna Amount para reduzir seu intervalo de variação."
   ]
  },
  {
   "cell_type": "code",
   "execution_count": 29,
   "id": "791e6df1",
   "metadata": {},
   "outputs": [
    {
     "data": {
      "text/html": [
       "<div>\n",
       "<style scoped>\n",
       "    .dataframe tbody tr th:only-of-type {\n",
       "        vertical-align: middle;\n",
       "    }\n",
       "\n",
       "    .dataframe tbody tr th {\n",
       "        vertical-align: top;\n",
       "    }\n",
       "\n",
       "    .dataframe thead th {\n",
       "        text-align: right;\n",
       "    }\n",
       "</style>\n",
       "<table border=\"1\" class=\"dataframe\">\n",
       "  <thead>\n",
       "    <tr style=\"text-align: right;\">\n",
       "      <th></th>\n",
       "      <th>V1</th>\n",
       "      <th>V2</th>\n",
       "      <th>V3</th>\n",
       "      <th>V4</th>\n",
       "      <th>V5</th>\n",
       "      <th>V6</th>\n",
       "      <th>V7</th>\n",
       "      <th>V8</th>\n",
       "      <th>V9</th>\n",
       "      <th>V10</th>\n",
       "      <th>...</th>\n",
       "      <th>V21</th>\n",
       "      <th>V22</th>\n",
       "      <th>V23</th>\n",
       "      <th>V24</th>\n",
       "      <th>V25</th>\n",
       "      <th>V26</th>\n",
       "      <th>V27</th>\n",
       "      <th>V28</th>\n",
       "      <th>Class</th>\n",
       "      <th>LogAmmout</th>\n",
       "    </tr>\n",
       "  </thead>\n",
       "  <tbody>\n",
       "    <tr>\n",
       "      <th>0</th>\n",
       "      <td>-1.359807</td>\n",
       "      <td>-0.072781</td>\n",
       "      <td>2.536347</td>\n",
       "      <td>1.378155</td>\n",
       "      <td>-0.338321</td>\n",
       "      <td>0.462388</td>\n",
       "      <td>0.239599</td>\n",
       "      <td>0.098698</td>\n",
       "      <td>0.363787</td>\n",
       "      <td>0.090794</td>\n",
       "      <td>...</td>\n",
       "      <td>-0.018307</td>\n",
       "      <td>0.277838</td>\n",
       "      <td>-0.110474</td>\n",
       "      <td>0.066928</td>\n",
       "      <td>0.128539</td>\n",
       "      <td>-0.189115</td>\n",
       "      <td>0.133558</td>\n",
       "      <td>-0.021053</td>\n",
       "      <td>0</td>\n",
       "      <td>5.008105</td>\n",
       "    </tr>\n",
       "    <tr>\n",
       "      <th>1</th>\n",
       "      <td>1.191857</td>\n",
       "      <td>0.266151</td>\n",
       "      <td>0.166480</td>\n",
       "      <td>0.448154</td>\n",
       "      <td>0.060018</td>\n",
       "      <td>-0.082361</td>\n",
       "      <td>-0.078803</td>\n",
       "      <td>0.085102</td>\n",
       "      <td>-0.255425</td>\n",
       "      <td>-0.166974</td>\n",
       "      <td>...</td>\n",
       "      <td>-0.225775</td>\n",
       "      <td>-0.638672</td>\n",
       "      <td>0.101288</td>\n",
       "      <td>-0.339846</td>\n",
       "      <td>0.167170</td>\n",
       "      <td>0.125895</td>\n",
       "      <td>-0.008983</td>\n",
       "      <td>0.014724</td>\n",
       "      <td>0</td>\n",
       "      <td>0.989913</td>\n",
       "    </tr>\n",
       "    <tr>\n",
       "      <th>2</th>\n",
       "      <td>-1.358354</td>\n",
       "      <td>-1.340163</td>\n",
       "      <td>1.773209</td>\n",
       "      <td>0.379780</td>\n",
       "      <td>-0.503198</td>\n",
       "      <td>1.800499</td>\n",
       "      <td>0.791461</td>\n",
       "      <td>0.247676</td>\n",
       "      <td>-1.514654</td>\n",
       "      <td>0.207643</td>\n",
       "      <td>...</td>\n",
       "      <td>0.247998</td>\n",
       "      <td>0.771679</td>\n",
       "      <td>0.909412</td>\n",
       "      <td>-0.689281</td>\n",
       "      <td>-0.327642</td>\n",
       "      <td>-0.139097</td>\n",
       "      <td>-0.055353</td>\n",
       "      <td>-0.059752</td>\n",
       "      <td>0</td>\n",
       "      <td>5.936641</td>\n",
       "    </tr>\n",
       "    <tr>\n",
       "      <th>3</th>\n",
       "      <td>-0.966272</td>\n",
       "      <td>-0.185226</td>\n",
       "      <td>1.792993</td>\n",
       "      <td>-0.863291</td>\n",
       "      <td>-0.010309</td>\n",
       "      <td>1.247203</td>\n",
       "      <td>0.237609</td>\n",
       "      <td>0.377436</td>\n",
       "      <td>-1.387024</td>\n",
       "      <td>-0.054952</td>\n",
       "      <td>...</td>\n",
       "      <td>-0.108300</td>\n",
       "      <td>0.005274</td>\n",
       "      <td>-0.190321</td>\n",
       "      <td>-1.175575</td>\n",
       "      <td>0.647376</td>\n",
       "      <td>-0.221929</td>\n",
       "      <td>0.062723</td>\n",
       "      <td>0.061458</td>\n",
       "      <td>0</td>\n",
       "      <td>4.816249</td>\n",
       "    </tr>\n",
       "    <tr>\n",
       "      <th>4</th>\n",
       "      <td>-1.158233</td>\n",
       "      <td>0.877737</td>\n",
       "      <td>1.548718</td>\n",
       "      <td>0.403034</td>\n",
       "      <td>-0.407193</td>\n",
       "      <td>0.095921</td>\n",
       "      <td>0.592941</td>\n",
       "      <td>-0.270533</td>\n",
       "      <td>0.817739</td>\n",
       "      <td>0.753074</td>\n",
       "      <td>...</td>\n",
       "      <td>-0.009431</td>\n",
       "      <td>0.798278</td>\n",
       "      <td>-0.137458</td>\n",
       "      <td>0.141267</td>\n",
       "      <td>-0.206010</td>\n",
       "      <td>0.502292</td>\n",
       "      <td>0.219422</td>\n",
       "      <td>0.215153</td>\n",
       "      <td>0</td>\n",
       "      <td>4.248367</td>\n",
       "    </tr>\n",
       "  </tbody>\n",
       "</table>\n",
       "<p>5 rows × 30 columns</p>\n",
       "</div>"
      ],
      "text/plain": [
       "         V1        V2        V3        V4        V5        V6        V7  \\\n",
       "0 -1.359807 -0.072781  2.536347  1.378155 -0.338321  0.462388  0.239599   \n",
       "1  1.191857  0.266151  0.166480  0.448154  0.060018 -0.082361 -0.078803   \n",
       "2 -1.358354 -1.340163  1.773209  0.379780 -0.503198  1.800499  0.791461   \n",
       "3 -0.966272 -0.185226  1.792993 -0.863291 -0.010309  1.247203  0.237609   \n",
       "4 -1.158233  0.877737  1.548718  0.403034 -0.407193  0.095921  0.592941   \n",
       "\n",
       "         V8        V9       V10  ...       V21       V22       V23       V24  \\\n",
       "0  0.098698  0.363787  0.090794  ... -0.018307  0.277838 -0.110474  0.066928   \n",
       "1  0.085102 -0.255425 -0.166974  ... -0.225775 -0.638672  0.101288 -0.339846   \n",
       "2  0.247676 -1.514654  0.207643  ...  0.247998  0.771679  0.909412 -0.689281   \n",
       "3  0.377436 -1.387024 -0.054952  ... -0.108300  0.005274 -0.190321 -1.175575   \n",
       "4 -0.270533  0.817739  0.753074  ... -0.009431  0.798278 -0.137458  0.141267   \n",
       "\n",
       "        V25       V26       V27       V28  Class  LogAmmout  \n",
       "0  0.128539 -0.189115  0.133558 -0.021053      0   5.008105  \n",
       "1  0.167170  0.125895 -0.008983  0.014724      0   0.989913  \n",
       "2 -0.327642 -0.139097 -0.055353 -0.059752      0   5.936641  \n",
       "3  0.647376 -0.221929  0.062723  0.061458      0   4.816249  \n",
       "4 -0.206010  0.502292  0.219422  0.215153      0   4.248367  \n",
       "\n",
       "[5 rows x 30 columns]"
      ]
     },
     "execution_count": 29,
     "metadata": {},
     "output_type": "execute_result"
    }
   ],
   "source": [
    "#Copia dataframe para variável cleaned_df\n",
    "cleaned_df = raw_df.copy()\n",
    "\n",
    "# Eliminação da coluna Time\n",
    "cleaned_df.pop('Time')\n",
    "\n",
    "# Cálculo do log da coluna Amount\n",
    "eps=0.001 # deve-se somar um número pequeno para evitar calcular log de zero\n",
    "cleaned_df['LogAmmout'] = np.log(cleaned_df.pop('Amount')+eps)\n",
    "cleaned_df.head()"
   ]
  },
  {
   "cell_type": "markdown",
   "id": "5b46e850",
   "metadata": {},
   "source": [
    "## Divisão do conjunto de dados\n",
    "\n",
    "Vamos dividir o conjunto de dados em conjuntos de treinamento, validação e teste. O conjunto de validação é usado durante o ajuste do modelo para avaliar a função de custo e outras métricas, no entanto, o modelo não se ajusta a esses dados. \n",
    "O conjunto de teste não é usado durante a fase de treinamento e só é usado no final para avaliar quão bem o modelo generaliza para novos dados. Isso é especialmente importante com conjuntos de dados desequilibrados, onde o sobreajuste é uma preocupação significativa devido à falta de dados de treinamento."
   ]
  },
  {
   "cell_type": "code",
   "execution_count": 30,
   "id": "a52abd6f",
   "metadata": {},
   "outputs": [],
   "source": [
    "# Usaremos a função split da biblioteca sklearn para divir os dados. Dados de teste com 30%\n",
    "train_df, test_df = train_test_split(cleaned_df, test_size=0.3)\n",
    "test_df, val_df = train_test_split(test_df, test_size=0.5)\n",
    "\n",
    "# Separa as saídas dos dados de entrada e as transforma em tensores Numpy\n",
    "train_labels = np.array(train_df.pop('Class'))\n",
    "val_labels = np.array(val_df.pop('Class'))\n",
    "test_labels = np.array(test_df.pop('Class'))\n",
    "\n",
    "# Transforma os dados de entrada em tensores Numpy\n",
    "train_features = np.array(train_df)\n",
    "val_features = np.array(val_df)\n",
    "test_features = np.array(test_df)"
   ]
  },
  {
   "cell_type": "code",
   "execution_count": 31,
   "id": "9bbd63cb",
   "metadata": {},
   "outputs": [
    {
     "name": "stdout",
     "output_type": "stream",
     "text": [
      "(199364, 29) (42721, 29) (42722, 29)\n",
      "(199364,) (42721,) (42722,)\n"
     ]
    }
   ],
   "source": [
    "print(train_features.shape, test_features.shape, val_features.shape)\n",
    "print(train_labels.shape, test_labels.shape, val_labels.shape)"
   ]
  },
  {
   "cell_type": "markdown",
   "id": "187733ae",
   "metadata": {},
   "source": [
    "## Normalização dos dados de entrada\n",
    "\n",
    "Os dados de entrada serão normalizados para que cada característica (coluna) tenha média zero e desvio padrão igual a um.\n",
    "\n",
    "As médias e desvios padrões de cada característica são calculados usando somente o conjunto de dados de treinamento e esses valores são usados para normalizar também os dados de validação e teste. Isso deve ser feito porque nenhuma informação dos dados de validação e teste devem ser utilizados no treinamento."
   ]
  },
  {
   "cell_type": "code",
   "execution_count": 32,
   "id": "f38c2177",
   "metadata": {},
   "outputs": [
    {
     "name": "stdout",
     "output_type": "stream",
     "text": [
      "Dimensão das saídas de treinamento: (199364,)\n",
      "Dimensão das saídas de validação: (42722,)\n",
      "Dimensão das saídas de teste: (42721,)\n",
      "Dimensão das entradas de treinamento: (199364, 29)\n",
      "Dimensão das entradas de validação: (42722, 29)\n",
      "Dimensão das entradas de teste: (42721, 29)\n"
     ]
    }
   ],
   "source": [
    "# Calcula média e desvio padrão de cada coluna dos dados de treinamento\n",
    "mean = np.mean(train_features, axis=0)\n",
    "std = np.std(train_features, axis=0)\n",
    "\n",
    "# Normaliza dados de treinamento, validação e teste usando média e desvio padrão dos dados de treinamento\n",
    "train_features = (train_features - mean)/std\n",
    "val_features = (val_features - mean)/std\n",
    "test_features = (test_features - mean)/std\n",
    "\n",
    "print('Dimensão das saídas de treinamento:', train_labels.shape)\n",
    "print('Dimensão das saídas de validação:', val_labels.shape)\n",
    "print('Dimensão das saídas de teste:', test_labels.shape)\n",
    "print('Dimensão das entradas de treinamento:', train_features.shape)\n",
    "print('Dimensão das entradas de validação:', val_features.shape)\n",
    "print('Dimensão das entradas de teste:', test_features.shape)"
   ]
  },
  {
   "cell_type": "markdown",
   "id": "1e6917b2",
   "metadata": {},
   "source": [
    "## Distribuição dos dados normalizados\n",
    "\n",
    "Vamos comparar as distribuições dos exemplos das classes positivo e negativo usando algumas características.\n",
    "As perguntas que se deve fazer neste momento são:\n",
    "\n",
    "- Essas distribuições fazem sentido?\n",
    "    \n",
    "    Sim. As entradas foram normalizadas e, portanto, os dados estão concentrados principalmente no intervalo +/- 2 .\n",
    " \n",
    " \n",
    "- Pode-se ver a diferença entre as distribuições?\n",
    "    \n",
    "    Sim, os exemplos positivos contêm uma taxa muito maior de valores extremos.   "
   ]
  },
  {
   "cell_type": "code",
   "execution_count": 33,
   "id": "0ade8506",
   "metadata": {},
   "outputs": [
    {
     "name": "stderr",
     "output_type": "stream",
     "text": [
      "C:\\Users\\DELL\\anaconda3\\lib\\site-packages\\seaborn\\_decorators.py:36: FutureWarning: Pass the following variables as keyword args: x, y. From version 0.12, the only valid positional argument will be `data`, and passing other arguments without an explicit keyword will result in an error or misinterpretation.\n",
      "  warnings.warn(\n",
      "C:\\Users\\DELL\\anaconda3\\lib\\site-packages\\seaborn\\_decorators.py:36: FutureWarning: Pass the following variables as keyword args: x, y. From version 0.12, the only valid positional argument will be `data`, and passing other arguments without an explicit keyword will result in an error or misinterpretation.\n",
      "  warnings.warn(\n"
     ]
    },
    {
     "data": {
      "image/png": "[encoded data removed]",
      "text/plain": [
       "<Figure size 432x432 with 3 Axes>"
      ]
     },
     "metadata": {
      "needs_background": "light"
     },
     "output_type": "display_data"
    },
    {
     "data": {
      "image/png": "[encoded data removed]",
      "text/plain": [
       "<Figure size 432x432 with 3 Axes>"
      ]
     },
     "metadata": {
      "needs_background": "light"
     },
     "output_type": "display_data"
    }
   ],
   "source": [
    "# Identifica exemplos positivos\n",
    "bool_train_labels = train_labels != 0\n",
    "\n",
    "# Separa exemplos positivos e negativos\n",
    "pos_df = pd.DataFrame(train_features[ bool_train_labels], columns = train_df.columns)\n",
    "neg_df = pd.DataFrame(train_features[~bool_train_labels], columns = train_df.columns)\n",
    "\n",
    "# Gráfico das colunas V5 e V6 dos exemplos positivos\n",
    "sns.jointplot(pos_df['V5'], pos_df['V6'], kind='hex', xlim = (-5,5), ylim = (-5,5))\n",
    "plt.suptitle(\"Distribuição dos exemplos positivos\")\n",
    "\n",
    "# Gráfico das colunas V5 e V6 dos exemplos negativos\n",
    "sns.jointplot(neg_df['V5'], neg_df['V6'], kind='hex', xlim = (-5,5), ylim = (-5,5))\n",
    "_ = plt.suptitle(\"Distribuição dos exemplos negativos\")"
   ]
  },
  {
   "cell_type": "markdown",
   "id": "a5f02007",
   "metadata": {},
   "source": [
    "## 4. Definição da RNA e das métricas\n",
    "\n",
    "Vamos definir uma função que cria uma rede neural simples com uma camada oculta tipo densa e uma camada de saída com um único neurônio com função de ativação sigmóide, que retorna a probabilidade de uma transação ser fraudulenta."
   ]
  },
  {
   "cell_type": "code",
   "execution_count": 34,
   "id": "81859719",
   "metadata": {},
   "outputs": [],
   "source": [
    "# Importar do Keras classes de modelos e camadas\n",
    "from tensorflow.keras.models import Sequential\n",
    "from tensorflow.keras.layers import Dense\n",
    "\n",
    "# Define métricas\n",
    "METRICS = [\n",
    "keras.metrics.TruePositives(name='tp'),\n",
    "keras.metrics.FalsePositives(name='fp'),\n",
    "keras.metrics.TrueNegatives(name='tn'),\n",
    "keras.metrics.FalseNegatives(name='fn'),\n",
    "keras.metrics.BinaryAccuracy(name='accuracy'),\n",
    "keras.metrics.Precision(name='precision'),\n",
    "keras.metrics.Recall(name='recall'),\n",
    "keras.metrics.AUC(name='auc')]\n",
    "\n",
    "# Função que cria e compila a RN\n",
    "def make_model(METRICS, INPUT_DIM):\n",
    "    # Configuração da rede\n",
    "    rna = Sequential()\n",
    "    rna.add(Dense(units=32, activation='relu', input_dim=INPUT_DIM))\n",
    "    rna.add(Dense(units=1, activation='sigmoid'))\n",
    "    \n",
    "    rna.compile(optimizer=keras.optimizers.Adam(learning_rate=1e-3),\n",
    "        loss=keras.losses.BinaryCrossentropy(),\n",
    "        metrics=METRICS)\n",
    "\n",
    "    return rna"
   ]
  },
  {
   "cell_type": "code",
   "execution_count": 35,
   "id": "416c7dc0",
   "metadata": {},
   "outputs": [
    {
     "name": "stdout",
     "output_type": "stream",
     "text": [
      "Dimensão dos dados de entrada = 29\n",
      "Model: \"sequential_1\"\n",
      "_________________________________________________________________\n",
      "Layer (type)                 Output Shape              Param #   \n",
      "=================================================================\n",
      "dense_2 (Dense)              (None, 32)                960       \n",
      "_________________________________________________________________\n",
      "dense_3 (Dense)              (None, 1)                 33        \n",
      "=================================================================\n",
      "Total params: 993\n",
      "Trainable params: 993\n",
      "Non-trainable params: 0\n",
      "_________________________________________________________________\n"
     ]
    }
   ],
   "source": [
    "# Determina número de carateríticas\n",
    "features_shape = train_features.shape[1]                         #2° eixo dos dados de treinamento. 29 características\n",
    "print('Dimensão dos dados de entrada =', features_shape)\n",
    "\n",
    "# Cria RN já compilada\n",
    "rna = make_model(METRICS, features_shape)\n",
    "rna.summary()"
   ]
  },
  {
   "cell_type": "markdown",
   "id": "6a40d01d",
   "metadata": {},
   "source": [
    "## Métricas\n",
    "\n",
    "- **Falsos negativos** e **Falsos positivos** são exemplos classificados incorretamente.\n",
    "\n",
    "\n",
    "\n",
    "- **Verdadeiros negativos** e **Verdadeiros positivos** são exemplos classificados corretamente.\n",
    "\n",
    "\n",
    "\n",
    "- **Exatidão (\"accuracy\")** é a porcentagem de exemplos classificados corretamente:\n",
    "\n",
    "                           exemplos classificados corretamente/total de exemplos\n",
    "\n",
    "\n",
    "- **Precisão (\"precision\")** é a porcentagem de exemplos positivos classificados corretamente:\n",
    "                    \n",
    "                        verdadeiros positivos/verdadeiros positivos + falsos positivos\n",
    "                        \n",
    "- **Revocação (\"recall\")** é a porcentagem de exemplos positivos reais que foram classificados corretamente:\n",
    "\n",
    "                        verdadeiros positivos/verdadeiros positivos + falsos negativos\n",
    "                        \n",
    "- **AUC** refere-se à área sob uma curva de característica de operação do receptor **(ROC-AUC)**. Essa métrica é igual à probabilidade de que um classificador classifique uma amostra positiva mais alta do que uma amostra negativa **ROC-AUC**\n",
    "\n",
    "\n",
    "**Observação:** a exatidão não é uma métrica útil para essa tarefa. Você pode ter uma precisão de 99,8% nesta tarefa prevendo Falso o tempo todo."
   ]
  },
  {
   "cell_type": "markdown",
   "id": "a2bbf012",
   "metadata": {},
   "source": [
    "## 5. Resultado base\n",
    "\n",
    "## Treinamento da RN\n",
    "\n",
    "Agora vamos treinar a RNA que foi definida anteriormente. Observe que o tamanho do lote de 2048 é bem maior do que o padrão de 32. Nesse tipo de problema isso é importante para garantir que cada lote tenha uma alguma chance de conter algumas amostras positivas. Se o tamanho do lote for muito pequeno, eles provavelmente não teriam transações fraudulentas com as quais aprender.\n",
    "\n",
    "**Observação:** essa RNA não conseguirá lidar bem com o desequilíbrio de classe. Posteriormente vamos melhorar\n",
    "esse resultado usando pesos para as classes."
   ]
  },
  {
   "cell_type": "code",
   "execution_count": 36,
   "id": "99714aa6",
   "metadata": {
    "scrolled": false
   },
   "outputs": [
    {
     "name": "stdout",
     "output_type": "stream",
     "text": [
      "Epoch 1/100\n",
      "98/98 [==============================] - 3s 30ms/step - loss: 0.4638 - tp: 196.0000 - fp: 33232.0000 - tn: 165809.0000 - fn: 127.0000 - accuracy: 0.8327 - precision: 0.0059 - recall: 0.6068 - auc: 0.7207 - val_loss: 0.2044 - val_tp: 27.0000 - val_fp: 49.0000 - val_tn: 42589.0000 - val_fn: 57.0000 - val_accuracy: 0.9975 - val_precision: 0.3553 - val_recall: 0.3214 - val_auc: 0.6375\n",
      "Epoch 2/100\n",
      "98/98 [==============================] - 1s 13ms/step - loss: 0.1287 - tp: 102.0000 - fp: 61.0000 - tn: 198980.0000 - fn: 221.0000 - accuracy: 0.9986 - precision: 0.6258 - recall: 0.3158 - auc: 0.7160 - val_loss: 0.0792 - val_tp: 30.0000 - val_fp: 4.0000 - val_tn: 42634.0000 - val_fn: 54.0000 - val_accuracy: 0.9986 - val_precision: 0.8824 - val_recall: 0.3571 - val_auc: 0.7362\n",
      "Epoch 3/100\n",
      "98/98 [==============================] - 1s 13ms/step - loss: 0.0568 - tp: 129.0000 - fp: 39.0000 - tn: 199002.0000 - fn: 194.0000 - accuracy: 0.9988 - precision: 0.7679 - recall: 0.3994 - auc: 0.8098 - val_loss: 0.0412 - val_tp: 38.0000 - val_fp: 6.0000 - val_tn: 42632.0000 - val_fn: 46.0000 - val_accuracy: 0.9988 - val_precision: 0.8636 - val_recall: 0.4524 - val_auc: 0.7871\n",
      "Epoch 4/100\n",
      "98/98 [==============================] - 1s 13ms/step - loss: 0.0319 - tp: 149.0000 - fp: 42.0000 - tn: 198999.0000 - fn: 174.0000 - accuracy: 0.9989 - precision: 0.7801 - recall: 0.4613 - auc: 0.8468 - val_loss: 0.0259 - val_tp: 40.0000 - val_fp: 5.0000 - val_tn: 42633.0000 - val_fn: 44.0000 - val_accuracy: 0.9989 - val_precision: 0.8889 - val_recall: 0.4762 - val_auc: 0.8026\n",
      "Epoch 5/100\n",
      "98/98 [==============================] - 1s 14ms/step - loss: 0.0208 - tp: 163.0000 - fp: 41.0000 - tn: 199000.0000 - fn: 160.0000 - accuracy: 0.9990 - precision: 0.7990 - recall: 0.5046 - auc: 0.8737 - val_loss: 0.0184 - val_tp: 40.0000 - val_fp: 4.0000 - val_tn: 42634.0000 - val_fn: 44.0000 - val_accuracy: 0.9989 - val_precision: 0.9091 - val_recall: 0.4762 - val_auc: 0.8114\n",
      "Epoch 6/100\n",
      "98/98 [==============================] - 1s 15ms/step - loss: 0.0150 - tp: 162.0000 - fp: 36.0000 - tn: 199005.0000 - fn: 161.0000 - accuracy: 0.9990 - precision: 0.8182 - recall: 0.5015 - auc: 0.8848 - val_loss: 0.0142 - val_tp: 39.0000 - val_fp: 5.0000 - val_tn: 42633.0000 - val_fn: 45.0000 - val_accuracy: 0.9988 - val_precision: 0.8864 - val_recall: 0.4643 - val_auc: 0.8280\n",
      "Epoch 7/100\n",
      "98/98 [==============================] - 1s 15ms/step - loss: 0.0115 - tp: 173.0000 - fp: 35.0000 - tn: 199006.0000 - fn: 150.0000 - accuracy: 0.9991 - precision: 0.8317 - recall: 0.5356 - auc: 0.8994 - val_loss: 0.0115 - val_tp: 42.0000 - val_fp: 5.0000 - val_tn: 42633.0000 - val_fn: 42.0000 - val_accuracy: 0.9989 - val_precision: 0.8936 - val_recall: 0.5000 - val_auc: 0.8782\n",
      "Epoch 8/100\n",
      "98/98 [==============================] - 2s 16ms/step - loss: 0.0093 - tp: 186.0000 - fp: 35.0000 - tn: 199006.0000 - fn: 137.0000 - accuracy: 0.9991 - precision: 0.8416 - recall: 0.5759 - auc: 0.9145 - val_loss: 0.0098 - val_tp: 43.0000 - val_fp: 5.0000 - val_tn: 42633.0000 - val_fn: 41.0000 - val_accuracy: 0.9989 - val_precision: 0.8958 - val_recall: 0.5119 - val_auc: 0.8781\n",
      "Epoch 9/100\n",
      "98/98 [==============================] - 2s 16ms/step - loss: 0.0078 - tp: 198.0000 - fp: 34.0000 - tn: 199007.0000 - fn: 125.0000 - accuracy: 0.9992 - precision: 0.8534 - recall: 0.6130 - auc: 0.9207 - val_loss: 0.0086 - val_tp: 48.0000 - val_fp: 5.0000 - val_tn: 42633.0000 - val_fn: 36.0000 - val_accuracy: 0.9990 - val_precision: 0.9057 - val_recall: 0.5714 - val_auc: 0.8922\n",
      "Epoch 10/100\n",
      "98/98 [==============================] - 1s 15ms/step - loss: 0.0068 - tp: 214.0000 - fp: 35.0000 - tn: 199006.0000 - fn: 109.0000 - accuracy: 0.9993 - precision: 0.8594 - recall: 0.6625 - auc: 0.9228 - val_loss: 0.0080 - val_tp: 42.0000 - val_fp: 5.0000 - val_tn: 42633.0000 - val_fn: 42.0000 - val_accuracy: 0.9989 - val_precision: 0.8936 - val_recall: 0.5000 - val_auc: 0.8891\n",
      "Epoch 11/100\n",
      "98/98 [==============================] - 1s 14ms/step - loss: 0.0060 - tp: 197.0000 - fp: 32.0000 - tn: 199009.0000 - fn: 126.0000 - accuracy: 0.9992 - precision: 0.8603 - recall: 0.6099 - auc: 0.9343 - val_loss: 0.0071 - val_tp: 50.0000 - val_fp: 6.0000 - val_tn: 42632.0000 - val_fn: 34.0000 - val_accuracy: 0.9991 - val_precision: 0.8929 - val_recall: 0.5952 - val_auc: 0.8928\n",
      "Epoch 12/100\n",
      "98/98 [==============================] - 1s 14ms/step - loss: 0.0054 - tp: 211.0000 - fp: 34.0000 - tn: 199007.0000 - fn: 112.0000 - accuracy: 0.9993 - precision: 0.8612 - recall: 0.6533 - auc: 0.9369 - val_loss: 0.0068 - val_tp: 48.0000 - val_fp: 6.0000 - val_tn: 42632.0000 - val_fn: 36.0000 - val_accuracy: 0.9990 - val_precision: 0.8889 - val_recall: 0.5714 - val_auc: 0.8854\n",
      "Epoch 13/100\n",
      "98/98 [==============================] - 1s 14ms/step - loss: 0.0050 - tp: 213.0000 - fp: 34.0000 - tn: 199007.0000 - fn: 110.0000 - accuracy: 0.9993 - precision: 0.8623 - recall: 0.6594 - auc: 0.9416 - val_loss: 0.0062 - val_tp: 50.0000 - val_fp: 6.0000 - val_tn: 42632.0000 - val_fn: 34.0000 - val_accuracy: 0.9991 - val_precision: 0.8929 - val_recall: 0.5952 - val_auc: 0.8899\n",
      "Epoch 14/100\n",
      "98/98 [==============================] - 1s 14ms/step - loss: 0.0046 - tp: 218.0000 - fp: 35.0000 - tn: 199006.0000 - fn: 105.0000 - accuracy: 0.9993 - precision: 0.8617 - recall: 0.6749 - auc: 0.9437 - val_loss: 0.0061 - val_tp: 49.0000 - val_fp: 6.0000 - val_tn: 42632.0000 - val_fn: 35.0000 - val_accuracy: 0.9990 - val_precision: 0.8909 - val_recall: 0.5833 - val_auc: 0.8858\n",
      "Epoch 15/100\n",
      "98/98 [==============================] - 1s 14ms/step - loss: 0.0043 - tp: 216.0000 - fp: 33.0000 - tn: 199008.0000 - fn: 107.0000 - accuracy: 0.9993 - precision: 0.8675 - recall: 0.6687 - auc: 0.9455 - val_loss: 0.0058 - val_tp: 50.0000 - val_fp: 6.0000 - val_tn: 42632.0000 - val_fn: 34.0000 - val_accuracy: 0.9991 - val_precision: 0.8929 - val_recall: 0.5952 - val_auc: 0.8932\n",
      "Epoch 16/100\n",
      "98/98 [==============================] - 1s 14ms/step - loss: 0.0040 - tp: 223.0000 - fp: 34.0000 - tn: 199007.0000 - fn: 100.0000 - accuracy: 0.9993 - precision: 0.8677 - recall: 0.6904 - auc: 0.9467 - val_loss: 0.0055 - val_tp: 50.0000 - val_fp: 6.0000 - val_tn: 42632.0000 - val_fn: 34.0000 - val_accuracy: 0.9991 - val_precision: 0.8929 - val_recall: 0.5952 - val_auc: 0.8943\n",
      "Epoch 17/100\n",
      "98/98 [==============================] - 1s 14ms/step - loss: 0.0038 - tp: 222.0000 - fp: 33.0000 - tn: 199008.0000 - fn: 101.0000 - accuracy: 0.9993 - precision: 0.8706 - recall: 0.6873 - auc: 0.9458 - val_loss: 0.0053 - val_tp: 50.0000 - val_fp: 6.0000 - val_tn: 42632.0000 - val_fn: 34.0000 - val_accuracy: 0.9991 - val_precision: 0.8929 - val_recall: 0.5952 - val_auc: 0.9009\n",
      "Epoch 18/100\n",
      "98/98 [==============================] - 1s 14ms/step - loss: 0.0036 - tp: 231.0000 - fp: 32.0000 - tn: 199009.0000 - fn: 92.0000 - accuracy: 0.9994 - precision: 0.8783 - recall: 0.7152 - auc: 0.9479 - val_loss: 0.0051 - val_tp: 52.0000 - val_fp: 6.0000 - val_tn: 42632.0000 - val_fn: 32.0000 - val_accuracy: 0.9991 - val_precision: 0.8966 - val_recall: 0.6190 - val_auc: 0.9016\n",
      "Epoch 19/100\n",
      "98/98 [==============================] - 1s 14ms/step - loss: 0.0035 - tp: 228.0000 - fp: 31.0000 - tn: 199010.0000 - fn: 95.0000 - accuracy: 0.9994 - precision: 0.8803 - recall: 0.7059 - auc: 0.9468 - val_loss: 0.0050 - val_tp: 50.0000 - val_fp: 6.0000 - val_tn: 42632.0000 - val_fn: 34.0000 - val_accuracy: 0.9991 - val_precision: 0.8929 - val_recall: 0.5952 - val_auc: 0.9022\n",
      "Epoch 20/100\n",
      "98/98 [==============================] - 1s 14ms/step - loss: 0.0033 - tp: 232.0000 - fp: 30.0000 - tn: 199011.0000 - fn: 91.0000 - accuracy: 0.9994 - precision: 0.8855 - recall: 0.7183 - auc: 0.9488 - val_loss: 0.0048 - val_tp: 53.0000 - val_fp: 6.0000 - val_tn: 42632.0000 - val_fn: 31.0000 - val_accuracy: 0.9991 - val_precision: 0.8983 - val_recall: 0.6310 - val_auc: 0.9025\n",
      "Epoch 21/100\n",
      "98/98 [==============================] - 1s 14ms/step - loss: 0.0032 - tp: 237.0000 - fp: 29.0000 - tn: 199012.0000 - fn: 86.0000 - accuracy: 0.9994 - precision: 0.8910 - recall: 0.7337 - auc: 0.9474 - val_loss: 0.0048 - val_tp: 52.0000 - val_fp: 6.0000 - val_tn: 42632.0000 - val_fn: 32.0000 - val_accuracy: 0.9991 - val_precision: 0.8966 - val_recall: 0.6190 - val_auc: 0.9027\n"
     ]
    },
    {
     "name": "stdout",
     "output_type": "stream",
     "text": [
      "Epoch 22/100\n",
      "98/98 [==============================] - 1s 13ms/step - loss: 0.0031 - tp: 236.0000 - fp: 32.0000 - tn: 199009.0000 - fn: 87.0000 - accuracy: 0.9994 - precision: 0.8806 - recall: 0.7307 - auc: 0.9476 - val_loss: 0.0048 - val_tp: 48.0000 - val_fp: 4.0000 - val_tn: 42634.0000 - val_fn: 36.0000 - val_accuracy: 0.9991 - val_precision: 0.9231 - val_recall: 0.5714 - val_auc: 0.9029\n",
      "Epoch 23/100\n",
      "98/98 [==============================] - 1s 13ms/step - loss: 0.0030 - tp: 239.0000 - fp: 28.0000 - tn: 199013.0000 - fn: 84.0000 - accuracy: 0.9994 - precision: 0.8951 - recall: 0.7399 - auc: 0.9476 - val_loss: 0.0047 - val_tp: 48.0000 - val_fp: 4.0000 - val_tn: 42634.0000 - val_fn: 36.0000 - val_accuracy: 0.9991 - val_precision: 0.9231 - val_recall: 0.5714 - val_auc: 0.9031\n",
      "Epoch 24/100\n",
      "98/98 [==============================] - 1s 13ms/step - loss: 0.0030 - tp: 237.0000 - fp: 26.0000 - tn: 199015.0000 - fn: 86.0000 - accuracy: 0.9994 - precision: 0.9011 - recall: 0.7337 - auc: 0.9478 - val_loss: 0.0048 - val_tp: 48.0000 - val_fp: 3.0000 - val_tn: 42635.0000 - val_fn: 36.0000 - val_accuracy: 0.9991 - val_precision: 0.9412 - val_recall: 0.5714 - val_auc: 0.9092\n",
      "Epoch 25/100\n",
      "98/98 [==============================] - 1s 13ms/step - loss: 0.0029 - tp: 233.0000 - fp: 28.0000 - tn: 199013.0000 - fn: 90.0000 - accuracy: 0.9994 - precision: 0.8927 - recall: 0.7214 - auc: 0.9509 - val_loss: 0.0045 - val_tp: 51.0000 - val_fp: 6.0000 - val_tn: 42632.0000 - val_fn: 33.0000 - val_accuracy: 0.9991 - val_precision: 0.8947 - val_recall: 0.6071 - val_auc: 0.9093\n",
      "Epoch 26/100\n",
      "98/98 [==============================] - 1s 13ms/step - loss: 0.0028 - tp: 237.0000 - fp: 26.0000 - tn: 199015.0000 - fn: 86.0000 - accuracy: 0.9994 - precision: 0.9011 - recall: 0.7337 - auc: 0.9495 - val_loss: 0.0044 - val_tp: 53.0000 - val_fp: 7.0000 - val_tn: 42631.0000 - val_fn: 31.0000 - val_accuracy: 0.9991 - val_precision: 0.8833 - val_recall: 0.6310 - val_auc: 0.9094\n",
      "Epoch 27/100\n",
      "98/98 [==============================] - 1s 13ms/step - loss: 0.0028 - tp: 240.0000 - fp: 29.0000 - tn: 199012.0000 - fn: 83.0000 - accuracy: 0.9994 - precision: 0.8922 - recall: 0.7430 - auc: 0.9511 - val_loss: 0.0044 - val_tp: 48.0000 - val_fp: 6.0000 - val_tn: 42632.0000 - val_fn: 36.0000 - val_accuracy: 0.9990 - val_precision: 0.8889 - val_recall: 0.5714 - val_auc: 0.9095\n",
      "Epoch 28/100\n",
      "98/98 [==============================] - 1s 13ms/step - loss: 0.0027 - tp: 237.0000 - fp: 20.0000 - tn: 199021.0000 - fn: 86.0000 - accuracy: 0.9995 - precision: 0.9222 - recall: 0.7337 - auc: 0.9496 - val_loss: 0.0042 - val_tp: 58.0000 - val_fp: 7.0000 - val_tn: 42631.0000 - val_fn: 26.0000 - val_accuracy: 0.9992 - val_precision: 0.8923 - val_recall: 0.6905 - val_auc: 0.9154\n",
      "Epoch 29/100\n",
      "98/98 [==============================] - 1s 13ms/step - loss: 0.0027 - tp: 241.0000 - fp: 25.0000 - tn: 199016.0000 - fn: 82.0000 - accuracy: 0.9995 - precision: 0.9060 - recall: 0.7461 - auc: 0.9512 - val_loss: 0.0043 - val_tp: 50.0000 - val_fp: 6.0000 - val_tn: 42632.0000 - val_fn: 34.0000 - val_accuracy: 0.9991 - val_precision: 0.8929 - val_recall: 0.5952 - val_auc: 0.9155\n",
      "Epoch 30/100\n",
      "98/98 [==============================] - 1s 13ms/step - loss: 0.0027 - tp: 240.0000 - fp: 25.0000 - tn: 199016.0000 - fn: 83.0000 - accuracy: 0.9995 - precision: 0.9057 - recall: 0.7430 - auc: 0.9527 - val_loss: 0.0043 - val_tp: 51.0000 - val_fp: 6.0000 - val_tn: 42632.0000 - val_fn: 33.0000 - val_accuracy: 0.9991 - val_precision: 0.8947 - val_recall: 0.6071 - val_auc: 0.9038\n",
      "Epoch 31/100\n",
      "98/98 [==============================] - 1s 13ms/step - loss: 0.0026 - tp: 239.0000 - fp: 26.0000 - tn: 199015.0000 - fn: 84.0000 - accuracy: 0.9994 - precision: 0.9019 - recall: 0.7399 - auc: 0.9513 - val_loss: 0.0042 - val_tp: 55.0000 - val_fp: 7.0000 - val_tn: 42631.0000 - val_fn: 29.0000 - val_accuracy: 0.9992 - val_precision: 0.8871 - val_recall: 0.6548 - val_auc: 0.9156\n",
      "Epoch 32/100\n",
      "98/98 [==============================] - 1s 13ms/step - loss: 0.0026 - tp: 241.0000 - fp: 27.0000 - tn: 199014.0000 - fn: 82.0000 - accuracy: 0.9995 - precision: 0.8993 - recall: 0.7461 - auc: 0.9529 - val_loss: 0.0041 - val_tp: 53.0000 - val_fp: 7.0000 - val_tn: 42631.0000 - val_fn: 31.0000 - val_accuracy: 0.9991 - val_precision: 0.8833 - val_recall: 0.6310 - val_auc: 0.9215\n",
      "Epoch 33/100\n",
      "98/98 [==============================] - 1s 13ms/step - loss: 0.0025 - tp: 241.0000 - fp: 23.0000 - tn: 199018.0000 - fn: 82.0000 - accuracy: 0.9995 - precision: 0.9129 - recall: 0.7461 - auc: 0.9529 - val_loss: 0.0041 - val_tp: 53.0000 - val_fp: 6.0000 - val_tn: 42632.0000 - val_fn: 31.0000 - val_accuracy: 0.9991 - val_precision: 0.8983 - val_recall: 0.6310 - val_auc: 0.9157\n",
      "Epoch 34/100\n",
      "98/98 [==============================] - 1s 13ms/step - loss: 0.0025 - tp: 243.0000 - fp: 24.0000 - tn: 199017.0000 - fn: 80.0000 - accuracy: 0.9995 - precision: 0.9101 - recall: 0.7523 - auc: 0.9545 - val_loss: 0.0042 - val_tp: 50.0000 - val_fp: 6.0000 - val_tn: 42632.0000 - val_fn: 34.0000 - val_accuracy: 0.9991 - val_precision: 0.8929 - val_recall: 0.5952 - val_auc: 0.9158\n",
      "Epoch 35/100\n",
      "98/98 [==============================] - 1s 13ms/step - loss: 0.0025 - tp: 245.0000 - fp: 20.0000 - tn: 199021.0000 - fn: 78.0000 - accuracy: 0.9995 - precision: 0.9245 - recall: 0.7585 - auc: 0.9529 - val_loss: 0.0041 - val_tp: 50.0000 - val_fp: 6.0000 - val_tn: 42632.0000 - val_fn: 34.0000 - val_accuracy: 0.9991 - val_precision: 0.8929 - val_recall: 0.5952 - val_auc: 0.9217\n",
      "Epoch 36/100\n",
      "98/98 [==============================] - 1s 13ms/step - loss: 0.0025 - tp: 238.0000 - fp: 25.0000 - tn: 199016.0000 - fn: 85.0000 - accuracy: 0.9994 - precision: 0.9049 - recall: 0.7368 - auc: 0.9545 - val_loss: 0.0041 - val_tp: 53.0000 - val_fp: 6.0000 - val_tn: 42632.0000 - val_fn: 31.0000 - val_accuracy: 0.9991 - val_precision: 0.8983 - val_recall: 0.6310 - val_auc: 0.9218\n",
      "Epoch 37/100\n",
      "98/98 [==============================] - 1s 13ms/step - loss: 0.0024 - tp: 243.0000 - fp: 21.0000 - tn: 199020.0000 - fn: 80.0000 - accuracy: 0.9995 - precision: 0.9205 - recall: 0.7523 - auc: 0.9545 - val_loss: 0.0042 - val_tp: 49.0000 - val_fp: 6.0000 - val_tn: 42632.0000 - val_fn: 35.0000 - val_accuracy: 0.9990 - val_precision: 0.8909 - val_recall: 0.5833 - val_auc: 0.9217\n",
      "Epoch 38/100\n",
      "98/98 [==============================] - 1s 13ms/step - loss: 0.0024 - tp: 244.0000 - fp: 22.0000 - tn: 199019.0000 - fn: 79.0000 - accuracy: 0.9995 - precision: 0.9173 - recall: 0.7554 - auc: 0.9560 - val_loss: 0.0041 - val_tp: 51.0000 - val_fp: 6.0000 - val_tn: 42632.0000 - val_fn: 33.0000 - val_accuracy: 0.9991 - val_precision: 0.8947 - val_recall: 0.6071 - val_auc: 0.9217\n",
      "Epoch 39/100\n",
      "98/98 [==============================] - 1s 13ms/step - loss: 0.0024 - tp: 248.0000 - fp: 20.0000 - tn: 199021.0000 - fn: 75.0000 - accuracy: 0.9995 - precision: 0.9254 - recall: 0.7678 - auc: 0.9530 - val_loss: 0.0040 - val_tp: 54.0000 - val_fp: 6.0000 - val_tn: 42632.0000 - val_fn: 30.0000 - val_accuracy: 0.9992 - val_precision: 0.9000 - val_recall: 0.6429 - val_auc: 0.9277\n",
      "Epoch 40/100\n",
      "98/98 [==============================] - 1s 15ms/step - loss: 0.0023 - tp: 243.0000 - fp: 18.0000 - tn: 199023.0000 - fn: 80.0000 - accuracy: 0.9995 - precision: 0.9310 - recall: 0.7523 - auc: 0.9546 - val_loss: 0.0040 - val_tp: 55.0000 - val_fp: 6.0000 - val_tn: 42632.0000 - val_fn: 29.0000 - val_accuracy: 0.9992 - val_precision: 0.9016 - val_recall: 0.6548 - val_auc: 0.9277\n",
      "Epoch 41/100\n",
      "98/98 [==============================] - 1s 13ms/step - loss: 0.0023 - tp: 245.0000 - fp: 22.0000 - tn: 199019.0000 - fn: 78.0000 - accuracy: 0.9995 - precision: 0.9176 - recall: 0.7585 - auc: 0.9546 - val_loss: 0.0040 - val_tp: 59.0000 - val_fp: 7.0000 - val_tn: 42631.0000 - val_fn: 25.0000 - val_accuracy: 0.9993 - val_precision: 0.8939 - val_recall: 0.7024 - val_auc: 0.9278\n",
      "Epoch 42/100\n",
      "98/98 [==============================] - 1s 13ms/step - loss: 0.0023 - tp: 247.0000 - fp: 24.0000 - tn: 199017.0000 - fn: 76.0000 - accuracy: 0.9995 - precision: 0.9114 - recall: 0.7647 - auc: 0.9546 - val_loss: 0.0041 - val_tp: 51.0000 - val_fp: 6.0000 - val_tn: 42632.0000 - val_fn: 33.0000 - val_accuracy: 0.9991 - val_precision: 0.8947 - val_recall: 0.6071 - val_auc: 0.9277\n"
     ]
    },
    {
     "name": "stdout",
     "output_type": "stream",
     "text": [
      "Epoch 43/100\n",
      "98/98 [==============================] - 1s 12ms/step - loss: 0.0023 - tp: 246.0000 - fp: 19.0000 - tn: 199022.0000 - fn: 77.0000 - accuracy: 0.9995 - precision: 0.9283 - recall: 0.7616 - auc: 0.9561 - val_loss: 0.0040 - val_tp: 54.0000 - val_fp: 6.0000 - val_tn: 42632.0000 - val_fn: 30.0000 - val_accuracy: 0.9992 - val_precision: 0.9000 - val_recall: 0.6429 - val_auc: 0.9278\n",
      "Epoch 44/100\n",
      "98/98 [==============================] - 1s 13ms/step - loss: 0.0023 - tp: 245.0000 - fp: 19.0000 - tn: 199022.0000 - fn: 78.0000 - accuracy: 0.9995 - precision: 0.9280 - recall: 0.7585 - auc: 0.9561 - val_loss: 0.0040 - val_tp: 54.0000 - val_fp: 6.0000 - val_tn: 42632.0000 - val_fn: 30.0000 - val_accuracy: 0.9992 - val_precision: 0.9000 - val_recall: 0.6429 - val_auc: 0.9278\n",
      "Epoch 45/100\n",
      "98/98 [==============================] - 1s 12ms/step - loss: 0.0022 - tp: 246.0000 - fp: 19.0000 - tn: 199022.0000 - fn: 77.0000 - accuracy: 0.9995 - precision: 0.9283 - recall: 0.7616 - auc: 0.9546 - val_loss: 0.0039 - val_tp: 54.0000 - val_fp: 6.0000 - val_tn: 42632.0000 - val_fn: 30.0000 - val_accuracy: 0.9992 - val_precision: 0.9000 - val_recall: 0.6429 - val_auc: 0.9278\n",
      "Epoch 46/100\n",
      "98/98 [==============================] - 1s 13ms/step - loss: 0.0022 - tp: 243.0000 - fp: 21.0000 - tn: 199020.0000 - fn: 80.0000 - accuracy: 0.9995 - precision: 0.9205 - recall: 0.7523 - auc: 0.9562 - val_loss: 0.0039 - val_tp: 59.0000 - val_fp: 7.0000 - val_tn: 42631.0000 - val_fn: 25.0000 - val_accuracy: 0.9993 - val_precision: 0.8939 - val_recall: 0.7024 - val_auc: 0.9279\n",
      "Epoch 47/100\n",
      "98/98 [==============================] - 1s 13ms/step - loss: 0.0022 - tp: 245.0000 - fp: 23.0000 - tn: 199018.0000 - fn: 78.0000 - accuracy: 0.9995 - precision: 0.9142 - recall: 0.7585 - auc: 0.9562 - val_loss: 0.0040 - val_tp: 52.0000 - val_fp: 6.0000 - val_tn: 42632.0000 - val_fn: 32.0000 - val_accuracy: 0.9991 - val_precision: 0.8966 - val_recall: 0.6190 - val_auc: 0.9279\n",
      "Epoch 48/100\n",
      "98/98 [==============================] - 1s 13ms/step - loss: 0.0022 - tp: 246.0000 - fp: 21.0000 - tn: 199020.0000 - fn: 77.0000 - accuracy: 0.9995 - precision: 0.9213 - recall: 0.7616 - auc: 0.9562 - val_loss: 0.0039 - val_tp: 53.0000 - val_fp: 6.0000 - val_tn: 42632.0000 - val_fn: 31.0000 - val_accuracy: 0.9991 - val_precision: 0.8983 - val_recall: 0.6310 - val_auc: 0.9279\n",
      "Epoch 49/100\n",
      "98/98 [==============================] - 1s 13ms/step - loss: 0.0022 - tp: 246.0000 - fp: 19.0000 - tn: 199022.0000 - fn: 77.0000 - accuracy: 0.9995 - precision: 0.9283 - recall: 0.7616 - auc: 0.9562 - val_loss: 0.0039 - val_tp: 55.0000 - val_fp: 6.0000 - val_tn: 42632.0000 - val_fn: 29.0000 - val_accuracy: 0.9992 - val_precision: 0.9016 - val_recall: 0.6548 - val_auc: 0.9279\n",
      "Epoch 50/100\n",
      "98/98 [==============================] - 1s 12ms/step - loss: 0.0022 - tp: 250.0000 - fp: 20.0000 - tn: 199021.0000 - fn: 73.0000 - accuracy: 0.9995 - precision: 0.9259 - recall: 0.7740 - auc: 0.9562 - val_loss: 0.0040 - val_tp: 53.0000 - val_fp: 6.0000 - val_tn: 42632.0000 - val_fn: 31.0000 - val_accuracy: 0.9991 - val_precision: 0.8983 - val_recall: 0.6310 - val_auc: 0.9279\n",
      "Epoch 51/100\n",
      "98/98 [==============================] - 1s 13ms/step - loss: 0.0022 - tp: 248.0000 - fp: 22.0000 - tn: 199019.0000 - fn: 75.0000 - accuracy: 0.9995 - precision: 0.9185 - recall: 0.7678 - auc: 0.9562 - val_loss: 0.0040 - val_tp: 51.0000 - val_fp: 5.0000 - val_tn: 42633.0000 - val_fn: 33.0000 - val_accuracy: 0.9991 - val_precision: 0.9107 - val_recall: 0.6071 - val_auc: 0.9279\n",
      "Epoch 52/100\n",
      "98/98 [==============================] - 1s 13ms/step - loss: 0.0021 - tp: 251.0000 - fp: 21.0000 - tn: 199020.0000 - fn: 72.0000 - accuracy: 0.9995 - precision: 0.9228 - recall: 0.7771 - auc: 0.9562 - val_loss: 0.0039 - val_tp: 53.0000 - val_fp: 6.0000 - val_tn: 42632.0000 - val_fn: 31.0000 - val_accuracy: 0.9991 - val_precision: 0.8983 - val_recall: 0.6310 - val_auc: 0.9280\n",
      "Epoch 53/100\n",
      "98/98 [==============================] - 1s 13ms/step - loss: 0.0021 - tp: 248.0000 - fp: 22.0000 - tn: 199019.0000 - fn: 75.0000 - accuracy: 0.9995 - precision: 0.9185 - recall: 0.7678 - auc: 0.9562 - val_loss: 0.0039 - val_tp: 54.0000 - val_fp: 6.0000 - val_tn: 42632.0000 - val_fn: 30.0000 - val_accuracy: 0.9992 - val_precision: 0.9000 - val_recall: 0.6429 - val_auc: 0.9279\n",
      "Epoch 54/100\n",
      "98/98 [==============================] - 1s 13ms/step - loss: 0.0021 - tp: 249.0000 - fp: 16.0000 - tn: 199025.0000 - fn: 74.0000 - accuracy: 0.9995 - precision: 0.9396 - recall: 0.7709 - auc: 0.9578 - val_loss: 0.0039 - val_tp: 54.0000 - val_fp: 6.0000 - val_tn: 42632.0000 - val_fn: 30.0000 - val_accuracy: 0.9992 - val_precision: 0.9000 - val_recall: 0.6429 - val_auc: 0.9280\n",
      "Epoch 55/100\n",
      "98/98 [==============================] - 1s 13ms/step - loss: 0.0021 - tp: 247.0000 - fp: 17.0000 - tn: 199024.0000 - fn: 76.0000 - accuracy: 0.9995 - precision: 0.9356 - recall: 0.7647 - auc: 0.9593 - val_loss: 0.0039 - val_tp: 55.0000 - val_fp: 6.0000 - val_tn: 42632.0000 - val_fn: 29.0000 - val_accuracy: 0.9992 - val_precision: 0.9016 - val_recall: 0.6548 - val_auc: 0.9280\n",
      "Epoch 56/100\n",
      "98/98 [==============================] - 1s 13ms/step - loss: 0.0021 - tp: 256.0000 - fp: 16.0000 - tn: 199025.0000 - fn: 67.0000 - accuracy: 0.9996 - precision: 0.9412 - recall: 0.7926 - auc: 0.9593 - val_loss: 0.0039 - val_tp: 55.0000 - val_fp: 6.0000 - val_tn: 42632.0000 - val_fn: 29.0000 - val_accuracy: 0.9992 - val_precision: 0.9016 - val_recall: 0.6548 - val_auc: 0.9280\n",
      "Epoch 57/100\n",
      "98/98 [==============================] - 1s 13ms/step - loss: 0.0020 - tp: 255.0000 - fp: 19.0000 - tn: 199022.0000 - fn: 68.0000 - accuracy: 0.9996 - precision: 0.9307 - recall: 0.7895 - auc: 0.9593 - val_loss: 0.0038 - val_tp: 56.0000 - val_fp: 6.0000 - val_tn: 42632.0000 - val_fn: 28.0000 - val_accuracy: 0.9992 - val_precision: 0.9032 - val_recall: 0.6667 - val_auc: 0.9280\n",
      "Epoch 58/100\n",
      "98/98 [==============================] - 1s 13ms/step - loss: 0.0020 - tp: 255.0000 - fp: 18.0000 - tn: 199023.0000 - fn: 68.0000 - accuracy: 0.9996 - precision: 0.9341 - recall: 0.7895 - auc: 0.9593 - val_loss: 0.0039 - val_tp: 55.0000 - val_fp: 6.0000 - val_tn: 42632.0000 - val_fn: 29.0000 - val_accuracy: 0.9992 - val_precision: 0.9016 - val_recall: 0.6548 - val_auc: 0.9280\n",
      "Epoch 59/100\n",
      "98/98 [==============================] - 1s 13ms/step - loss: 0.0020 - tp: 256.0000 - fp: 16.0000 - tn: 199025.0000 - fn: 67.0000 - accuracy: 0.9996 - precision: 0.9412 - recall: 0.7926 - auc: 0.9594 - val_loss: 0.0039 - val_tp: 56.0000 - val_fp: 6.0000 - val_tn: 42632.0000 - val_fn: 28.0000 - val_accuracy: 0.9992 - val_precision: 0.9032 - val_recall: 0.6667 - val_auc: 0.9280\n",
      "Epoch 60/100\n",
      "98/98 [==============================] - 1s 13ms/step - loss: 0.0020 - tp: 257.0000 - fp: 16.0000 - tn: 199025.0000 - fn: 66.0000 - accuracy: 0.9996 - precision: 0.9414 - recall: 0.7957 - auc: 0.9593 - val_loss: 0.0038 - val_tp: 60.0000 - val_fp: 7.0000 - val_tn: 42631.0000 - val_fn: 24.0000 - val_accuracy: 0.9993 - val_precision: 0.8955 - val_recall: 0.7143 - val_auc: 0.9280\n",
      "Epoch 61/100\n",
      "98/98 [==============================] - 1s 13ms/step - loss: 0.0020 - tp: 257.0000 - fp: 21.0000 - tn: 199020.0000 - fn: 66.0000 - accuracy: 0.9996 - precision: 0.9245 - recall: 0.7957 - auc: 0.9609 - val_loss: 0.0041 - val_tp: 53.0000 - val_fp: 6.0000 - val_tn: 42632.0000 - val_fn: 31.0000 - val_accuracy: 0.9991 - val_precision: 0.8983 - val_recall: 0.6310 - val_auc: 0.9279\n",
      "Epoch 62/100\n",
      "98/98 [==============================] - 1s 14ms/step - loss: 0.0020 - tp: 254.0000 - fp: 14.0000 - tn: 199027.0000 - fn: 69.0000 - accuracy: 0.9996 - precision: 0.9478 - recall: 0.7864 - auc: 0.9609 - val_loss: 0.0038 - val_tp: 57.0000 - val_fp: 6.0000 - val_tn: 42632.0000 - val_fn: 27.0000 - val_accuracy: 0.9992 - val_precision: 0.9048 - val_recall: 0.6786 - val_auc: 0.9280\n",
      "Epoch 63/100\n",
      "98/98 [==============================] - 1s 14ms/step - loss: 0.0020 - tp: 254.0000 - fp: 19.0000 - tn: 199022.0000 - fn: 69.0000 - accuracy: 0.9996 - precision: 0.9304 - recall: 0.7864 - auc: 0.9609 - val_loss: 0.0039 - val_tp: 55.0000 - val_fp: 6.0000 - val_tn: 42632.0000 - val_fn: 29.0000 - val_accuracy: 0.9992 - val_precision: 0.9016 - val_recall: 0.6548 - val_auc: 0.9281\n"
     ]
    },
    {
     "name": "stdout",
     "output_type": "stream",
     "text": [
      "Epoch 64/100\n",
      "98/98 [==============================] - 1s 13ms/step - loss: 0.0019 - tp: 256.0000 - fp: 15.0000 - tn: 199026.0000 - fn: 67.0000 - accuracy: 0.9996 - precision: 0.9446 - recall: 0.7926 - auc: 0.9624 - val_loss: 0.0038 - val_tp: 56.0000 - val_fp: 6.0000 - val_tn: 42632.0000 - val_fn: 28.0000 - val_accuracy: 0.9992 - val_precision: 0.9032 - val_recall: 0.6667 - val_auc: 0.9281\n",
      "Epoch 65/100\n",
      "98/98 [==============================] - 1s 13ms/step - loss: 0.0019 - tp: 256.0000 - fp: 19.0000 - tn: 199022.0000 - fn: 67.0000 - accuracy: 0.9996 - precision: 0.9309 - recall: 0.7926 - auc: 0.9640 - val_loss: 0.0039 - val_tp: 54.0000 - val_fp: 6.0000 - val_tn: 42632.0000 - val_fn: 30.0000 - val_accuracy: 0.9992 - val_precision: 0.9000 - val_recall: 0.6429 - val_auc: 0.9281\n",
      "Epoch 66/100\n",
      "98/98 [==============================] - 1s 13ms/step - loss: 0.0019 - tp: 256.0000 - fp: 16.0000 - tn: 199025.0000 - fn: 67.0000 - accuracy: 0.9996 - precision: 0.9412 - recall: 0.7926 - auc: 0.9640 - val_loss: 0.0040 - val_tp: 52.0000 - val_fp: 4.0000 - val_tn: 42634.0000 - val_fn: 32.0000 - val_accuracy: 0.9992 - val_precision: 0.9286 - val_recall: 0.6190 - val_auc: 0.9281\n",
      "Epoch 67/100\n",
      "98/98 [==============================] - 1s 12ms/step - loss: 0.0019 - tp: 256.0000 - fp: 16.0000 - tn: 199025.0000 - fn: 67.0000 - accuracy: 0.9996 - precision: 0.9412 - recall: 0.7926 - auc: 0.9640 - val_loss: 0.0039 - val_tp: 56.0000 - val_fp: 6.0000 - val_tn: 42632.0000 - val_fn: 28.0000 - val_accuracy: 0.9992 - val_precision: 0.9032 - val_recall: 0.6667 - val_auc: 0.9281\n",
      "Epoch 68/100\n",
      "98/98 [==============================] - 1s 13ms/step - loss: 0.0019 - tp: 254.0000 - fp: 13.0000 - tn: 199028.0000 - fn: 69.0000 - accuracy: 0.9996 - precision: 0.9513 - recall: 0.7864 - auc: 0.9640 - val_loss: 0.0038 - val_tp: 59.0000 - val_fp: 6.0000 - val_tn: 42632.0000 - val_fn: 25.0000 - val_accuracy: 0.9993 - val_precision: 0.9077 - val_recall: 0.7024 - val_auc: 0.9281\n",
      "Epoch 69/100\n",
      "98/98 [==============================] - 1s 13ms/step - loss: 0.0019 - tp: 257.0000 - fp: 14.0000 - tn: 199027.0000 - fn: 66.0000 - accuracy: 0.9996 - precision: 0.9483 - recall: 0.7957 - auc: 0.9671 - val_loss: 0.0038 - val_tp: 62.0000 - val_fp: 7.0000 - val_tn: 42631.0000 - val_fn: 22.0000 - val_accuracy: 0.9993 - val_precision: 0.8986 - val_recall: 0.7381 - val_auc: 0.9280\n",
      "Epoch 70/100\n",
      "98/98 [==============================] - 1s 13ms/step - loss: 0.0019 - tp: 255.0000 - fp: 21.0000 - tn: 199020.0000 - fn: 68.0000 - accuracy: 0.9996 - precision: 0.9239 - recall: 0.7895 - auc: 0.9656 - val_loss: 0.0038 - val_tp: 61.0000 - val_fp: 6.0000 - val_tn: 42632.0000 - val_fn: 23.0000 - val_accuracy: 0.9993 - val_precision: 0.9104 - val_recall: 0.7262 - val_auc: 0.9281\n",
      "Epoch 71/100\n",
      "98/98 [==============================] - 1s 13ms/step - loss: 0.0018 - tp: 257.0000 - fp: 18.0000 - tn: 199023.0000 - fn: 66.0000 - accuracy: 0.9996 - precision: 0.9345 - recall: 0.7957 - auc: 0.9687 - val_loss: 0.0038 - val_tp: 59.0000 - val_fp: 6.0000 - val_tn: 42632.0000 - val_fn: 25.0000 - val_accuracy: 0.9993 - val_precision: 0.9077 - val_recall: 0.7024 - val_auc: 0.9281\n",
      "Epoch 72/100\n",
      "98/98 [==============================] - 1s 13ms/step - loss: 0.0018 - tp: 259.0000 - fp: 19.0000 - tn: 199022.0000 - fn: 64.0000 - accuracy: 0.9996 - precision: 0.9317 - recall: 0.8019 - auc: 0.9687 - val_loss: 0.0039 - val_tp: 56.0000 - val_fp: 6.0000 - val_tn: 42632.0000 - val_fn: 28.0000 - val_accuracy: 0.9992 - val_precision: 0.9032 - val_recall: 0.6667 - val_auc: 0.9281\n",
      "Epoch 73/100\n",
      "98/98 [==============================] - 1s 13ms/step - loss: 0.0018 - tp: 254.0000 - fp: 18.0000 - tn: 199023.0000 - fn: 69.0000 - accuracy: 0.9996 - precision: 0.9338 - recall: 0.7864 - auc: 0.9672 - val_loss: 0.0039 - val_tp: 56.0000 - val_fp: 6.0000 - val_tn: 42632.0000 - val_fn: 28.0000 - val_accuracy: 0.9992 - val_precision: 0.9032 - val_recall: 0.6667 - val_auc: 0.9281\n",
      "Epoch 74/100\n",
      "98/98 [==============================] - 1s 13ms/step - loss: 0.0018 - tp: 256.0000 - fp: 16.0000 - tn: 199025.0000 - fn: 67.0000 - accuracy: 0.9996 - precision: 0.9412 - recall: 0.7926 - auc: 0.9702 - val_loss: 0.0039 - val_tp: 61.0000 - val_fp: 7.0000 - val_tn: 42631.0000 - val_fn: 23.0000 - val_accuracy: 0.9993 - val_precision: 0.8971 - val_recall: 0.7262 - val_auc: 0.9281\n",
      "Epoch 75/100\n",
      "98/98 [==============================] - 1s 13ms/step - loss: 0.0018 - tp: 257.0000 - fp: 18.0000 - tn: 199023.0000 - fn: 66.0000 - accuracy: 0.9996 - precision: 0.9345 - recall: 0.7957 - auc: 0.9702 - val_loss: 0.0039 - val_tp: 59.0000 - val_fp: 6.0000 - val_tn: 42632.0000 - val_fn: 25.0000 - val_accuracy: 0.9993 - val_precision: 0.9077 - val_recall: 0.7024 - val_auc: 0.9281\n",
      "Epoch 76/100\n",
      "98/98 [==============================] - 1s 13ms/step - loss: 0.0018 - tp: 259.0000 - fp: 20.0000 - tn: 199021.0000 - fn: 64.0000 - accuracy: 0.9996 - precision: 0.9283 - recall: 0.8019 - auc: 0.9703 - val_loss: 0.0040 - val_tp: 56.0000 - val_fp: 6.0000 - val_tn: 42632.0000 - val_fn: 28.0000 - val_accuracy: 0.9992 - val_precision: 0.9032 - val_recall: 0.6667 - val_auc: 0.9281\n",
      "Epoch 77/100\n",
      "98/98 [==============================] - 1s 13ms/step - loss: 0.0018 - tp: 259.0000 - fp: 17.0000 - tn: 199024.0000 - fn: 64.0000 - accuracy: 0.9996 - precision: 0.9384 - recall: 0.8019 - auc: 0.9703 - val_loss: 0.0039 - val_tp: 61.0000 - val_fp: 6.0000 - val_tn: 42632.0000 - val_fn: 23.0000 - val_accuracy: 0.9993 - val_precision: 0.9104 - val_recall: 0.7262 - val_auc: 0.9280\n",
      "Epoch 78/100\n",
      "98/98 [==============================] - 1s 13ms/step - loss: 0.0018 - tp: 256.0000 - fp: 16.0000 - tn: 199025.0000 - fn: 67.0000 - accuracy: 0.9996 - precision: 0.9412 - recall: 0.7926 - auc: 0.9703 - val_loss: 0.0039 - val_tp: 63.0000 - val_fp: 7.0000 - val_tn: 42631.0000 - val_fn: 21.0000 - val_accuracy: 0.9993 - val_precision: 0.9000 - val_recall: 0.7500 - val_auc: 0.9281\n",
      "Epoch 79/100\n",
      "98/98 [==============================] - 1s 13ms/step - loss: 0.0018 - tp: 260.0000 - fp: 20.0000 - tn: 199021.0000 - fn: 63.0000 - accuracy: 0.9996 - precision: 0.9286 - recall: 0.8050 - auc: 0.9703 - val_loss: 0.0039 - val_tp: 60.0000 - val_fp: 6.0000 - val_tn: 42632.0000 - val_fn: 24.0000 - val_accuracy: 0.9993 - val_precision: 0.9091 - val_recall: 0.7143 - val_auc: 0.9281\n",
      "Epoch 80/100\n",
      "98/98 [==============================] - 1s 13ms/step - loss: 0.0017 - tp: 255.0000 - fp: 12.0000 - tn: 199029.0000 - fn: 68.0000 - accuracy: 0.9996 - precision: 0.9551 - recall: 0.7895 - auc: 0.9703 - val_loss: 0.0040 - val_tp: 57.0000 - val_fp: 6.0000 - val_tn: 42632.0000 - val_fn: 27.0000 - val_accuracy: 0.9992 - val_precision: 0.9048 - val_recall: 0.6786 - val_auc: 0.9281\n",
      "Epoch 81/100\n",
      "98/98 [==============================] - 1s 13ms/step - loss: 0.0017 - tp: 259.0000 - fp: 18.0000 - tn: 199023.0000 - fn: 64.0000 - accuracy: 0.9996 - precision: 0.9350 - recall: 0.8019 - auc: 0.9703 - val_loss: 0.0040 - val_tp: 58.0000 - val_fp: 5.0000 - val_tn: 42633.0000 - val_fn: 26.0000 - val_accuracy: 0.9993 - val_precision: 0.9206 - val_recall: 0.6905 - val_auc: 0.9280\n",
      "Epoch 82/100\n",
      "94/98 [===========================>..] - ETA: 0s - loss: 0.0017 - tp: 245.0000 - fp: 15.0000 - tn: 192187.0000 - fn: 65.0000 - accuracy: 0.9996 - precision: 0.9423 - recall: 0.7903 - auc: 0.9674Restoring model weights from the end of the best epoch.\n",
      "98/98 [==============================] - 1s 13ms/step - loss: 0.0017 - tp: 255.0000 - fp: 15.0000 - tn: 199026.0000 - fn: 68.0000 - accuracy: 0.9996 - precision: 0.9444 - recall: 0.7895 - auc: 0.9687 - val_loss: 0.0039 - val_tp: 60.0000 - val_fp: 6.0000 - val_tn: 42632.0000 - val_fn: 24.0000 - val_accuracy: 0.9993 - val_precision: 0.9091 - val_recall: 0.7143 - val_auc: 0.9281\n",
      "Epoch 00082: early stopping\n"
     ]
    }
   ],
   "source": [
    "EPOCHS = 100\n",
    "BATCH_SIZE = 2048\n",
    "\n",
    "# Define callback para parada\n",
    "early_stopping = tf.keras.callbacks.EarlyStopping(\n",
    "    monitor='val_auc',                                 #Variável a ser manipulada\n",
    "    verbose=1,                                         #Mostrar na tela (Verbose=1) | Não mostrar (Verbose=0)\n",
    "    patience=10,                                       #Número de épocas sem melhora\n",
    "    mode='max',\n",
    "restore_best_weights=True)                             #Retorna o resultado da melhor época\n",
    "\n",
    "# Treinamento da RN\n",
    "history = rna.fit(train_features, train_labels, epochs=EPOCHS, batch_size=BATCH_SIZE,\n",
    "validation_data=(val_features, val_labels), verbose=1, callbacks=[early_stopping])"
   ]
  },
  {
   "cell_type": "markdown",
   "id": "2418b1aa",
   "metadata": {},
   "source": [
    "## Teste da RNA com os exemplos de teste\n",
    "\n"
   ]
  },
  {
   "cell_type": "code",
   "execution_count": 37,
   "id": "3007453d",
   "metadata": {},
   "outputs": [
    {
     "data": {
      "text/plain": [
       "array([[8.5357160e-06],\n",
       "       [3.9982796e-04],\n",
       "       [5.2925944e-04],\n",
       "       [2.4044514e-04],\n",
       "       [1.4732974e-05],\n",
       "       [2.6261806e-04],\n",
       "       [4.2017932e-06],\n",
       "       [1.5985523e-05],\n",
       "       [3.4131957e-05],\n",
       "       [3.1759067e-05]], dtype=float32)"
      ]
     },
     "execution_count": 37,
     "metadata": {},
     "output_type": "execute_result"
    }
   ],
   "source": [
    "rna.predict(test_features[:10])"
   ]
  },
  {
   "cell_type": "markdown",
   "id": "5bea563b",
   "metadata": {},
   "source": [
    "## Análise dos resultados\n",
    "\n",
    "Vamos fazer os gráficos da função de custo e de algumas métricas dos resultados dos conjuntos de treinamento e validação. Eles são úteis para verificar se há \"overfitting\". \n"
   ]
  },
  {
   "cell_type": "code",
   "execution_count": 38,
   "id": "215e9363",
   "metadata": {},
   "outputs": [],
   "source": [
    "# Define função para fazer graficos de algumas métricas\n",
    "def plot_metrics(history):\n",
    "    metrics = ['loss', 'auc', 'precision', 'recall']\n",
    "    plt.figure(figsize=(12,8))\n",
    "\n",
    "    for n, metric in enumerate(metrics):\n",
    "        name = metric.replace(\"_\",\" \").capitalize()\n",
    "        plt.subplot(2,2,n+1)\n",
    "        plt.plot(history.epoch, history.history[metric], color=colors[0], label='Train')\n",
    "\n",
    "        plt.plot(history.epoch, history.history['val_'+metric],\n",
    "        color=colors[0], linestyle=\"--\", label='Val')\n",
    "        plt.xlabel('Epoch')\n",
    "        plt.ylabel(name)\n",
    "        if metric == 'loss':\n",
    "            plt.ylim([0, plt.ylim()[1]])\n",
    "        elif metric == 'auc':\n",
    "            plt.ylim([0.8,1])\n",
    "        else:\n",
    "            plt.ylim([0,1])\n",
    "            plt.legend()"
   ]
  },
  {
   "cell_type": "code",
   "execution_count": 39,
   "id": "f260b732",
   "metadata": {},
   "outputs": [
    {
     "data": {
      "image/png": "[encoded data removed]",
      "text/plain": [
       "<Figure size 864x576 with 4 Axes>"
      ]
     },
     "metadata": {
      "needs_background": "light"
     },
     "output_type": "display_data"
    }
   ],
   "source": [
    "plot_metrics(history)"
   ]
  },
  {
   "cell_type": "markdown",
   "id": "88be0541",
   "metadata": {},
   "source": [
    "## Avaliação dos resultados\n",
    "\n",
    "Vamos avaliar a RN com o conjunto de dados de teste e obter os resultados para as métricas que foram utilizadas."
   ]
  },
  {
   "cell_type": "code",
   "execution_count": 40,
   "id": "67fc23b6",
   "metadata": {},
   "outputs": [
    {
     "name": "stdout",
     "output_type": "stream",
     "text": [
      "Número de exemplos positivos do conjunto de teste = 85\n"
     ]
    }
   ],
   "source": [
    "print('Número de exemplos positivos do conjunto de teste =', len(test_labels[test_labels>0.9]))"
   ]
  },
  {
   "cell_type": "code",
   "execution_count": 41,
   "id": "7b704bf0",
   "metadata": {},
   "outputs": [
    {
     "name": "stdout",
     "output_type": "stream",
     "text": [
      "loss :  0.003901805030182004\n",
      "tp :  61.0\n",
      "fp :  1.0\n",
      "tn :  42635.0\n",
      "fn :  24.0\n",
      "accuracy :  0.9994148015975952\n",
      "precision :  0.9838709831237793\n",
      "recall :  0.7176470756530762\n",
      "auc :  0.9170202612876892\n",
      "\n"
     ]
    }
   ],
   "source": [
    "base_results = rna.evaluate(test_features, test_labels,\n",
    "batch_size=BATCH_SIZE, verbose=0)\n",
    "for name, value in zip(rna.metrics_names, base_results):\n",
    "    print(name, ': ', value)\n",
    "print()"
   ]
  },
  {
   "cell_type": "markdown",
   "id": "69c690de",
   "metadata": {},
   "source": [
    "## Cálculo da Pontuação F1"
   ]
  },
  {
   "attachments": {
    "f1.PNG": {
     "image/png": "[encoded data removed]"
    }
   },
   "cell_type": "markdown",
   "id": "f3058a60",
   "metadata": {},
   "source": [
    "![f1.PNG](attachment:f1.PNG)"
   ]
  },
  {
   "cell_type": "code",
   "execution_count": 42,
   "id": "b1ce47a8",
   "metadata": {},
   "outputs": [
    {
     "name": "stdout",
     "output_type": "stream",
     "text": [
      "Pontuação F1 =  0.9915819807425513\n"
     ]
    }
   ],
   "source": [
    "precision = base_results[5]                         #Precisão é o sexto elemento das métricas\n",
    "recall = base_results[6]                            #Precisão é o sétimo elemento das métricas\n",
    "F1 = 2*precision*recall/(precision + recall)\n",
    "print('Pontuação F1 = ', F1)"
   ]
  },
  {
   "cell_type": "markdown",
   "id": "36331ecc",
   "metadata": {},
   "source": [
    "## Matriz de confusão\n",
    "\n",
    "Podemos usar uma matriz de confusão para resumir as classes reais e previstas, onde o eixo horizontal é a\n",
    "classe prevista e o eixo vertical é a classe real."
   ]
  },
  {
   "cell_type": "code",
   "execution_count": 43,
   "id": "628e579e",
   "metadata": {},
   "outputs": [
    {
     "name": "stdout",
     "output_type": "stream",
     "text": [
      "Saídas de alguns exemplos de teste:\n",
      "[[8.5357160e-06]\n",
      " [3.9982796e-04]\n",
      " [5.2925944e-04]\n",
      " [2.4044514e-04]\n",
      " [1.4732974e-05]\n",
      " [2.6261806e-04]\n",
      " [4.2017932e-06]\n",
      " [1.5985523e-05]\n",
      " [3.4131957e-05]\n",
      " [3.1759067e-05]]\n"
     ]
    }
   ],
   "source": [
    "train_pred_base = rna.predict(train_features, batch_size=BATCH_SIZE)\n",
    "test_pred_base = rna.predict(test_features, batch_size=BATCH_SIZE)\n",
    "print('Saídas de alguns exemplos de teste:')\n",
    "print(test_pred_base[:10])"
   ]
  },
  {
   "cell_type": "code",
   "execution_count": 44,
   "id": "f649014e",
   "metadata": {},
   "outputs": [
    {
     "name": "stdout",
     "output_type": "stream",
     "text": [
      "Matriz de confusão:\n",
      " [[42635     1]\n",
      " [   24    61]]\n"
     ]
    },
    {
     "name": "stderr",
     "output_type": "stream",
     "text": [
      "<ipython-input-44-3184717bfa2a>:10: UserWarning: FixedFormatter should only be used together with FixedLocator\n",
      "  ax.set_xticklabels([''] + labels)\n",
      "<ipython-input-44-3184717bfa2a>:11: UserWarning: FixedFormatter should only be used together with FixedLocator\n",
      "  ax.set_yticklabels([''] + labels)\n"
     ]
    },
    {
     "data": {
      "text/plain": [
       "<Figure size 432x432 with 0 Axes>"
      ]
     },
     "metadata": {},
     "output_type": "display_data"
    },
    {
     "data": {
      "image/png": "[encoded data removed]",
      "text/plain": [
       "<Figure size 432x288 with 2 Axes>"
      ]
     },
     "metadata": {
      "needs_background": "light"
     },
     "output_type": "display_data"
    }
   ],
   "source": [
    "conf_mat = confusion_matrix(y_true=test_labels, y_pred=np.round(test_pred_base))\n",
    "print('Matriz de confusão:\\n', conf_mat)\n",
    "\n",
    "labels = ['Class 0', 'Class 1']\n",
    "plt.figure(figsize=(6,6))\n",
    "fig = plt.figure()\n",
    "ax = fig.add_subplot(111)\n",
    "cax = ax.matshow(conf_mat, cmap=plt.cm.Blues)\n",
    "fig.colorbar(cax)\n",
    "ax.set_xticklabels([''] + labels)\n",
    "ax.set_yticklabels([''] + labels)\n",
    "plt.xlabel('Previsto')\n",
    "plt.ylabel('Esperado')\n",
    "plt.show()"
   ]
  },
  {
   "cell_type": "markdown",
   "id": "6b5f9436",
   "metadata": {},
   "source": [
    "**Se o modelo tivesse previsto tudo perfeitamente, a matriz de confusão seria uma matriz diagonal com os valores fora da diagonal principal, indicando as previsões incorretas, iguais a zero. Nesse caso, a matriz mostra que se tem relativamente poucos falsos positivos, o que significa que havia relativamente poucas transações legítimas que foram sinalizadas incorretamente. No entanto, seria desejado ter menos falsos negativos, apesar do custo de aumentar o número de falsos positivos. Essa troca pode ser preferível porque os falsos negativos permitiriam a realização de transações fraudulentas, ao passo que os falsos positivos podem fazer com que um e-mail seja enviado a um cliente solicitando a verificação da atividade do cartão.**"
   ]
  },
  {
   "cell_type": "markdown",
   "id": "be476809",
   "metadata": {},
   "source": [
    "## Gráfico ROC\n",
    "\n",
    "Agora vamos fazer o gráfico do ROC. Este gráfico é útil porque mostra como varia o desempenho da RN em função do valor do limiar para considerar as classes dos exemplos."
   ]
  },
  {
   "cell_type": "code",
   "execution_count": 45,
   "id": "6c9fc270",
   "metadata": {},
   "outputs": [
    {
     "data": {
      "image/png": "[encoded data removed]",
      "text/plain": [
       "<Figure size 504x432 with 1 Axes>"
      ]
     },
     "metadata": {
      "needs_background": "light"
     },
     "output_type": "display_data"
    }
   ],
   "source": [
    "fp_train, tp_train, _ = sklearn.metrics.roc_curve(train_labels, train_pred_base)\n",
    "fp_test, tp_test, _ = sklearn.metrics.roc_curve(test_labels, test_pred_base)\n",
    "plt.figure(figsize=(7, 6))\n",
    "plt.plot(100*fp_train, 100*tp_train, 'b', label='Dados treinamento')\n",
    "plt.plot(100*fp_test, 100*tp_test, 'r', label='Dados teste')\n",
    "plt.xlabel('Positivos falsos [%]')\n",
    "plt.ylabel('Positivos verdadeiros [%]')\n",
    "plt.xlim([0,100])\n",
    "plt.ylim([80,100])\n",
    "plt.grid(True)\n",
    "ax = plt.gca()\n",
    "plt.legend(loc='lower right')\n",
    "plt.show()"
   ]
  },
  {
   "cell_type": "markdown",
   "id": "c395c683",
   "metadata": {},
   "source": [
    "**Observa-se que a precisão é relativamente alta, mas a revocação e a área sob a curva ROC (AUC) não são tão altas quanto se desejaria. Os classificadores geralmente enfrentam desafios ao tentar maximizar a precisão e a revocação, o que é especialmente verdadeiro quando se trabalha com conjuntos de dados desbalanceados.**\n",
    "\n",
    "**É importante considerar os custos dos diferentes tipos de erros no contexto do problema. Neste exemplo, um falso negativo (uma transação fraudulenta é perdida) pode ter um custo financeiro, enquanto um falso positivo (uma transação é sinalizada incorretamente como fraudulenta) pode prejudicar o relacionamento com o cliente.**"
   ]
  },
  {
   "cell_type": "markdown",
   "id": "a815e66b",
   "metadata": {},
   "source": [
    "## 6. Treinamento com pesos para cada classe\n",
    "\n",
    "## Calculo dos pesos das classes\n",
    "\n",
    "O objetivo é identificar transações fraudulentas, mas não se tem muitas desses exemplos positivos para\n",
    "trabalhar, então, uma solução é o classificador dar um peso maior para os poucos exemplos dessa classe que\n",
    "estão disponíveis. Pode-se fazer isso passando pesos para cada classe por meio de um parâmetro. Isso faz com\n",
    "que o modelo \"preste mais atenção\" aos exemplos de uma classe sub-representada."
   ]
  },
  {
   "cell_type": "code",
   "execution_count": 46,
   "id": "cce09c84",
   "metadata": {},
   "outputs": [
    {
     "name": "stdout",
     "output_type": "stream",
     "text": [
      "Peso da classe 0: 0.50\n",
      "Peso da classe 1: 289.44\n"
     ]
    }
   ],
   "source": [
    "# Cálculo dos pesos das duas classe\n",
    "weight_for_0 = (1 / neg)*(total)/2.0\n",
    "weight_for_1 = (1 / pos)*(total)/2.0\n",
    "\n",
    "# Dicionário de pesos das classes para treinamento\n",
    "class_weight = {0: weight_for_0, 1: weight_for_1}\n",
    "print('Peso da classe 0: {:.2f}'.format(weight_for_0))\n",
    "print('Peso da classe 1: {:.2f}'.format(weight_for_1))"
   ]
  },
  {
   "cell_type": "markdown",
   "id": "e67cb433",
   "metadata": {},
   "source": [
    "## Treinamento da RNA com pesos de classe\n",
    "Vamos treinar novamente a RN com pesos diferentes para cada classe e avaliar como isso afeta as previsões.\n",
    "\n",
    "**Importante:**\n",
    "- Usar class_weights muda o valor da função de custo. Isso pode afetar a estabilidade do treinamento dependendo do otimizador. Alguns otimizadores, tal como, momento e RMSProp podem falhar.\n",
    "\n",
    "- O otimizador usado é Adam, que é pouco afetado pela mudança de escala da função de custo.\n",
    "\n",
    "- Observe que devido à ponderação, as perdas totais não são comparáveis entre os dois modelos.\n"
   ]
  },
  {
   "cell_type": "code",
   "execution_count": 47,
   "id": "afcecab2",
   "metadata": {
    "scrolled": false
   },
   "outputs": [
    {
     "name": "stdout",
     "output_type": "stream",
     "text": [
      "Epoch 1/60\n",
      "98/98 [==============================] - 3s 32ms/step - loss: 0.6580 - tp: 304.0000 - fp: 87758.0000 - tn: 153919.0000 - fn: 104.0000 - accuracy: 0.6371 - precision: 0.0035 - recall: 0.7451 - auc: 0.7847 - val_loss: 0.5393 - val_tp: 73.0000 - val_fp: 11003.0000 - val_tn: 31635.0000 - val_fn: 11.0000 - val_accuracy: 0.7422 - val_precision: 0.0066 - val_recall: 0.8690 - val_auc: 0.9001\n",
      "Epoch 2/60\n",
      "98/98 [==============================] - 2s 16ms/step - loss: 0.3038 - tp: 289.0000 - fp: 22317.0000 - tn: 176724.0000 - fn: 34.0000 - accuracy: 0.8879 - precision: 0.0128 - recall: 0.8947 - auc: 0.9446 - val_loss: 0.3264 - val_tp: 73.0000 - val_fp: 1514.0000 - val_tn: 41124.0000 - val_fn: 11.0000 - val_accuracy: 0.9643 - val_precision: 0.0460 - val_recall: 0.8690 - val_auc: 0.9359\n",
      "Epoch 3/60\n",
      "98/98 [==============================] - 2s 17ms/step - loss: 0.2273 - tp: 289.0000 - fp: 4085.0000 - tn: 194956.0000 - fn: 34.0000 - accuracy: 0.9793 - precision: 0.0661 - recall: 0.8947 - auc: 0.9571 - val_loss: 0.2205 - val_tp: 75.0000 - val_fp: 641.0000 - val_tn: 41997.0000 - val_fn: 9.0000 - val_accuracy: 0.9848 - val_precision: 0.1047 - val_recall: 0.8929 - val_auc: 0.9611\n",
      "Epoch 4/60\n",
      "98/98 [==============================] - 2s 18ms/step - loss: 0.1883 - tp: 288.0000 - fp: 2874.0000 - tn: 196167.0000 - fn: 35.0000 - accuracy: 0.9854 - precision: 0.0911 - recall: 0.8916 - auc: 0.9678 - val_loss: 0.1757 - val_tp: 74.0000 - val_fp: 636.0000 - val_tn: 42002.0000 - val_fn: 10.0000 - val_accuracy: 0.9849 - val_precision: 0.1042 - val_recall: 0.8810 - val_auc: 0.9777\n",
      "Epoch 5/60\n",
      "98/98 [==============================] - 2s 21ms/step - loss: 0.1671 - tp: 288.0000 - fp: 2897.0000 - tn: 196144.0000 - fn: 35.0000 - accuracy: 0.9853 - precision: 0.0904 - recall: 0.8916 - auc: 0.9748 - val_loss: 0.1446 - val_tp: 74.0000 - val_fp: 589.0000 - val_tn: 42049.0000 - val_fn: 10.0000 - val_accuracy: 0.9860 - val_precision: 0.1116 - val_recall: 0.8810 - val_auc: 0.9785\n",
      "Epoch 6/60\n",
      "98/98 [==============================] - 2s 17ms/step - loss: 0.1527 - tp: 288.0000 - fp: 2883.0000 - tn: 196158.0000 - fn: 35.0000 - accuracy: 0.9854 - precision: 0.0908 - recall: 0.8916 - auc: 0.9808 - val_loss: 0.1295 - val_tp: 74.0000 - val_fp: 640.0000 - val_tn: 41998.0000 - val_fn: 10.0000 - val_accuracy: 0.9848 - val_precision: 0.1036 - val_recall: 0.8810 - val_auc: 0.9751\n",
      "Epoch 7/60\n",
      "98/98 [==============================] - 2s 16ms/step - loss: 0.1421 - tp: 292.0000 - fp: 3061.0000 - tn: 195980.0000 - fn: 31.0000 - accuracy: 0.9845 - precision: 0.0871 - recall: 0.9040 - auc: 0.9838 - val_loss: 0.1161 - val_tp: 73.0000 - val_fp: 617.0000 - val_tn: 42021.0000 - val_fn: 11.0000 - val_accuracy: 0.9853 - val_precision: 0.1058 - val_recall: 0.8690 - val_auc: 0.9752\n",
      "Epoch 8/60\n",
      "98/98 [==============================] - 1s 15ms/step - loss: 0.1340 - tp: 292.0000 - fp: 2781.0000 - tn: 196260.0000 - fn: 31.0000 - accuracy: 0.9859 - precision: 0.0950 - recall: 0.9040 - auc: 0.9856 - val_loss: 0.1119 - val_tp: 75.0000 - val_fp: 674.0000 - val_tn: 41964.0000 - val_fn: 9.0000 - val_accuracy: 0.9840 - val_precision: 0.1001 - val_recall: 0.8929 - val_auc: 0.9751\n",
      "Epoch 9/60\n",
      "98/98 [==============================] - 2s 15ms/step - loss: 0.1275 - tp: 295.0000 - fp: 3259.0000 - tn: 195782.0000 - fn: 28.0000 - accuracy: 0.9835 - precision: 0.0830 - recall: 0.9133 - auc: 0.9873 - val_loss: 0.1014 - val_tp: 74.0000 - val_fp: 626.0000 - val_tn: 42012.0000 - val_fn: 10.0000 - val_accuracy: 0.9851 - val_precision: 0.1057 - val_recall: 0.8810 - val_auc: 0.9750\n",
      "Epoch 10/60\n",
      "98/98 [==============================] - 2s 16ms/step - loss: 0.1220 - tp: 294.0000 - fp: 3076.0000 - tn: 195965.0000 - fn: 29.0000 - accuracy: 0.9844 - precision: 0.0872 - recall: 0.9102 - auc: 0.9889 - val_loss: 0.0962 - val_tp: 74.0000 - val_fp: 621.0000 - val_tn: 42017.0000 - val_fn: 10.0000 - val_accuracy: 0.9852 - val_precision: 0.1065 - val_recall: 0.8810 - val_auc: 0.9749\n",
      "Epoch 11/60\n",
      "98/98 [==============================] - 2s 16ms/step - loss: 0.1175 - tp: 298.0000 - fp: 3070.0000 - tn: 195971.0000 - fn: 25.0000 - accuracy: 0.9845 - precision: 0.0885 - recall: 0.9226 - auc: 0.9891 - val_loss: 0.0923 - val_tp: 74.0000 - val_fp: 618.0000 - val_tn: 42020.0000 - val_fn: 10.0000 - val_accuracy: 0.9853 - val_precision: 0.1069 - val_recall: 0.8810 - val_auc: 0.9755\n",
      "Epoch 12/60\n",
      "98/98 [==============================] - 2s 17ms/step - loss: 0.1130 - tp: 298.0000 - fp: 3110.0000 - tn: 195931.0000 - fn: 25.0000 - accuracy: 0.9843 - precision: 0.0874 - recall: 0.9226 - auc: 0.9905 - val_loss: 0.0894 - val_tp: 74.0000 - val_fp: 633.0000 - val_tn: 42005.0000 - val_fn: 10.0000 - val_accuracy: 0.9849 - val_precision: 0.1047 - val_recall: 0.8810 - val_auc: 0.9754\n",
      "Epoch 13/60\n",
      "98/98 [==============================] - 2s 15ms/step - loss: 0.1097 - tp: 299.0000 - fp: 2923.0000 - tn: 196118.0000 - fn: 24.0000 - accuracy: 0.9852 - precision: 0.0928 - recall: 0.9257 - auc: 0.9910 - val_loss: 0.0892 - val_tp: 74.0000 - val_fp: 674.0000 - val_tn: 41964.0000 - val_fn: 10.0000 - val_accuracy: 0.9840 - val_precision: 0.0989 - val_recall: 0.8810 - val_auc: 0.9750\n",
      "Epoch 14/60\n",
      "98/98 [==============================] - 2s 19ms/step - loss: 0.1059 - tp: 301.0000 - fp: 3052.0000 - tn: 195989.0000 - fn: 22.0000 - accuracy: 0.9846 - precision: 0.0898 - recall: 0.9319 - auc: 0.9917 - val_loss: 0.0842 - val_tp: 74.0000 - val_fp: 611.0000 - val_tn: 42027.0000 - val_fn: 10.0000 - val_accuracy: 0.9855 - val_precision: 0.1080 - val_recall: 0.8810 - val_auc: 0.9754\n",
      "Epoch 15/60\n",
      "98/98 [==============================] - 2s 20ms/step - loss: 0.1025 - tp: 301.0000 - fp: 3040.0000 - tn: 196001.0000 - fn: 22.0000 - accuracy: 0.9846 - precision: 0.0901 - recall: 0.9319 - auc: 0.9926 - val_loss: 0.0844 - val_tp: 74.0000 - val_fp: 651.0000 - val_tn: 41987.0000 - val_fn: 10.0000 - val_accuracy: 0.9845 - val_precision: 0.1021 - val_recall: 0.8810 - val_auc: 0.9757\n",
      "Epoch 16/60\n",
      "98/98 [==============================] - 2s 22ms/step - loss: 0.0998 - tp: 302.0000 - fp: 3106.0000 - tn: 195935.0000 - fn: 21.0000 - accuracy: 0.9843 - precision: 0.0886 - recall: 0.9350 - auc: 0.9932 - val_loss: 0.0807 - val_tp: 74.0000 - val_fp: 604.0000 - val_tn: 42034.0000 - val_fn: 10.0000 - val_accuracy: 0.9856 - val_precision: 0.1091 - val_recall: 0.8810 - val_auc: 0.9752104591.0000 - fn: 11.0000 - accuracy: 0.9835 - precision: 0.0803 - re\n",
      "Epoch 17/60\n",
      "98/98 [==============================] - 2s 19ms/step - loss: 0.0970 - tp: 302.0000 - fp: 2788.0000 - tn: 196253.0000 - fn: 21.0000 - accuracy: 0.9859 - precision: 0.0977 - recall: 0.9350 - auc: 0.9936 - val_loss: 0.0820 - val_tp: 74.0000 - val_fp: 662.0000 - val_tn: 41976.0000 - val_fn: 10.0000 - val_accuracy: 0.9843 - val_precision: 0.1005 - val_recall: 0.8810 - val_auc: 0.9753\n",
      "Epoch 18/60\n",
      "98/98 [==============================] - 2s 21ms/step - loss: 0.0937 - tp: 303.0000 - fp: 2883.0000 - tn: 196158.0000 - fn: 20.0000 - accuracy: 0.9854 - precision: 0.0951 - recall: 0.9381 - auc: 0.9942 - val_loss: 0.0761 - val_tp: 74.0000 - val_fp: 573.0000 - val_tn: 42065.0000 - val_fn: 10.0000 - val_accuracy: 0.9864 - val_precision: 0.1144 - val_recall: 0.8810 - val_auc: 0.9756\n",
      "Epoch 19/60\n",
      "98/98 [==============================] - 2s 21ms/step - loss: 0.0911 - tp: 304.0000 - fp: 2697.0000 - tn: 196344.0000 - fn: 19.0000 - accuracy: 0.9864 - precision: 0.1013 - recall: 0.9412 - auc: 0.9950 - val_loss: 0.0773 - val_tp: 74.0000 - val_fp: 594.0000 - val_tn: 42044.0000 - val_fn: 10.0000 - val_accuracy: 0.9859 - val_precision: 0.1108 - val_recall: 0.8810 - val_auc: 0.9762\n",
      "Epoch 20/60\n",
      "98/98 [==============================] - 2s 20ms/step - loss: 0.0890 - tp: 305.0000 - fp: 3397.0000 - tn: 195644.0000 - fn: 18.0000 - accuracy: 0.9829 - precision: 0.0824 - recall: 0.9443 - auc: 0.9952 - val_loss: 0.0718 - val_tp: 74.0000 - val_fp: 551.0000 - val_tn: 42087.0000 - val_fn: 10.0000 - val_accuracy: 0.9869 - val_precision: 0.1184 - val_recall: 0.8810 - val_auc: 0.9752\n",
      "Epoch 21/60\n",
      "98/98 [==============================] - 2s 20ms/step - loss: 0.0865 - tp: 305.0000 - fp: 2596.0000 - tn: 196445.0000 - fn: 18.0000 - accuracy: 0.9869 - precision: 0.1051 - recall: 0.9443 - auc: 0.9957 - val_loss: 0.0688 - val_tp: 74.0000 - val_fp: 491.0000 - val_tn: 42147.0000 - val_fn: 10.0000 - val_accuracy: 0.9883 - val_precision: 0.1310 - val_recall: 0.8810 - val_auc: 0.9754\n"
     ]
    },
    {
     "name": "stdout",
     "output_type": "stream",
     "text": [
      "Epoch 22/60\n",
      "98/98 [==============================] - 2s 17ms/step - loss: 0.0844 - tp: 305.0000 - fp: 3218.0000 - tn: 195823.0000 - fn: 18.0000 - accuracy: 0.9838 - precision: 0.0866 - recall: 0.9443 - auc: 0.9959 - val_loss: 0.0726 - val_tp: 74.0000 - val_fp: 585.0000 - val_tn: 42053.0000 - val_fn: 10.0000 - val_accuracy: 0.9861 - val_precision: 0.1123 - val_recall: 0.8810 - val_auc: 0.9758\n",
      "Epoch 23/60\n",
      "98/98 [==============================] - 2s 21ms/step - loss: 0.0816 - tp: 306.0000 - fp: 2709.0000 - tn: 196332.0000 - fn: 17.0000 - accuracy: 0.9863 - precision: 0.1015 - recall: 0.9474 - auc: 0.9963 - val_loss: 0.0694 - val_tp: 74.0000 - val_fp: 550.0000 - val_tn: 42088.0000 - val_fn: 10.0000 - val_accuracy: 0.9869 - val_precision: 0.1186 - val_recall: 0.8810 - val_auc: 0.9758\n",
      "Epoch 24/60\n",
      "98/98 [==============================] - 2s 18ms/step - loss: 0.0797 - tp: 305.0000 - fp: 2800.0000 - tn: 196241.0000 - fn: 18.0000 - accuracy: 0.9859 - precision: 0.0982 - recall: 0.9443 - auc: 0.9967 - val_loss: 0.0687 - val_tp: 74.0000 - val_fp: 553.0000 - val_tn: 42085.0000 - val_fn: 10.0000 - val_accuracy: 0.9868 - val_precision: 0.1180 - val_recall: 0.8810 - val_auc: 0.9760\n",
      "Epoch 25/60\n",
      "98/98 [==============================] - 2s 17ms/step - loss: 0.0775 - tp: 305.0000 - fp: 2747.0000 - tn: 196294.0000 - fn: 18.0000 - accuracy: 0.9861 - precision: 0.0999 - recall: 0.9443 - auc: 0.9968 - val_loss: 0.0637 - val_tp: 74.0000 - val_fp: 494.0000 - val_tn: 42144.0000 - val_fn: 10.0000 - val_accuracy: 0.9882 - val_precision: 0.1303 - val_recall: 0.8810 - val_auc: 0.9741\n",
      "Epoch 26/60\n",
      "98/98 [==============================] - 2s 18ms/step - loss: 0.0763 - tp: 306.0000 - fp: 2749.0000 - tn: 196292.0000 - fn: 17.0000 - accuracy: 0.9861 - precision: 0.1002 - recall: 0.9474 - auc: 0.9969 - val_loss: 0.0665 - val_tp: 75.0000 - val_fp: 585.0000 - val_tn: 42053.0000 - val_fn: 9.0000 - val_accuracy: 0.9861 - val_precision: 0.1136 - val_recall: 0.8929 - val_auc: 0.9742\n",
      "Epoch 27/60\n",
      "98/98 [==============================] - 2s 17ms/step - loss: 0.0742 - tp: 308.0000 - fp: 2798.0000 - tn: 196243.0000 - fn: 15.0000 - accuracy: 0.9859 - precision: 0.0992 - recall: 0.9536 - auc: 0.9973 - val_loss: 0.0654 - val_tp: 74.0000 - val_fp: 556.0000 - val_tn: 42082.0000 - val_fn: 10.0000 - val_accuracy: 0.9868 - val_precision: 0.1175 - val_recall: 0.8810 - val_auc: 0.9742\n",
      "Epoch 28/60\n",
      "98/98 [==============================] - 2s 18ms/step - loss: 0.0718 - tp: 308.0000 - fp: 3018.0000 - tn: 196023.0000 - fn: 15.0000 - accuracy: 0.9848 - precision: 0.0926 - recall: 0.9536 - auc: 0.9974 - val_loss: 0.0597 - val_tp: 74.0000 - val_fp: 456.0000 - val_tn: 42182.0000 - val_fn: 10.0000 - val_accuracy: 0.9891 - val_precision: 0.1396 - val_recall: 0.8810 - val_auc: 0.9744\n",
      "Epoch 29/60\n",
      "98/98 [==============================] - 2s 21ms/step - loss: 0.0704 - tp: 308.0000 - fp: 2686.0000 - tn: 196355.0000 - fn: 15.0000 - accuracy: 0.9865 - precision: 0.1029 - recall: 0.9536 - auc: 0.9976 - val_loss: 0.0595 - val_tp: 74.0000 - val_fp: 474.0000 - val_tn: 42164.0000 - val_fn: 10.0000 - val_accuracy: 0.9887 - val_precision: 0.1350 - val_recall: 0.8810 - val_auc: 0.974466.0000 - fn: 14.0000 - accuracy: 0.9861 - precision: 0.1006 - recall: 0.9493 - a\n",
      "Epoch 30/60\n",
      "98/98 [==============================] - 2s 20ms/step - loss: 0.0688 - tp: 308.0000 - fp: 2625.0000 - tn: 196416.0000 - fn: 15.0000 - accuracy: 0.9868 - precision: 0.1050 - recall: 0.9536 - auc: 0.9977 - val_loss: 0.0615 - val_tp: 75.0000 - val_fp: 548.0000 - val_tn: 42090.0000 - val_fn: 9.0000 - val_accuracy: 0.9870 - val_precision: 0.1204 - val_recall: 0.8929 - val_auc: 0.9746\n",
      "Epoch 31/60\n",
      "98/98 [==============================] - 2s 23ms/step - loss: 0.0670 - tp: 309.0000 - fp: 2694.0000 - tn: 196347.0000 - fn: 14.0000 - accuracy: 0.9864 - precision: 0.1029 - recall: 0.9567 - auc: 0.9979 - val_loss: 0.0604 - val_tp: 74.0000 - val_fp: 530.0000 - val_tn: 42108.0000 - val_fn: 10.0000 - val_accuracy: 0.9874 - val_precision: 0.1225 - val_recall: 0.8810 - val_auc: 0.9744\n",
      "Epoch 32/60\n",
      "98/98 [==============================] - 2s 17ms/step - loss: 0.0657 - tp: 310.0000 - fp: 2567.0000 - tn: 196474.0000 - fn: 13.0000 - accuracy: 0.9871 - precision: 0.1078 - recall: 0.9598 - auc: 0.9980 - val_loss: 0.0600 - val_tp: 75.0000 - val_fp: 559.0000 - val_tn: 42079.0000 - val_fn: 9.0000 - val_accuracy: 0.9867 - val_precision: 0.1183 - val_recall: 0.8929 - val_auc: 0.9745\n",
      "Epoch 33/60\n",
      "98/98 [==============================] - 1s 15ms/step - loss: 0.0633 - tp: 312.0000 - fp: 2786.0000 - tn: 196255.0000 - fn: 11.0000 - accuracy: 0.9860 - precision: 0.1007 - recall: 0.9659 - auc: 0.9981 - val_loss: 0.0551 - val_tp: 74.0000 - val_fp: 477.0000 - val_tn: 42161.0000 - val_fn: 10.0000 - val_accuracy: 0.9886 - val_precision: 0.1343 - val_recall: 0.8810 - val_auc: 0.9748\n",
      "Epoch 34/60\n",
      "98/98 [==============================] - 1s 14ms/step - loss: 0.0625 - tp: 310.0000 - fp: 2281.0000 - tn: 196760.0000 - fn: 13.0000 - accuracy: 0.9885 - precision: 0.1196 - recall: 0.9598 - auc: 0.9982 - val_loss: 0.0567 - val_tp: 75.0000 - val_fp: 507.0000 - val_tn: 42131.0000 - val_fn: 9.0000 - val_accuracy: 0.9879 - val_precision: 0.1289 - val_recall: 0.8929 - val_auc: 0.9750\n",
      "Epoch 35/60\n",
      "98/98 [==============================] - 1s 14ms/step - loss: 0.0602 - tp: 312.0000 - fp: 2801.0000 - tn: 196240.0000 - fn: 11.0000 - accuracy: 0.9859 - precision: 0.1002 - recall: 0.9659 - auc: 0.9984 - val_loss: 0.0585 - val_tp: 75.0000 - val_fp: 583.0000 - val_tn: 42055.0000 - val_fn: 9.0000 - val_accuracy: 0.9861 - val_precision: 0.1140 - val_recall: 0.8929 - val_auc: 0.9748\n",
      "Epoch 36/60\n",
      "98/98 [==============================] - 1s 14ms/step - loss: 0.0592 - tp: 311.0000 - fp: 2672.0000 - tn: 196369.0000 - fn: 12.0000 - accuracy: 0.9865 - precision: 0.1043 - recall: 0.9628 - auc: 0.9984 - val_loss: 0.0543 - val_tp: 75.0000 - val_fp: 507.0000 - val_tn: 42131.0000 - val_fn: 9.0000 - val_accuracy: 0.9879 - val_precision: 0.1289 - val_recall: 0.8929 - val_auc: 0.9748\n",
      "Epoch 37/60\n",
      "98/98 [==============================] - 1s 14ms/step - loss: 0.0576 - tp: 312.0000 - fp: 2808.0000 - tn: 196233.0000 - fn: 11.0000 - accuracy: 0.9859 - precision: 0.1000 - recall: 0.9659 - auc: 0.9985 - val_loss: 0.0518 - val_tp: 75.0000 - val_fp: 481.0000 - val_tn: 42157.0000 - val_fn: 9.0000 - val_accuracy: 0.9885 - val_precision: 0.1349 - val_recall: 0.8929 - val_auc: 0.9746\n",
      "Epoch 38/60\n",
      "98/98 [==============================] - 1s 14ms/step - loss: 0.0564 - tp: 313.0000 - fp: 2620.0000 - tn: 196421.0000 - fn: 10.0000 - accuracy: 0.9868 - precision: 0.1067 - recall: 0.9690 - auc: 0.9986 - val_loss: 0.0519 - val_tp: 75.0000 - val_fp: 491.0000 - val_tn: 42147.0000 - val_fn: 9.0000 - val_accuracy: 0.9883 - val_precision: 0.1325 - val_recall: 0.8929 - val_auc: 0.9751\n",
      "Epoch 39/60\n",
      "98/98 [==============================] - 1s 13ms/step - loss: 0.0543 - tp: 314.0000 - fp: 2653.0000 - tn: 196388.0000 - fn: 9.0000 - accuracy: 0.9866 - precision: 0.1058 - recall: 0.9721 - auc: 0.9986 - val_loss: 0.0489 - val_tp: 75.0000 - val_fp: 472.0000 - val_tn: 42166.0000 - val_fn: 9.0000 - val_accuracy: 0.9887 - val_precision: 0.1371 - val_recall: 0.8929 - val_auc: 0.9749\n",
      "Epoch 40/60\n",
      "98/98 [==============================] - 1s 13ms/step - loss: 0.0536 - tp: 314.0000 - fp: 2403.0000 - tn: 196638.0000 - fn: 9.0000 - accuracy: 0.9879 - precision: 0.1156 - recall: 0.9721 - auc: 0.9988 - val_loss: 0.0521 - val_tp: 75.0000 - val_fp: 511.0000 - val_tn: 42127.0000 - val_fn: 9.0000 - val_accuracy: 0.9878 - val_precision: 0.1280 - val_recall: 0.8929 - val_auc: 0.9747\n",
      "Epoch 41/60\n",
      "98/98 [==============================] - 1s 14ms/step - loss: 0.0525 - tp: 313.0000 - fp: 2444.0000 - tn: 196597.0000 - fn: 10.0000 - accuracy: 0.9877 - precision: 0.1135 - recall: 0.9690 - auc: 0.9987 - val_loss: 0.0484 - val_tp: 75.0000 - val_fp: 478.0000 - val_tn: 42160.0000 - val_fn: 9.0000 - val_accuracy: 0.9886 - val_precision: 0.1356 - val_recall: 0.8929 - val_auc: 0.9750\n",
      "Epoch 42/60\n",
      "98/98 [==============================] - 1s 14ms/step - loss: 0.0512 - tp: 317.0000 - fp: 2613.0000 - tn: 196428.0000 - fn: 6.0000 - accuracy: 0.9869 - precision: 0.1082 - recall: 0.9814 - auc: 0.9988 - val_loss: 0.0516 - val_tp: 75.0000 - val_fp: 527.0000 - val_tn: 42111.0000 - val_fn: 9.0000 - val_accuracy: 0.9875 - val_precision: 0.1246 - val_recall: 0.8929 - val_auc: 0.9746\n"
     ]
    },
    {
     "name": "stdout",
     "output_type": "stream",
     "text": [
      "Epoch 43/60\n",
      "98/98 [==============================] - 1s 14ms/step - loss: 0.0496 - tp: 314.0000 - fp: 2562.0000 - tn: 196479.0000 - fn: 9.0000 - accuracy: 0.9871 - precision: 0.1092 - recall: 0.9721 - auc: 0.9989 - val_loss: 0.0508 - val_tp: 75.0000 - val_fp: 536.0000 - val_tn: 42102.0000 - val_fn: 9.0000 - val_accuracy: 0.9872 - val_precision: 0.1227 - val_recall: 0.8929 - val_auc: 0.9749\n",
      "Epoch 44/60\n",
      "98/98 [==============================] - 2s 22ms/step - loss: 0.0486 - tp: 315.0000 - fp: 2667.0000 - tn: 196374.0000 - fn: 8.0000 - accuracy: 0.9866 - precision: 0.1056 - recall: 0.9752 - auc: 0.9989 - val_loss: 0.0469 - val_tp: 75.0000 - val_fp: 487.0000 - val_tn: 42151.0000 - val_fn: 9.0000 - val_accuracy: 0.9884 - val_precision: 0.1335 - val_recall: 0.8929 - val_auc: 0.9750\n",
      "Epoch 45/60\n",
      "98/98 [==============================] - 2s 17ms/step - loss: 0.0475 - tp: 315.0000 - fp: 2471.0000 - tn: 196570.0000 - fn: 8.0000 - accuracy: 0.9876 - precision: 0.1131 - recall: 0.9752 - auc: 0.9990 - val_loss: 0.0472 - val_tp: 75.0000 - val_fp: 504.0000 - val_tn: 42134.0000 - val_fn: 9.0000 - val_accuracy: 0.9880 - val_precision: 0.1295 - val_recall: 0.8929 - val_auc: 0.9751\n",
      "Epoch 46/60\n",
      "98/98 [==============================] - 2s 16ms/step - loss: 0.0460 - tp: 316.0000 - fp: 2822.0000 - tn: 196219.0000 - fn: 7.0000 - accuracy: 0.9858 - precision: 0.1007 - recall: 0.9783 - auc: 0.9990 - val_loss: 0.0443 - val_tp: 75.0000 - val_fp: 460.0000 - val_tn: 42178.0000 - val_fn: 9.0000 - val_accuracy: 0.9890 - val_precision: 0.1402 - val_recall: 0.8929 - val_auc: 0.9743\n",
      "Epoch 47/60\n",
      "98/98 [==============================] - 2s 19ms/step - loss: 0.0452 - tp: 315.0000 - fp: 2343.0000 - tn: 196698.0000 - fn: 8.0000 - accuracy: 0.9882 - precision: 0.1185 - recall: 0.9752 - auc: 0.9991 - val_loss: 0.0455 - val_tp: 75.0000 - val_fp: 493.0000 - val_tn: 42145.0000 - val_fn: 9.0000 - val_accuracy: 0.9882 - val_precision: 0.1320 - val_recall: 0.8929 - val_auc: 0.9748\n",
      "Epoch 48/60\n",
      "98/98 [==============================] - 2s 20ms/step - loss: 0.0438 - tp: 317.0000 - fp: 2502.0000 - tn: 196539.0000 - fn: 6.0000 - accuracy: 0.9874 - precision: 0.1125 - recall: 0.9814 - auc: 0.9991 - val_loss: 0.0443 - val_tp: 75.0000 - val_fp: 488.0000 - val_tn: 42150.0000 - val_fn: 9.0000 - val_accuracy: 0.9884 - val_precision: 0.1332 - val_recall: 0.8929 - val_auc: 0.9746\n",
      "Epoch 49/60\n",
      "98/98 [==============================] - 2s 22ms/step - loss: 0.0428 - tp: 316.0000 - fp: 2486.0000 - tn: 196555.0000 - fn: 7.0000 - accuracy: 0.9875 - precision: 0.1128 - recall: 0.9783 - auc: 0.9991 - val_loss: 0.0414 - val_tp: 75.0000 - val_fp: 455.0000 - val_tn: 42183.0000 - val_fn: 9.0000 - val_accuracy: 0.9891 - val_precision: 0.1415 - val_recall: 0.8929 - val_auc: 0.9748\n",
      "Epoch 50/60\n",
      "98/98 [==============================] - 2s 17ms/step - loss: 0.0424 - tp: 317.0000 - fp: 2500.0000 - tn: 196541.0000 - fn: 6.0000 - accuracy: 0.9874 - precision: 0.1125 - recall: 0.9814 - auc: 0.9992 - val_loss: 0.0394 - val_tp: 75.0000 - val_fp: 432.0000 - val_tn: 42206.0000 - val_fn: 9.0000 - val_accuracy: 0.9897 - val_precision: 0.1479 - val_recall: 0.8929 - val_auc: 0.9743\n",
      "Epoch 51/60\n",
      "98/98 [==============================] - 2s 17ms/step - loss: 0.0410 - tp: 318.0000 - fp: 2285.0000 - tn: 196756.0000 - fn: 5.0000 - accuracy: 0.9885 - precision: 0.1222 - recall: 0.9845 - auc: 0.9992 - val_loss: 0.0409 - val_tp: 75.0000 - val_fp: 460.0000 - val_tn: 42178.0000 - val_fn: 9.0000 - val_accuracy: 0.9890 - val_precision: 0.1402 - val_recall: 0.8929 - val_auc: 0.9744\n",
      "Epoch 52/60\n",
      "98/98 [==============================] - 2s 18ms/step - loss: 0.0400 - tp: 318.0000 - fp: 2236.0000 - tn: 196805.0000 - fn: 5.0000 - accuracy: 0.9888 - precision: 0.1245 - recall: 0.9845 - auc: 0.9992 - val_loss: 0.0429 - val_tp: 75.0000 - val_fp: 516.0000 - val_tn: 42122.0000 - val_fn: 9.0000 - val_accuracy: 0.9877 - val_precision: 0.1269 - val_recall: 0.8929 - val_auc: 0.9752\n",
      "Epoch 53/60\n",
      "98/98 [==============================] - 2s 19ms/step - loss: 0.0394 - tp: 319.0000 - fp: 2374.0000 - tn: 196667.0000 - fn: 4.0000 - accuracy: 0.9881 - precision: 0.1185 - recall: 0.9876 - auc: 0.9992 - val_loss: 0.0397 - val_tp: 75.0000 - val_fp: 462.0000 - val_tn: 42176.0000 - val_fn: 9.0000 - val_accuracy: 0.9890 - val_precision: 0.1397 - val_recall: 0.8929 - val_auc: 0.9742\n",
      "Epoch 54/60\n",
      "98/98 [==============================] - 2s 15ms/step - loss: 0.0381 - tp: 318.0000 - fp: 2359.0000 - tn: 196682.0000 - fn: 5.0000 - accuracy: 0.9881 - precision: 0.1188 - recall: 0.9845 - auc: 0.9993 - val_loss: 0.0401 - val_tp: 75.0000 - val_fp: 472.0000 - val_tn: 42166.0000 - val_fn: 9.0000 - val_accuracy: 0.9887 - val_precision: 0.1371 - val_recall: 0.8929 - val_auc: 0.9747\n",
      "Epoch 55/60\n",
      "98/98 [==============================] - 2s 16ms/step - loss: 0.0375 - tp: 318.0000 - fp: 2132.0000 - tn: 196909.0000 - fn: 5.0000 - accuracy: 0.9893 - precision: 0.1298 - recall: 0.9845 - auc: 0.9993 - val_loss: 0.0394 - val_tp: 75.0000 - val_fp: 469.0000 - val_tn: 42169.0000 - val_fn: 9.0000 - val_accuracy: 0.9888 - val_precision: 0.1379 - val_recall: 0.8929 - val_auc: 0.9751\n",
      "Epoch 56/60\n",
      "98/98 [==============================] - 2s 16ms/step - loss: 0.0375 - tp: 319.0000 - fp: 2306.0000 - tn: 196735.0000 - fn: 4.0000 - accuracy: 0.9884 - precision: 0.1215 - recall: 0.9876 - auc: 0.9993 - val_loss: 0.0414 - val_tp: 75.0000 - val_fp: 492.0000 - val_tn: 42146.0000 - val_fn: 9.0000 - val_accuracy: 0.9883 - val_precision: 0.1323 - val_recall: 0.8929 - val_auc: 0.9746\n",
      "Epoch 57/60\n",
      "98/98 [==============================] - 2s 16ms/step - loss: 0.0366 - tp: 319.0000 - fp: 2273.0000 - tn: 196768.0000 - fn: 4.0000 - accuracy: 0.9886 - precision: 0.1231 - recall: 0.9876 - auc: 0.9993 - val_loss: 0.0410 - val_tp: 75.0000 - val_fp: 500.0000 - val_tn: 42138.0000 - val_fn: 9.0000 - val_accuracy: 0.9881 - val_precision: 0.1304 - val_recall: 0.8929 - val_auc: 0.9746\n",
      "Epoch 58/60\n",
      "98/98 [==============================] - 1s 15ms/step - loss: 0.0354 - tp: 319.0000 - fp: 2221.0000 - tn: 196820.0000 - fn: 4.0000 - accuracy: 0.9888 - precision: 0.1256 - recall: 0.9876 - auc: 0.9994 - val_loss: 0.0375 - val_tp: 75.0000 - val_fp: 444.0000 - val_tn: 42194.0000 - val_fn: 9.0000 - val_accuracy: 0.9894 - val_precision: 0.1445 - val_recall: 0.8929 - val_auc: 0.9747\n",
      "Epoch 59/60\n",
      "98/98 [==============================] - 1s 15ms/step - loss: 0.0348 - tp: 321.0000 - fp: 2224.0000 - tn: 196817.0000 - fn: 2.0000 - accuracy: 0.9888 - precision: 0.1261 - recall: 0.9938 - auc: 0.9994 - val_loss: 0.0358 - val_tp: 74.0000 - val_fp: 422.0000 - val_tn: 42216.0000 - val_fn: 10.0000 - val_accuracy: 0.9899 - val_precision: 0.1492 - val_recall: 0.8810 - val_auc: 0.9741\n",
      "Epoch 60/60\n",
      "98/98 [==============================] - 1s 13ms/step - loss: 0.0338 - tp: 319.0000 - fp: 2178.0000 - tn: 196863.0000 - fn: 4.0000 - accuracy: 0.9891 - precision: 0.1278 - recall: 0.9876 - auc: 0.9994 - val_loss: 0.0367 - val_tp: 75.0000 - val_fp: 452.0000 - val_tn: 42186.0000 - val_fn: 9.0000 - val_accuracy: 0.9892 - val_precision: 0.1423 - val_recall: 0.8929 - val_auc: 0.9751\n"
     ]
    }
   ],
   "source": [
    "rna_pond = make_model(METRICS, features_shape)\n",
    "pond_history = rna_pond.fit(train_features, train_labels, batch_size=BATCH_SIZE,\n",
    "epochs=60,\n",
    "#callbacks = [early_stopping],\n",
    "validation_data=(val_features, val_labels),\n",
    "# Pesos das classes\n",
    "class_weight=class_weight)"
   ]
  },
  {
   "cell_type": "markdown",
   "id": "5c1ab985",
   "metadata": {},
   "source": [
    "## Visualização da função de custo e das métricas"
   ]
  },
  {
   "cell_type": "code",
   "execution_count": 48,
   "id": "53fec0de",
   "metadata": {},
   "outputs": [
    {
     "data": {
      "image/png": "[encoded data removed]",
      "text/plain": [
       "<Figure size 864x576 with 4 Axes>"
      ]
     },
     "metadata": {
      "needs_background": "light"
     },
     "output_type": "display_data"
    }
   ],
   "source": [
    "plot_metrics(pond_history)"
   ]
  },
  {
   "cell_type": "markdown",
   "id": "18ecee97",
   "metadata": {},
   "source": [
    "Observa-se pelo gráfico da função de custo que está ocorrendo \"overfitting\"."
   ]
  },
  {
   "cell_type": "markdown",
   "id": "3fcf54d1",
   "metadata": {},
   "source": [
    "## Avaliação das métricas"
   ]
  },
  {
   "cell_type": "code",
   "execution_count": 49,
   "id": "64e97431",
   "metadata": {},
   "outputs": [],
   "source": [
    "train_pred_pond = rna_pond.predict(train_features, batch_size=BATCH_SIZE)\n",
    "test_pred_pond = rna_pond.predict(test_features, batch_size=BATCH_SIZE)"
   ]
  },
  {
   "cell_type": "code",
   "execution_count": 51,
   "id": "802175bb",
   "metadata": {},
   "outputs": [
    {
     "name": "stdout",
     "output_type": "stream",
     "text": [
      "Número de exemplos positivos do conjunto de teste = 85\n",
      "loss :  0.03754543140530586\n",
      "tp :  74.0\n",
      "fp :  484.0\n",
      "tn :  42152.0\n",
      "fn :  11.0\n",
      "accuracy :  0.9884132146835327\n",
      "precision :  0.13261649012565613\n",
      "recall :  0.8705882430076599\n",
      "auc :  0.9634807705879211\n",
      "\n"
     ]
    }
   ],
   "source": [
    "print('Número de exemplos positivos do conjunto de teste =', len(test_labels[test_labels>\n",
    "0.9]))\n",
    "pond_results = rna_pond.evaluate(test_features, test_labels,\n",
    "batch_size=BATCH_SIZE, verbose=0)\n",
    "for name, value in zip(rna_pond.metrics_names, pond_results):\n",
    "    print(name, ': ', value)\n",
    "print()"
   ]
  },
  {
   "cell_type": "markdown",
   "id": "4805f611",
   "metadata": {},
   "source": [
    "## Cálculo da Pontuação F1"
   ]
  },
  {
   "cell_type": "code",
   "execution_count": 52,
   "id": "12f61671",
   "metadata": {},
   "outputs": [
    {
     "name": "stdout",
     "output_type": "stream",
     "text": [
      "Pontuação F1 =  0.2338562319317987\n"
     ]
    }
   ],
   "source": [
    "precision = pond_results[5]\n",
    "recall = pond_results[6]\n",
    "F1_pond = 2*precision*recall/(precision + recall)\n",
    "print('Pontuação F1 = ', F1_pond)"
   ]
  },
  {
   "cell_type": "markdown",
   "id": "62b67f5a",
   "metadata": {},
   "source": [
    "## Matriz de confusão\n",
    "\n",
    "Podemos usar a matriz de confusão para visualizar melhor as classes reais e previstas."
   ]
  },
  {
   "cell_type": "code",
   "execution_count": 53,
   "id": "ecae10ca",
   "metadata": {},
   "outputs": [
    {
     "name": "stdout",
     "output_type": "stream",
     "text": [
      "Matriz de confusão:\n",
      " [[42152   484]\n",
      " [   11    74]]\n"
     ]
    },
    {
     "name": "stderr",
     "output_type": "stream",
     "text": [
      "<ipython-input-53-7fb500039f5a>:9: UserWarning: FixedFormatter should only be used together with FixedLocator\n",
      "  ax.set_xticklabels([''] + labels)\n",
      "<ipython-input-53-7fb500039f5a>:10: UserWarning: FixedFormatter should only be used together with FixedLocator\n",
      "  ax.set_yticklabels([''] + labels)\n"
     ]
    },
    {
     "data": {
      "text/plain": [
       "<Figure size 432x432 with 0 Axes>"
      ]
     },
     "metadata": {},
     "output_type": "display_data"
    },
    {
     "data": {
      "image/png": "[encoded data removed]",
      "text/plain": [
       "<Figure size 432x288 with 2 Axes>"
      ]
     },
     "metadata": {
      "needs_background": "light"
     },
     "output_type": "display_data"
    }
   ],
   "source": [
    "conf_mat = confusion_matrix(y_true=test_labels, y_pred=np.round(test_pred_pond))\n",
    "print('Matriz de confusão:\\n', conf_mat)\n",
    "labels = ['Class 0', 'Class 1']\n",
    "plt.figure(figsize=(6,6))\n",
    "fig = plt.figure()\n",
    "ax = fig.add_subplot(111)\n",
    "cax = ax.matshow(conf_mat, cmap=plt.cm.Blues)\n",
    "fig.colorbar(cax)\n",
    "ax.set_xticklabels([''] + labels)\n",
    "ax.set_yticklabels([''] + labels)\n",
    "plt.xlabel('Previsto')\n",
    "plt.ylabel('Esperado')\n",
    "plt.show()"
   ]
  },
  {
   "cell_type": "markdown",
   "id": "049bc8d1",
   "metadata": {},
   "source": [
    "## Gráfico do ROC"
   ]
  },
  {
   "cell_type": "code",
   "execution_count": 54,
   "id": "635a70e1",
   "metadata": {},
   "outputs": [
    {
     "data": {
      "image/png": "[encoded data removed]",
      "text/plain": [
       "<Figure size 504x432 with 1 Axes>"
      ]
     },
     "metadata": {
      "needs_background": "light"
     },
     "output_type": "display_data"
    }
   ],
   "source": [
    "fp_train, tp_train, _ = sklearn.metrics.roc_curve(train_labels, train_pred_pond)\n",
    "fp_test, tp_test, _ = sklearn.metrics.roc_curve(test_labels, test_pred_pond)\n",
    "plt.figure(figsize=(7, 6))\n",
    "plt.plot(100*fp_train, 100*tp_train, 'b', label='Dados treinamento')\n",
    "plt.plot(100*fp_test, 100*tp_test, 'r', label='Dados teste')\n",
    "plt.xlabel('Positivos falsos [%]')\n",
    "plt.ylabel('Positivos verdadeiros [%]')\n",
    "plt.xlim([0,100])\n",
    "plt.ylim([80,100])\n",
    "plt.grid(True)\n",
    "ax = plt.gca()\n",
    "plt.legend(loc='lower right')\n",
    "plt.show()"
   ]
  },
  {
   "cell_type": "markdown",
   "id": "5721837b",
   "metadata": {},
   "source": [
    "## 7. Conclusão\n",
    "\n",
    "A classificação de dados com número de exemplos desequilibrado é uma tarefa inerentemente difícil, pois podem existir poucos exemplos para o treinamento. Assim, deve-se sempre começar usando os dados originais e fazer o possível para coletar o maior número possível de exemplos e analisar quais recursos podem ser relevantes para que o modelo possa obter o máximo da sua classe minoritária. Em algum ponto, o modelo pode ter dificuldades para melhorar e produzir os resultados desejados, portanto, é importante ter em mente o contexto do problema e o compromisso entre os diferentes tipos de erros."
   ]
  }
 ],
 "metadata": {
  "kernelspec": {
   "display_name": "Python 3",
   "language": "python",
   "name": "python3"
  },
  "language_info": {
   "codemirror_mode": {
    "name": "ipython",
    "version": 3
   },
   "file_extension": ".py",
   "mimetype": "text/x-python",
   "name": "python",
   "nbconvert_exporter": "python",
   "pygments_lexer": "ipython3",
   "version": "3.8.8"
  }
 },
 "nbformat": 4,
 "nbformat_minor": 5
}
