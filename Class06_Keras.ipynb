{
 "cells": [
  {
   "cell_type": "markdown",
   "id": "c731eba2",
   "metadata": {},
   "source": [
    "⇒ Antes de poder usar o Keras temos primeiramente que importar para o nosso ambiente de programação o TensorFlow. Isso é feito da seguinte forma:"
   ]
  },
  {
   "cell_type": "code",
   "execution_count": 1,
   "id": "666a7051",
   "metadata": {},
   "outputs": [
    {
     "data": {
      "text/plain": [
       "'2.3.0'"
      ]
     },
     "execution_count": 1,
     "metadata": {},
     "output_type": "execute_result"
    }
   ],
   "source": [
    "import tensorflow as tf\n",
    "tf.__version__"
   ]
  },
  {
   "cell_type": "markdown",
   "id": "cbe904e7",
   "metadata": {},
   "source": [
    "⇒ O comando tf __version__ fornece a informação de qual versão do TensorFlow estamos usando."
   ]
  },
  {
   "cell_type": "markdown",
   "id": "efa4cc04",
   "metadata": {},
   "source": [
    "⇒ Após importar o TensorFlow podemos importar as funções do Keras que queremos usar da seguinte forma:"
   ]
  },
  {
   "cell_type": "code",
   "execution_count": 2,
   "id": "a337f159",
   "metadata": {},
   "outputs": [],
   "source": [
    "from tensorflow.keras import models\n",
    "from tensorflow.keras.layers import Dense, Activation"
   ]
  },
  {
   "cell_type": "markdown",
   "id": "3c1c5cf7",
   "metadata": {},
   "source": [
    "⇒ Esses dois comandos importam a estrutura de modelo seqüencial e as camadas do tipo totalmente conectadas (densa) e as funções de ativação."
   ]
  },
  {
   "cell_type": "markdown",
   "id": "903821ab",
   "metadata": {},
   "source": [
    "⇒ Uma RNA sequencial pode ser criada simplesmente passando uma lista de instâncias de camadas para o construtor do Keras, da seguinte forma:"
   ]
  },
  {
   "cell_type": "code",
   "execution_count": 3,
   "id": "f9ad7b2c",
   "metadata": {},
   "outputs": [
    {
     "name": "stdout",
     "output_type": "stream",
     "text": [
      "Model: \"sequential\"\n",
      "_________________________________________________________________\n",
      "Layer (type)                 Output Shape              Param #   \n",
      "=================================================================\n",
      "dense (Dense)                (None, 32)                32800     \n",
      "_________________________________________________________________\n",
      "activation (Activation)      (None, 32)                0         \n",
      "_________________________________________________________________\n",
      "dense_1 (Dense)              (None, 1)                 33        \n",
      "_________________________________________________________________\n",
      "activation_1 (Activation)    (None, 1)                 0         \n",
      "=================================================================\n",
      "Total params: 32,833\n",
      "Trainable params: 32,833\n",
      "Non-trainable params: 0\n",
      "_________________________________________________________________\n"
     ]
    }
   ],
   "source": [
    "model = models.Sequential([\n",
    "Dense(32, input_shape=(1024,)),\n",
    "Activation('relu'),\n",
    "Dense(1),\n",
    "Activation('sigmoid'),\n",
    "])\n",
    "model.summary()"
   ]
  },
  {
   "cell_type": "markdown",
   "id": "6be22332",
   "metadata": {},
   "source": [
    "⇒ Esse comando define uma RNA de uma camada intermediária e uma camada de saída com as seguintes características:\n",
    "    - Os dados de entrada de cada exemplo de treinamento são vetores linha de dimensão (1024);\n",
    "    - Observa-se que não é incluída a dimensão do segundo eixo do tensor de entrada no argumento input_shape , porque\n",
    "nesse momento não se conhece o número de exemplos que serão usados no treinamento;\n",
    "    - Cuidado apesar de parecer que no argumento input_shape o segundo eixo é o número de exemplos, o Keras\n",
    "espera que o primeiro eixo do tensor de entrada seja o número de exemplos;\n",
    "    - A camada escondida é do tipo densa (totalmente conectada), possui 32 neurônios e a sua função de ativação é Relu;\n",
    "    - A camada de saída é do tipo densa (totalmente conectada), possui 1 único neurônio e a sua função de ativação é\n",
    "sigmóide."
   ]
  },
  {
   "cell_type": "markdown",
   "id": "4690dccd",
   "metadata": {},
   "source": [
    "**O nome utilizado para essa RNA foi model , mas poderia ser dado qualquer outro nome.**"
   ]
  },
  {
   "cell_type": "markdown",
   "id": "e4f72d7e",
   "metadata": {},
   "source": [
    "⇒ O método summary() apresenta um resumo das principais características da rede."
   ]
  },
  {
   "cell_type": "markdown",
   "id": "3f33c5da",
   "metadata": {},
   "source": [
    "rna = models.Sequential()\n",
    "rna.add(Dense(32,input_shape=(1024,)))\n",
    "\n",
    "OR\n",
    "\n",
    "rna = models.Sequential()\n",
    "rna.add(Dense(32,input_dim=1024))"
   ]
  },
  {
   "cell_type": "markdown",
   "id": "4eba20ed",
   "metadata": {},
   "source": [
    "⇒ Se for necessário especificar um número fixo de exemplos, pode-se passar o argumento batch_size para a camada de\n",
    "entrada. Assim, por exemplo, se for usado batch_size=32 e input_shape=(6, 8) para a primeira camada, será esperado\n",
    "como dados de entrada um tensor de dimensão (32, 6, 8)."
   ]
  },
  {
   "cell_type": "markdown",
   "id": "97158913",
   "metadata": {},
   "source": [
    "⇒ O desenvolvimento de uma RNA exige muitas iterações até se obter um resultado desejável, assim, para evitar executar\n",
    "inúmeras vezes os mesmos comandos de configuração de uma RNA, que podem ser muitos dependendo do tamanho da RNA, pode-se criar uma função para configurar a RNA. Para isso temos, por exemplo, a seguinte função:"
   ]
  },
  {
   "cell_type": "code",
   "execution_count": 6,
   "id": "3e4ded6a",
   "metadata": {},
   "outputs": [],
   "source": [
    "def build_model(data_shape):\n",
    "    rna = models.Sequential()\n",
    "    rna.add(layers.Dense(units=64, activation='relu', input_shape=data_shape))\n",
    "    rna.add(layers.Dense(units=32, activation='relu'))\n",
    "    rna.add(layers.Dense(units=1, activation='sigmoid'))\n",
    "    return rna"
   ]
  },
  {
   "cell_type": "markdown",
   "id": "df8c573d",
   "metadata": {},
   "source": [
    "⇒ Nesse caso o argumento data_shape representa a dimensão dos dados de entrada sem considerar o número de exemplos."
   ]
  },
  {
   "cell_type": "markdown",
   "id": "07679f2b",
   "metadata": {},
   "source": [
    "**VISUALIZAÇÃO DA RNA**\n",
    "⇒ Para visualizar a arquitetura de uma RNA que foi criada usa-se no Keras o método summary() , como segue:"
   ]
  },
  {
   "cell_type": "code",
   "execution_count": 7,
   "id": "fe0258a9",
   "metadata": {},
   "outputs": [
    {
     "name": "stdout",
     "output_type": "stream",
     "text": [
      "Model: \"sequential_1\"\n",
      "_________________________________________________________________\n",
      "Layer (type)                 Output Shape              Param #   \n",
      "=================================================================\n",
      "dense_2 (Dense)              (None, 64)                786496    \n",
      "_________________________________________________________________\n",
      "dense_3 (Dense)              (None, 32)                2080      \n",
      "_________________________________________________________________\n",
      "dense_4 (Dense)              (None, 1)                 33        \n",
      "=================================================================\n",
      "Total params: 788,609\n",
      "Trainable params: 788,609\n",
      "Non-trainable params: 0\n",
      "_________________________________________________________________\n"
     ]
    }
   ],
   "source": [
    "from tensorflow.keras import models\n",
    "from tensorflow.keras import layers\n",
    "data_shape = (12288,)\n",
    "rna = build_model(data_shape)\n",
    "rna.summary()"
   ]
  },
  {
   "cell_type": "markdown",
   "id": "af81c9cd",
   "metadata": {},
   "source": [
    "⇒ Outra forma de visualizar uma RNA no Keras é fazer um gráfico da mesma usando a função plot_model , como segue:\n"
   ]
  },
  {
   "cell_type": "code",
   "execution_count": 10,
   "id": "93be5805",
   "metadata": {},
   "outputs": [
    {
     "name": "stdout",
     "output_type": "stream",
     "text": [
      "('Failed to import pydot. You must `pip install pydot` and install graphviz (https://graphviz.gitlab.io/download/), ', 'for `pydotprint` to work.')\n"
     ]
    }
   ],
   "source": [
    "from tensorflow.keras.utils import plot_model\n",
    "import pydot\n",
    "plot_model(rna, to_file='rna.png', show_shapes=True)"
   ]
  },
  {
   "cell_type": "code",
   "execution_count": 11,
   "id": "82259a5f",
   "metadata": {},
   "outputs": [
    {
     "name": "stdout",
     "output_type": "stream",
     "text": [
      "Requirement already satisfied: pydot in c:\\users\\dell\\anaconda3\\lib\\site-packages (1.4.1)Note: you may need to restart the kernel to use updated packages.\n",
      "Requirement already satisfied: pyparsing>=2.1.4 in c:\\users\\dell\\anaconda3\\lib\\site-packages (from pydot) (2.4.7)\n",
      "\n"
     ]
    }
   ],
   "source": [
    "pip install pydot"
   ]
  },
  {
   "cell_type": "code",
   "execution_count": 12,
   "id": "9e587316",
   "metadata": {},
   "outputs": [
    {
     "name": "stdout",
     "output_type": "stream",
     "text": [
      "('Failed to import pydot. You must `pip install pydot` and install graphviz (https://graphviz.gitlab.io/download/), ', 'for `pydotprint` to work.')\n"
     ]
    }
   ],
   "source": [
    "from tensorflow.keras.utils import plot_model\n",
    "import pydot\n",
    "plot_model(rna, to_file='rna.png', show_shapes=True)\n",
    "# No Colab usar\n",
    "#plot_model(rna, to_file='/tmp/rna.png', show_shapes=True)"
   ]
  },
  {
   "cell_type": "markdown",
   "id": "a82a8c76",
   "metadata": {},
   "source": [
    "**COMPILAÇÃO DA RNA**\n",
    "⇒ A geração da RNA é realizada na etapa de compilação, onde é escolhida a função de custo, uma métrica para avaliação da RNA e configurado o método de treinamento."
   ]
  },
  {
   "cell_type": "code",
   "execution_count": 13,
   "id": "9c7d9100",
   "metadata": {},
   "outputs": [],
   "source": [
    "from tensorflow.keras import optimizers\n",
    "rna.compile(optimizer='SGD', loss='binary_crossentropy', metrics=['accuracy'])"
   ]
  },
  {
   "cell_type": "markdown",
   "id": "d261be8e",
   "metadata": {},
   "source": [
    "⇒ O primeiro comando importa do Keras os otimizadores.\n",
    "⇒ O segundo comando gera e compila a RNA definindo o seguinte:\n",
    "    Método de otimização ⇒ gradiente descendente;\n",
    "    Função de custo ⇒ função logística, também chamada de entropia cruzada binária;\n",
    "    Métrica exatidão "
   ]
  },
  {
   "cell_type": "code",
   "execution_count": 14,
   "id": "6b868794",
   "metadata": {},
   "outputs": [],
   "source": [
    "from tensorflow.keras import optimizers\n",
    "sgd = optimizers.SGD(lr=0.02)\n",
    "rna.compile(loss='binary_crossentropy', metrics=['accuracy'], optimizer=sgd)"
   ]
  },
  {
   "cell_type": "markdown",
   "id": "74b1e990",
   "metadata": {},
   "source": [
    "⇒ A única diferença desse exemplo para o anterior é que definimos a taxa de aprendizado como sendo igual a 0,02."
   ]
  },
  {
   "cell_type": "markdown",
   "id": "ed7639ab",
   "metadata": {},
   "source": [
    "**TREINAMENTO**\n",
    "⇒ O treinamento de uma RNA é realizado com o método fit() para treinar uma RNA usando 10 épocas o comando usado é\n",
    "o seguinte:\n",
    "\n",
    "rna.fit(x_train, y_train, epochs=10, verbose=2)\n",
    "\n",
    "\n",
    "**SALVAR TREINAMENTO**\n",
    "⇒ Salvar o processo de treinamento permite fazer gráficos da função de custo e da métrica, permitindo uma análise mais\n",
    "detalhada do processo. Para isso usamos:\n",
    "\n",
    "historia = rna.fit(x_train, y_train, epochs=10)\n",
    "\n",
    "⇒ O objeto historia contém um dicionário com os valores da função de custo e das métricas em função do número de épocas, que podem ser acessadas usando o seguinte comenado:\n",
    "\n",
    "history_dict = historia.history\n",
    "history_dict.keys()\n",
    "\n",
    "⇒ O comando history_dict.keys apresenta o conteúdo do dicionário salvo durante o treinamento.\n"
   ]
  },
  {
   "cell_type": "code",
   "execution_count": null,
   "id": "db0b115f",
   "metadata": {},
   "outputs": [],
   "source": []
  }
 ],
 "metadata": {
  "kernelspec": {
   "display_name": "Python 3",
   "language": "python",
   "name": "python3"
  },
  "language_info": {
   "codemirror_mode": {
    "name": "ipython",
    "version": 3
   },
   "file_extension": ".py",
   "mimetype": "text/x-python",
   "name": "python",
   "nbconvert_exporter": "python",
   "pygments_lexer": "ipython3",
   "version": "3.8.8"
  }
 },
 "nbformat": 4,
 "nbformat_minor": 5
}
