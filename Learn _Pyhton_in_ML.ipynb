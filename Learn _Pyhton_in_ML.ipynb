{
 "cells": [
  {
   "cell_type": "markdown",
   "metadata": {},
   "source": [
    "# Linguagem Python em aprendizado de máquina\n",
    "\n",
    "### Bruno Oliveira"
   ]
  },
  {
   "cell_type": "markdown",
   "metadata": {},
   "source": [
    "## 1. Objetivos\n",
    "\n",
    "\n",
    "Apresentar uma breve revisão da linguagem de programação Python, que é mais utilizada na área de aprendizado de máquina.\n",
    "\n",
    "Introduzir conceito de tensores.\n",
    "\n",
    "Apresentar a biblioteca de funções Numpy do Python.\n",
    "\n",
    "Introdução à vetorização de cálculo.\n",
    "\n",
    "Cálculo vetorizado usando Numpy.\n"
   ]
  },
  {
   "cell_type": "markdown",
   "metadata": {},
   "source": [
    "## 2. Tensores\n",
    "\n",
    "\n",
    "Tensor é um tipo de estrutura de dados que permite armazenar números em matrizes (“arrays”) de múltiplas dimensões.\n",
    "\n",
    "Tensores são amplamente utilizados na área de aprendizado de máquina $\\to$ é comum nas RNAs ter tensores de 5 ou mais eixos.\n",
    "\n",
    "Importância dos tensores nas RNA é tão grande que um dos principais softwares da área é chamado TensorFlow.\n",
    "\n",
    "Biblioteca de funções Numpy foi desenvolvida para trabalhar com tensores.\n",
    "\n",
    "Existem inúmeras funções e métodos na biblioteca Numpy para operar com tensores.\n",
    "\n",
    "\n",
    "#### Principais atributos de um tensor\n",
    "\n",
    "Um tensor é definido por três atributos principais:\n",
    "\n",
    "- Número de eixos (“rank”) $\\to$ por exemplo, uma matriz possui 2 eixos, portanto, é um tensor 2D;\n",
    "\n",
    "\n",
    "- Dimensão (“shape”) $\\to$ descreve quantos elementos o tensor possui em cada eixo;\n",
    "\n",
    "\n",
    "- Tipo de dados $\\to$ descreve o tipo de dados que o tensor contém, por exemplo, inteiro (int8), (float32), string etc.\n",
    "\n",
    "\n",
    "#### Principais tipos de tensores\n",
    "\n",
    "Podemos definir tipos de sensores dependendo do número de eixos que possuem. Em relação a essa característica os principias tipos de tensores são:\n",
    "\n",
    "- Escalar (0D);\n",
    "- Vetor (1D);\n",
    "- Matriz (2D);\n",
    "- Tensores de 3 ou mais dimensões;"
   ]
  },
  {
   "cell_type": "markdown",
   "metadata": {},
   "source": [
    "### 2.1 Escalar\n",
    "\n",
    "Um tensor escalar possui dimensão zero (0D).\n",
    "\n",
    "Tensor que armazena somente um número inteiro, real ou complexo.\n",
    "\n",
    "Número de eixos de um tensor $\\to$ obtido pelo método `ndim`.\n",
    "\n",
    "Tipo de dados do tensor $\\to$ obtido pelo método `dtype`.\n",
    "\n",
    "Função `numpy.array` é usada para criar um tensor.\n",
    "\n",
    "A célula abaixo apresenta um exemplo de um tensor escalar."
   ]
  },
  {
   "cell_type": "code",
   "execution_count": 4,
   "metadata": {},
   "outputs": [
    {
     "name": "stdout",
     "output_type": "stream",
     "text": [
      "x = 12\n",
      "Número de eixos de x: 0\n",
      "Tipo de dado de x: int32\n"
     ]
    }
   ],
   "source": [
    "# Importa biblioteca numpy\n",
    "import numpy as np\n",
    "\n",
    "# Cria tensor escalar x \n",
    "x = np.array(12)\n",
    "\n",
    "# Apresenta valor de x, número de eixos e tipo de dado\n",
    "print('x =', x)\n",
    "print('Número de eixos de x:', x.ndim)\n",
    "print('Tipo de dado de x:', x.dtype)"
   ]
  },
  {
   "cell_type": "markdown",
   "metadata": {},
   "source": [
    "- Antes de usar as funções da biblioteca Numpy deve-se importar a biblioteca para o programa. No código acima a biblioteca Numpy é importada com o nome `np` para facilitar escrever os comandos.\n",
    "\n",
    "\n",
    "- Para criar um tensor usa-se a função Numpy `array`. \n"
   ]
  },
  {
   "cell_type": "markdown",
   "metadata": {},
   "source": [
    "### 2.2 Vetor\n",
    "\n",
    "Vetor é um tensor de uma dimensão (1D), ou de um eixo.\n",
    "\n",
    "Método `shape` fornece a dimensão de um tensor (número de linhas, número de colunas etc). \n",
    "\n",
    "Note que o número de eixos de um tensor também é chamado de “rank”. Cuidado para não confundir o número de eixos de um tensor com o número de elementos de um dos seus eixos.\n",
    "\n",
    "Vetores são a forma mais comum de dados. Em um conjunto de dados, cada exemplo pode ser armazenado como um vetor coluna ou linha. Se colocarmos todos os exemplos juntos (colunas) temos uma matriz de dados, onde cada coluna representa um exemplo. \n",
    "\n",
    "A célula abaixo apresenta um exemplo de um tensor de 1D."
   ]
  },
  {
   "cell_type": "code",
   "execution_count": 5,
   "metadata": {},
   "outputs": [
    {
     "name": "stdout",
     "output_type": "stream",
     "text": [
      "x = [12.  3.  6. -1.]\n",
      "Número de eixos de x: 1\n",
      "Número de elementos em x: (4,)\n",
      "Tipo de dados em x: float64\n"
     ]
    }
   ],
   "source": [
    "# Importa biblioteca numpy\n",
    "import numpy as np\n",
    "\n",
    "# Cria vetor x\n",
    "x = np.array([12., 3., 6., -1.])\n",
    "\n",
    "# Imprime vetor, número de eixos, dimensões dos eixos e tipo de dado\n",
    "print('x =', x)\n",
    "print('Número de eixos de x:', x.ndim)\n",
    "print('Número de elementos em x:', x.shape)\n",
    "print('Tipo de dados em x:', x.dtype)"
   ]
  },
  {
   "cell_type": "markdown",
   "metadata": {},
   "source": [
    "- Esse vetor tem 4 elementos. O método `shape` fornece o número de elementos de cada eixo do tensor, ou seja, a dimensão de cada eixo. \n",
    "\n",
    "\n",
    "- Novamente, cuidado para não confundir o número de elementos de cada eixo, obtido pelo método `shape`, com o número de eixos do tensor, obtido pelo método `ndim`.\n",
    "\n",
    "\n",
    "- Os elementos desse vetor são números reais de 64 bits. O padrão em Python para representar números reais é 64 bits.\n",
    "\n",
    "\n",
    "- O vetor é criado como sendo formado por números reais porque na sua criação os números foram definidos com o ponto decimal.\n",
    "\n",
    "\n",
    "Existe uma diferença sutil entre tensores com dimensões `(n, )`, `(1, n)` e `(n, 1)`, onde `n` é o número de elementos do tensor. Todos esses três tensores tem um único eixo e, portanto, são vetores. \n",
    "\n",
    "- Um tensor de dimensão `(n, )` não é especificado se é um vetor linha ou coluna, somente que possui `n` elementos e ele pode ser usado como se fosse um vetor linha ou um vetor coluna. \n",
    "- Um tensor de dimensão `(n, 1)` é um tensor de `n` linhas e uma coluna, ou seja, é um vetor coluna.\n",
    "- Um tensor de dimensão `(1, n)` é um tensor de uma linha e `n` colunas, ou seja, é um vetor linha. \n",
    "\n",
    "- Para indexar um elemento de um vetor de dimensão `(n, )`, deve-se usar em Numpy o comando `v[i]`, onde `v` é o vetor e `i` é o índice do elemento desejado. \n",
    "\n",
    "- Para indexar um elemento de um vetor de dimensão `(1, n)` ou `(n, 1)` deve-se usar `v[i][j]` ou `v[i,j]`, onde `v` é o vetor, `i` é o índice da linha e `j` é o índice da coluna. \n",
    "\n",
    "Na célula abaixo é mostrado um exemplo dessas três formas de definir um vetor e de como indexar seus elementos."
   ]
  },
  {
   "cell_type": "code",
   "execution_count": 10,
   "metadata": {},
   "outputs": [
    {
     "name": "stdout",
     "output_type": "stream",
     "text": [
      "Dimensão do vetor x = (4,)\n",
      "Dimensão do vetor xlinha = (1, 4)\n",
      "Dimensão do vetor xcoluna = (4, 1)\n",
      "Segundo elemento de x = 2.0\n",
      "Segundo elemento de xlinha = 2.0\n",
      "Segundo elemento de xcoluna = 2.0\n",
      "Dimensão do vetor xredim = (4, 1)\n",
      "xredim = [[1.]\n",
      " [2.]\n",
      " [3.]\n",
      " [4.]]\n"
     ]
    }
   ],
   "source": [
    "# Importa a biblioteca numpy\n",
    "import numpy as np\n",
    "\n",
    "# Cria vetor de 4 elementos\n",
    "x = np.array([1.,2.,3.,4])\n",
    "\n",
    "# Cria vetor linha de 4 elementos\n",
    "xlinha = np.array([[1.,2.,3.,4]])\n",
    "\n",
    "# Cria vetor coluna de 4 elementos\n",
    "xcoluna = np.array([[1.],[2.],[3.],[4.]])\n",
    "\n",
    "# Apresenta dimensões dos vetores\n",
    "print('Dimensão do vetor x =', x.shape)\n",
    "print('Dimensão do vetor xlinha =', xlinha.shape)\n",
    "print('Dimensão do vetor xcoluna =', xcoluna.shape)\n",
    "\n",
    "# Exemplo de como acessar os elementos desses vetores\n",
    "print('Segundo elemento de x =', x[1])\n",
    "print('Segundo elemento de xlinha =', xlinha[0,1])\n",
    "print('Segundo elemento de xcoluna =', xcoluna[1],[0])\n",
    "\n",
    "# Transforma vetor x de 4 elementos em um vetor coluna\n",
    "xredim = np.reshape(x, (4,1))\n",
    "print('Dimensão do vetor xredim =', xredim.shape)\n",
    "print('xredim =',xredim)"
   ]
  },
  {
   "cell_type": "markdown",
   "metadata": {},
   "source": [
    "- Observe que a indexação de tensores em Python começa com zero, ou seja, o primeiro elemento de um eixo é o elemento de índice 0.\n",
    "\n",
    "\n",
    "- O método Numpy `reshape` serve para redimensionar dimensões de tensores, ou seja, para alterar os números de elementos dos seus eixos. Esse método não altera o número total de elementos do tensor, somente rearranja os seus elementos.\n"
   ]
  },
  {
   "cell_type": "markdown",
   "metadata": {},
   "source": [
    "### 2.3 Matrizes\n",
    "\n",
    "Matriz é um  tensor de duas dimensões (2D), ou de dois eixos:\n",
    "\t\n",
    "- Primeiro eixo $\\to$ `eixo[0]` representa as linhas;\n",
    "- Segundo eixo $\\to$ `eixo[1]` representa as colunas.\n",
    "\n",
    "Uma matriz pode ser considerada como sendo um “array” de vetores. \n",
    "\n",
    "Um exemplo típico de dados de 2D é uma imagem em tons de cinza, onde o primeiro eixo representa a altura da imagem e o segundo eixo a largura. Cada elemento da matriz consiste de um número que representa a intensidade luminosa daquele local da imagem.\n",
    "\n",
    "Por exemplo, um conjunto de 128 imagens em tons de cinza, cada uma com dimensão 32x32 pode ser armazenado em um tensor de 3 eixos de dimensão `(128, 32, 32)` ou `(32, 32, 128)`.\n",
    "\n",
    "A célula abaixo apresenta exemplo de um tensor de 2D."
   ]
  },
  {
   "cell_type": "code",
   "execution_count": 11,
   "metadata": {},
   "outputs": [
    {
     "name": "stdout",
     "output_type": "stream",
     "text": [
      "Matriz A = [[1. 2. 3.]\n",
      " [2. 3. 4.]\n",
      " [3. 4. 5.]\n",
      " [4. 5. 6.]]\n",
      "Número de eixos = 2\n",
      "Número de elementos em cada eixo = (4, 3)\n",
      "Tipo de elemento = float32\n",
      "Número de linhas = 4\n",
      "Número de colunas = 3\n",
      "Elemento (3,1) = 3.0\n"
     ]
    }
   ],
   "source": [
    "# Importa a biblioteca numpy\n",
    "import numpy as np\n",
    "\n",
    "# Cria matriz A\n",
    "A = np.array([[1,2,3],[2,3,4],[3,4,5],[4,5,6]], dtype='float32')\n",
    "\n",
    "# Apresenta matriz, número de eixos, dimensões dos eixos, tipo de dados, \n",
    "# número de linhas e colunas, e elemento de índice (3,1)\n",
    "print('Matriz A =', A)\n",
    "print('Número de eixos =', A.ndim)\n",
    "print('Número de elementos em cada eixo =', A.shape)\n",
    "print('Tipo de elemento =', A.dtype)\n",
    "print('Número de linhas =', A.shape[0])\n",
    "print('Número de colunas =', A.shape[1])\n",
    "print('Elemento (3,1) =', A[2,0])"
   ]
  },
  {
   "cell_type": "markdown",
   "metadata": {},
   "source": [
    "### 2.4 Tensores 3D ou de mais eixos\n",
    "\n",
    "Tensor de 3 dimensões (3D) é um tensor de três eixos:\n",
    "\n",
    "- Primeiro eixo $\\to$ `eixo[0]` representa as linhas;\n",
    "- Segundo eixo $\\to$ `eixo[1]` representa as colunas;\n",
    "- Terceiro eixo $\\to$ `eixo[2]` representa a profundidade.\n",
    "\n",
    "Se juntarmos várias matrizes em um único tensor teremos um tensor de 3 eixos (3D), que pode ser visualizado como um cubo ou um paralelepípedo.\n",
    "\n",
    "Um tensor 3D pode ser considerado como sendo um `array` de matrizes.\n",
    "\n",
    "Se juntarmos vários tensores 3D em um único tensor teremos um tensor 4D e, assim, por diante.\n",
    "\n",
    "Um exemplo típico de dados 3D é uma imagem colorida, onde o primeiro eixo representa a altura, o segundo eixo a largura e o terceiro eixo a cor.\n",
    "\n",
    "Por exemplo, um conjunto de 128 imagens coloridas, cada uma com dimensão `(32, 32, 3)` pode ser armazenado em um tensor de 4 eixos de dimensão `(32, 32, 3, 128)` ou `(128, 32, 32, 3)`.\n",
    "\n",
    "Um exemplo típico de dados 4D é um vídeo que consiste de um `array` de imagens, sendo que cada imagem do vídeo possui 3 eixos. O quarto eixo de um vídeo representa o tempo.\n",
    "\n",
    "Por exemplo, um vídeo de 60 segundos, amostrado com 10 quadros por segundo, se cada quadro do vídeo é uma imagem colorida de dimensão `(256, 256, 3)`, então, esse vídeo pode ser armazenado em um tensor de 4 eixos de dimensão `(256, 256, 3, 600)`.\n",
    "\n",
    "O código da célula abaixo apresenta exemplo de um tensor de 3D."
   ]
  },
  {
   "cell_type": "code",
   "execution_count": 12,
   "metadata": {},
   "outputs": [
    {
     "name": "stdout",
     "output_type": "stream",
     "text": [
      "T = [[[ 1 -1]\n",
      "  [ 2 -2]\n",
      "  [ 3 -3]]\n",
      "\n",
      " [[ 2 -2]\n",
      "  [ 3 -3]\n",
      "  [ 4 -4]]\n",
      "\n",
      " [[ 3 -3]\n",
      "  [ 4 -4]\n",
      "  [ 5 -5]]\n",
      "\n",
      " [[ 4 -4]\n",
      "  [ 5 -5]\n",
      "  [ 6 -6]]]\n",
      "Número de eixos = 3\n",
      "Número de elementos em cada eixo = (4, 3, 2)\n",
      "Tipo de elemento = int32\n",
      "Elemento de índice (3,1,2) = -3\n"
     ]
    }
   ],
   "source": [
    "# Importa a biblioteca numpy\n",
    "import numpy as np\n",
    "\n",
    "# Cria tensor T\n",
    "T = np.array([[[1,-1],[2,-2],[3,-3]],[[2,-2],[3,-3],[4,-4]],[[3, -3],[4, -4],[5,-5]], [[4, -4],[5, -5],[6,-6]]])\n",
    "\n",
    "# Apresenta tensor, número de eixos, dimensões dos eixos e tipo de dados\n",
    "print('T =', T)\n",
    "print('Número de eixos =', T.ndim)\n",
    "print('Número de elementos em cada eixo =', T.shape)\n",
    "print('Tipo de elemento =', T.dtype)\n",
    "\n",
    "# Elemento (3, 1, 2) do tensor T\n",
    "print('Elemento de índice (3,1,2) =', T[2,0,1])"
   ]
  },
  {
   "cell_type": "markdown",
   "metadata": {},
   "source": [
    "- O tensor `T` acima tem dimensão `(4, 3, 2)` e pode ser visto como sendo formado por 4 matrizes de 3 linhas e 2 colunas cada, ou também pode ser visto como sendo formado por duas matrizes de 4 linhas e 3 colunas cada."
   ]
  },
  {
   "cell_type": "markdown",
   "metadata": {},
   "source": [
    "## 3. Seleção de elementos de um tensor\n",
    "\n",
    "\n",
    "Em muitas situações é necessário realizar operações com somente parte de um tensor.\n",
    "\n",
    "É possível selecionar somente alguns elementos de um tensor numpy.\n",
    "\n",
    "Seja um tensor de dimensão `(100, 32, 64)`, que pode ser, por exemplo, 100 imagens em tons de cinza, cada uma com tamanho de 32 por 64 pixels. \n",
    "\n",
    "O código da ceélula abaixo 5 mostra alguns exemplos de como selecionar elementos desse tensor."
   ]
  },
  {
   "cell_type": "code",
   "execution_count": 13,
   "metadata": {},
   "outputs": [
    {
     "name": "stdout",
     "output_type": "stream",
     "text": [
      "Dimensões dos eixos do tensor = (100, 32, 64)\n",
      "Dimensão dos eixos do novo tensor = (90, 32, 64)\n",
      "Dimensão dos eixos do novo tensor = (100, 16, 16)\n",
      "Dimensão dos eixos do novo tensor = (100, 16, 24)\n",
      "Dimensão dos eixos do novo tensor = (100, 10, 12)\n"
     ]
    }
   ],
   "source": [
    "# Importa bilblioteca numpy\n",
    "import numpy as np\n",
    "\n",
    "# Cria tensor de 100 imagens com números aleatórios\n",
    "imagens = np.random.randint(256, size=(100, 32, 64))\n",
    "\n",
    "# Apresenta dimensões do tensor com as imagens\n",
    "print('Dimensões dos eixos do tensor =', imagens.shape)\n",
    "\n",
    "# Seleciona as imagens de números 10 a 99\n",
    "imagens1 = imagens[10:100,:,:]\n",
    "print('Dimensão dos eixos do novo tensor =', imagens1.shape)\n",
    "\n",
    "# Seleciona parte das imagens com as 16 primeiras linhas e colunas\n",
    "imagens2 = imagens[:,:16,:16]\n",
    "print('Dimensão dos eixos do novo tensor =', imagens2.shape)\n",
    "\n",
    "# Seleciona a parte central das imagens com tamanho de 16 linhas por\n",
    "# 24 colunas \n",
    "imagens3 = imagens[:,8:-8,20:-20]\n",
    "print('Dimensão dos eixos do novo tensor =', imagens3.shape)\n",
    "\n",
    "# Seleciona parte das imagens com as 10 últimas colunas e 12 últimas\n",
    "# linhas\n",
    "imagens4 = imagens[:,-10:,-12:]\n",
    "print('Dimensão dos eixos do novo tensor =', imagens4.shape)"
   ]
  },
  {
   "cell_type": "markdown",
   "metadata": {},
   "source": [
    "- Função  `np.random.randint()` serve para criar um tensor com números inteiros aleatórios. O primeiro argumento dessa função é o valor máximo desejado para os números e o segundo argumento é a dimensão desejada para cada eixo do tensor, que no caso é um tensor 3D de dimensão (100, 32, 64).\n",
    "\n",
    "\n",
    "- Usar dois pontos em um eixo representa selecionar todos os elementos dessa dimensão.\n",
    "\n",
    "\n",
    "- Selecionar as imagens usando `10:100` no primeiro eixo, significa escolher as imagens de índices 10 a 99. A imagem de índice 10 é incluída, mas a de índice 100 fica fora.\n",
    "\n",
    "\n",
    "- Selecionar os elementos de um eixo usando `:16`, significa escolher do primeiro elemento, de índice 0, até o décimo sexto elemento de índice 15.\n",
    "\n",
    "\n",
    "- Selecionar elementos de índice `8:-8`, significa escolher os elementos começando do elemento de índice 8 até o elemento correspondente ao de índice final menos 8.\n",
    "\n",
    "\n",
    "- Selecionar elementos de um eixo usando `-10:`, representa selecionar os 10 últimos elementos.\n"
   ]
  },
  {
   "cell_type": "markdown",
   "metadata": {},
   "source": [
    "## 4. Operações com tensores\n",
    "\n",
    "Todas as operações em uma RNA podem ser reduzidas para um pequeno conjunto de operações usando tensores.\n",
    "\n",
    "É possível realizar operações com tensores, tais como, adicionar, multiplicar, dividir e outras operações mais complexas sem a necessidade de usar comandos de repetição para lidar com cada elemento dos tensores isoladamente $\\to$ essa forma eficiente de operar com tensores é chamada de cálculo vetorizado.\n",
    "\n",
    "O que é vetorização de cálculo?\n",
    " \n",
    "- Uma forma de realizar cálculos numéricos com computador evitando ao máximo comandos de repetição explícitos, como por exemplo, “for-loops”.\n",
    "\n",
    "- Os cálculos são realizados diretamente com tensores usando funções desenvolvidas especialmente para isso.\n",
    "\n",
    "\n",
    "Em Python cálculo vetorizado de tensores é realizado pelas funções da biblioteca Numpy.\n",
    "\n",
    "A biblioteca Numpy possui diversas funções matemáticas que realizam cálculos diretamente em tensores.\n",
    "\n",
    "Deve-se ter cuidado porque algumas funções da biblioteca Numpy realizam os cálculos elemento por elemento e outras realizam o cálculo considerando as regras da álgebra linear para multiplicar matrizes e vetores.\n",
    "\n",
    "Outra biblioteca de funções Python que implementa cálculo vetorizado é o TensorFlow, que é uma das ferramentas mais usadas para desenvolver sistemas de inteligência artificial com redes neurais deep-learning.\n",
    "\n",
    "Cálculo vetorizado é muito mais rápido do que não vetorizado e é facilmente implementado usando múltiplas CPUs e em GPU (Graphics Processing Unit – Placa de Vídeo).\n",
    "\n",
    "Existem quatro tipos de operações básicas com tensores:\n",
    "\n",
    "1. Operação elemento por elemento (“element-wise”);\n",
    "2. Produto de tensores (“dot-product”);\n",
    "3. Redimensionamento de tensores (“reshaping”);\n",
    "4. Ajuste de dimensões (“Broadcasting”).\n"
   ]
  },
  {
   "cell_type": "markdown",
   "metadata": {},
   "source": [
    "### 4.1 Operação elemento por elemento (“element-wise”)\n",
    "\n",
    "Operações elemento por elemento de tensores são operações aplicadas independentemente em cada elemento do tensor.\n",
    "\n",
    "Duas funções convenientes da biblioteca Numpy para criar tensores com todos elementos iguais a zero e um, são:\n",
    "\n",
    "- Tensor de zeros $\\to$  `u = zeros((n,m))`, onde `(n, m)` é uma tuple, sendo que n = número de linhas e m = número de colunas;\n",
    "\n",
    "- Tensor de uns $\\to$ `v = ones((n, m))`.\n",
    "\n",
    "O código da célula abaixo 6 apresenta uma implementação ingênua para calcular a soma e o produto de dois vetores elemento por elemento."
   ]
  },
  {
   "cell_type": "code",
   "execution_count": 15,
   "metadata": {},
   "outputs": [
    {
     "name": "stdout",
     "output_type": "stream",
     "text": [
      "Vetor x = [1. 2. 3. 4. 5.]\n",
      "Vetor y = [-1 -2 -3 -4 -5]\n",
      "Soma dos elementos de x e y = [0. 0. 0. 0. 0.]\n",
      "Produto dos elementos de x e y = [ -1.  -4.  -9. -16. -25.]\n"
     ]
    }
   ],
   "source": [
    "# Importa bilblioteca numpy\n",
    "import numpy as np\n",
    "\n",
    "# Cria e inicializa os vetores\n",
    "x = np.array([1.,2.,3.,4.,5.]) # cria vetor x 1D\n",
    "y = np.array([-1,-2,-3,-4,-5]) # cria vetor y 1D\n",
    "z = np.zeros(x.shape) # inicializa vetor 1D para armazenar soma x + y\n",
    "w = np.zeros(x.shape) # inicializa vetor 1D para armazenar produto x*y\n",
    "\n",
    "# Salva número de elementos dos vetores\n",
    "n = x.shape[0] \n",
    "\n",
    "# Comando de repetição para calcular cada elemento dos vetores z e w\n",
    "for i in range(n):\n",
    "    z[i] = x[i] + y[i]\n",
    "    w[i] = x[i]*y[i]\n",
    "    \n",
    "# Apresenta resultados\n",
    "print('Vetor x =', x)\n",
    "print('Vetor y =', y)\n",
    "print('Soma dos elementos de x e y =', z)\n",
    "print('Produto dos elementos de x e y =', w)"
   ]
  },
  {
   "cell_type": "markdown",
   "metadata": {},
   "source": [
    "- Observa-se que ao criar os vetores `z` e `w` com zeros, as suas dimensões são definidas como sendo iguais a do vetor `x` usando o método `x.shape`."
   ]
  },
  {
   "cell_type": "markdown",
   "metadata": {},
   "source": [
    "O código do abaixo apresenta os mesmos cálculos realizados na célula anterior, mas usando funções da biblioteca Numpy com tensores $\\to$ além de ser muito mais fácil é muito mais rápido computacionalmente."
   ]
  },
  {
   "cell_type": "code",
   "execution_count": 16,
   "metadata": {},
   "outputs": [
    {
     "name": "stdout",
     "output_type": "stream",
     "text": [
      "Soma dos elementos de x e y = [0. 0. 0. 0. 0.]\n",
      "Produto dos elementos de x e y = [ -1.  -4.  -9. -16. -25.]\n"
     ]
    }
   ],
   "source": [
    "# Operação vetorizada de soma de dois vetores elemento-por-elemento\n",
    "z = x + y\n",
    "\n",
    "# Operação vetorizada do produto de dois vetores elemento-por-\n",
    "# elemento\n",
    "w = x*y\n",
    "\n",
    "# Apresenta resultados\n",
    "print('Soma dos elementos de x e y =', z)\n",
    "print('Produto dos elementos de x e y =', w)"
   ]
  },
  {
   "cell_type": "markdown",
   "metadata": {},
   "source": [
    "### 4.2 Ajuste automático de dimensões de tensores (“broadcasting”)\n",
    "\n",
    "\n",
    "Ao somar e multiplicar tensores elemento por elemento o número de eixos e as dimensões de cada eixo devem ser iguais nos dois tensores.\n",
    "\n",
    "Quando não existe nenhuma ambigüidade em uma operação elemento por elemento de dois tensores as funções da biblioteca Numpy ajustam as dimensões dos tensores automaticamente.\n",
    "\n",
    "Exemplos de ajuste automático de dimensões:\n",
    "\n",
    "1. No caso de soma, subtração, multiplicação ou divisão de um tensor com um escalar, todos os elementos do tensor são somados, subtraídos, multiplicados ou divididos pelo número. Por exemplo:\n",
    "\n",
    "$$\\begin{pmatrix}1\\\\2\\\\3\\\\4\\end{pmatrix} + 100 = \\begin{pmatrix}101\\\\102\\\\103\\\\104\\end{pmatrix}$$  \n",
    "   \n",
    "$$\\begin{pmatrix}1 & 2 & 3\\end{pmatrix} + 100 = \\begin{pmatrix}101 & 102 & 103\\end{pmatrix}$$\n",
    " \n",
    "2. No caso de soma, subtração, multiplicação ou divisão de um tensor de mais de um eixo com um vetor, o vetor deve ter o mesmo número de elementos de um dos eixos do tensor e nessa operação todos os elementos do tensor ao longo desse eixo são somados, subtraídos, multiplicados ou divididos pelo respectivo elemento do vetor. Por exemplo:\n",
    "\n",
    "$$\\begin{pmatrix}1 & 2 & 3 \\\\4 & 5 & 6\\\\\\end{pmatrix} + \\begin{pmatrix}100 & 200 & 300\\end{pmatrix} = \\begin{pmatrix}101 & 202 & 303 \\\\104 & 205 & 306\\end{pmatrix}$$\n",
    "\n",
    "$$\\begin{pmatrix}1 & 2 & 3 \\\\4 & 5 & 6\\\\\\end{pmatrix} + \\begin{pmatrix}100\\\\200\\end{pmatrix} = \\begin{pmatrix}101 & 102 & 103 \\\\204 & 205 & 206\\end{pmatrix}$$\n",
    "\n",
    "\n",
    "#### Regras gerais\n",
    "\n",
    "As regras gerais de ajuste automático de dimensões de tensores em operações realizadas elemento por elemento são as seguintes:\n",
    "\n",
    "1. Vetor (m, 1)  $+/-/*/\\div$ escalar  = vetor (m, 1)\n",
    "\n",
    "\n",
    "2. Vetor (1, n)  $+/-/*/\\div$ escalar  = vetor (1, n)\n",
    "\n",
    "\n",
    "3. Matriz (m, n)  $+/-/*/\\div$ vetor (1, n) = matriz (m, n)\n",
    "\n",
    "\n",
    "4. Matriz (m, n)  $+/-/*/\\div$ vetor (m, 1) = matriz (m, n)\n",
    "\n",
    "\n",
    "5. No caso de um tensor de 4 eixos com dimensão (m1, m2, m3, n)  $+/-/*/\\div$ vetor (1, n) = tensor (m1, m2, m3, n);\n",
    "\n",
    "\n",
    "6. No caso de um tensor de 4 eixos com dimensão (m1, m2, m3, n) $+/-/*/\\div$ vetor (m3, 1) = tensor (m1, m2, m3, n)\n",
    "\n",
    "\n",
    "Os símbolos $+/-/*/\\div$ nas regras anteriores significam que elas valem para as operações de soma, subtração, multiplicação e divisão. Essas regras valem para tensores de qualquer número de eixos e pode-se realizar operações de tensores de múltiplos eixos com outros tensores também de múltiplos eixos, desde que as dimensões dos respectivos eixos sejam iguais. \n",
    "\n",
    "\n",
    "No código são apresentados alguns exemplos de utilização das regras de ajuste automático de dimensões."
   ]
  },
  {
   "cell_type": "code",
   "execution_count": 17,
   "metadata": {},
   "outputs": [
    {
     "name": "stdout",
     "output_type": "stream",
     "text": [
      "A = [[[1 1]\n",
      "  [2 2]\n",
      "  [3 3]]\n",
      "\n",
      " [[2 2]\n",
      "  [3 3]\n",
      "  [4 4]]\n",
      "\n",
      " [[3 3]\n",
      "  [4 4]\n",
      "  [5 5]]\n",
      "\n",
      " [[4 4]\n",
      "  [5 5]\n",
      "  [6 6]]]\n",
      "Dimensão de A = (4, 3, 2) \n",
      "\n",
      "x = [[100]\n",
      " [200]\n",
      " [300]]\n",
      "Dimensão de x = (3, 1) \n",
      "\n",
      "B = A + x = [[[101 101]\n",
      "  [202 202]\n",
      "  [303 303]]\n",
      "\n",
      " [[102 102]\n",
      "  [203 203]\n",
      "  [304 304]]\n",
      "\n",
      " [[103 103]\n",
      "  [204 204]\n",
      "  [305 305]]\n",
      "\n",
      " [[104 104]\n",
      "  [205 205]\n",
      "  [306 306]]]\n",
      "Dimensão de B = (4, 3, 2) \n",
      "\n"
     ]
    }
   ],
   "source": [
    "# Importa bilblioteca numpy\n",
    "import numpy as np\n",
    "\n",
    "# Cria tensores A e x\n",
    "A = np.array([[[1,1],[2,2],[3,3]],[[2,2],[3,3],[4,4]],[[3, 3],[4, 4],[5,5]], [[4, 4],[5, 5],[6,6]]])\n",
    "x = np.array([[100], [200], [300]])\n",
    "\n",
    "# Soma tensor A com vetor x\n",
    "B = A + x\n",
    "\n",
    "# Apresenta tensores A, x e B = A + x\n",
    "print('A =', A)\n",
    "print('Dimensão de A =', A.shape, '\\n')\n",
    "print('x =', x)\n",
    "print('Dimensão de x =', x.shape,'\\n')\n",
    "print('B = A + x =', B)\n",
    "print('Dimensão de B =', B.shape, '\\n')"
   ]
  },
  {
   "cell_type": "code",
   "execution_count": 18,
   "metadata": {},
   "outputs": [
    {
     "name": "stdout",
     "output_type": "stream",
     "text": [
      "A = [[[1 1]\n",
      "  [2 2]\n",
      "  [3 3]]\n",
      "\n",
      " [[2 2]\n",
      "  [3 3]\n",
      "  [4 4]]\n",
      "\n",
      " [[3 3]\n",
      "  [4 4]\n",
      "  [5 5]]\n",
      "\n",
      " [[4 4]\n",
      "  [5 5]\n",
      "  [6 6]]]\n",
      "Dimensão de A = (4, 3, 2) \n",
      "\n",
      "Y = [[100 200]\n",
      " [100 200]\n",
      " [100 200]]\n",
      "Dimensão de Y = (3, 2) \n",
      "\n",
      "C = A + Y = [[[101 201]\n",
      "  [102 202]\n",
      "  [103 203]]\n",
      "\n",
      " [[102 202]\n",
      "  [103 203]\n",
      "  [104 204]]\n",
      "\n",
      " [[103 203]\n",
      "  [104 204]\n",
      "  [105 205]]\n",
      "\n",
      " [[104 204]\n",
      "  [105 205]\n",
      "  [106 206]]]\n",
      "Dimensão de C = (4, 3, 2) \n",
      "\n"
     ]
    }
   ],
   "source": [
    "# Importa bilblioteca numpy\n",
    "import numpy as np\n",
    "\n",
    "# Cria tensores A e Y\n",
    "A = np.array([[[1,1],[2,2],[3,3]],[[2,2],[3,3],[4,4]],[[3, 3],[4, 4],[5,5]], [[4, 4],[5, 5],[6,6]]])\n",
    "Y = np.array([[100, 200], [100,200], [100,200]])\n",
    "\n",
    "# Soma tensor A com matriz Y\n",
    "C = A + Y  \n",
    "\n",
    "# Apresenta tensores A, Y e C = A + Y\n",
    "print('A =', A)\n",
    "print('Dimensão de A =', A.shape, '\\n')\n",
    "print('Y =', Y)\n",
    "print('Dimensão de Y =', Y.shape, '\\n')\n",
    "print('C = A + Y =', C)\n",
    "print('Dimensão de C =', C.shape, '\\n')"
   ]
  },
  {
   "cell_type": "markdown",
   "metadata": {},
   "source": [
    "### 4.3 Produto de dois tensores (“dot-product”)\n",
    "\n",
    "O produto de dois tensores é a operação mais comum e talvez a mais útil nos cálculos realizados nas RNAs.\n",
    "\n",
    "Essa operação é chamada de \"dot-product” a partir de uma analogia com o produto escalar de dois vetores.\n",
    "\n",
    "Essa operação é implementada pela função Numpy `dot`, cujo nome é dado a partir da analogia com o nome em inglês usado para designar o produto escalar de dois vetores (“dot product”).\n",
    "\n",
    "A regra utilizada segue os princípios da álgebra linear e as dimensões dos tensores devem ser compatíveis para poder realizar o produto dos mesmos. Por exemplo:\n",
    "\n",
    "- A operação “dot-product” é igual ao produto escalar de dois vetores para o caso dos tensores serem 1D, ou seja, vetores.\n",
    "\n",
    "- A operação “dot-product” é igual ao produto de uma matriz por um vetor quando um dos tensores é 2D e o outro é 1D com as dimensões corretas para poder realizar a operação.\n",
    "\n",
    "- Somente é possível realizar o produto de duas matrizes `A` e `B`, se a dimensão do segundo eixo de `A` for igual à dimensão do primeiro eixo de `B`, ou seja, `dot(A, B)` somente é possível se `A.shape[1] = B.shape[0]` e o resultado é uma matriz de dimensões `A.shape[0] por B.shape[1]`.\n",
    "\n",
    "As regras gerais para a compatibilidade das dimensões dos dois tensores são as seguintes:\n",
    "\n",
    "`(a, ) x (a, )` $\\to$ `(1)`\n",
    "\n",
    "`(1, a) x (a, 1)` $\\to$ `(1)`\n",
    "\n",
    "`(a, 1) x (1, b)`  $\\to$ `(a, b)`\n",
    "\n",
    "`(a, b) x (b, )` $\\to$ `(a, )`\n",
    "\n",
    "`(a, b, c) x (c, )` $\\to$ `(a, b)`\n",
    "\n",
    "`(a, b, c, d) x (d, )` $\\to$ `(a, b, c)`\n",
    "\n",
    "`(a, b, c, d) x (d, e)` $\\to$ `(a, b, c, e)`\n",
    "\n",
    "onde `1`, `a`, `b`, `c`, `d` e `e` são as dimensões dos eixos dos tensores.\n",
    "\n",
    "Note que o produto de dois tensores não tem propriedade comutativa, ou seja, segue os mesmos conceitos da álgebra linear para produto de duas matrizes, assim:\n",
    "\n",
    "`dot(A, B)` $\\neq$ `dot(B, A)`\n",
    "\n",
    "O código abaixo apresenta uma implementação ingênua para calcular o produto escalar de dois vetores com mesmas dimensões e o produto de uma matriz por um vetor."
   ]
  },
  {
   "cell_type": "code",
   "execution_count": 25,
   "metadata": {},
   "outputs": [
    {
     "name": "stdout",
     "output_type": "stream",
     "text": [
      "Dimensão de x = (3,)\n",
      "Dimensão de y = (3,)\n",
      "Dimensão de A = (4, 3)\n",
      "Dimensão de w = (4,)\n",
      "x =  [1. 1. 1.]\n",
      "y =  [1. 2. 3.]\n",
      "A =  [[1. 1. 1.]\n",
      " [2. 2. 2.]\n",
      " [3. 3. 3.]\n",
      " [4. 4. 4.]]\n",
      "z =  6.0\n",
      "w =  [ 6. 12. 18. 24.]\n"
     ]
    }
   ],
   "source": [
    "# Importa bilblioteca numpy\n",
    "import numpy as np\n",
    "\n",
    "# Cria vetores e matrizes\n",
    "x = np.ones((3,))\n",
    "y = np.array([1., 2., 3.])\n",
    "A = np.array([[1,1,1],[2,2,2],[3,3,3],[4,4,4]], dtype='float32')\n",
    "w = np.zeros(A.shape[0])\n",
    "\n",
    "# Recupera dimensões dos tensores\n",
    "m, n = A.shape\n",
    "\n",
    "# Comando de repetição para calcular o produto dos vetores x e y\n",
    "z = 0\n",
    "for i in range(n):\n",
    "    z = z + x[i]*y[i]\n",
    "    \n",
    "# Comandos de repetição para calcular o produto da matriz A pelo\n",
    "# vetor y\n",
    "for i in range(m):\n",
    "    for j in range(n):\n",
    "        w[i] = w[i] + A[i][j]*y[j]\n",
    "\n",
    "# Apresentação dos resultados\n",
    "print('Dimensão de x =', x.shape)\n",
    "print('Dimensão de y =', y.shape)\n",
    "print('Dimensão de A =', A.shape)\n",
    "print('Dimensão de w =', w.shape)\n",
    "print(\"x = \",x)\n",
    "print(\"y = \",y)\n",
    "print(\"A = \",A)\n",
    "print(\"z = \",z)\n",
    "print(\"w = \",w)"
   ]
  },
  {
   "cell_type": "markdown",
   "metadata": {},
   "source": [
    "- O comando `x += y`, representa uma notação mais curta para a operação `x = x + y`.\n",
    "\n",
    "O código a seguir apresenta os mesmos cálculos realizados na célula enterior, porém de forma vetorizada."
   ]
  },
  {
   "cell_type": "code",
   "execution_count": 23,
   "metadata": {},
   "outputs": [
    {
     "name": "stdout",
     "output_type": "stream",
     "text": [
      "x =  [1. 1. 1.]\n",
      "y =  [1. 2. 3.]\n",
      "A =  [[1. 1. 1.]\n",
      " [2. 2. 2.]\n",
      " [3. 3. 3.]\n",
      " [4. 4. 4.]]\n",
      "z =  6.0\n",
      "w =  [ 6. 12. 18. 24.]\n"
     ]
    }
   ],
   "source": [
    "# Cálculo vetorizado do produto dos vetores x e y\n",
    "z = np.dot(x,y)\n",
    "\n",
    "# Cálculo vetorizado do produto da matriz A pelo vetor y\n",
    "w = np.dot(A,y)\n",
    "\n",
    "# Apresentação dos resultados\n",
    "print(\"x = \",x)\n",
    "print(\"y = \",y)\n",
    "print(\"A = \",A)\n",
    "print(\"z = \",z)\n",
    "print(\"w = \",w)"
   ]
  },
  {
   "cell_type": "markdown",
   "metadata": {},
   "source": [
    "- O produto de dois vetores de dimensão `(n, )` é um escalar independentemente do número de elementos dos vetores e não importa a ordem em que são multiplicados.\n",
    "\n",
    "\n",
    "- Se os vetores `x` e `y` tivessem ambos as mesmas dimensões, seja (3, 1) ou (1, 3), a utilização da função `dot(x, y)` para multiplicá-los geraria um erro, pois não obedeceria as regras da álgebra linear.\n",
    "\n",
    "\n",
    "- Se o vetor `x` tivesse dimensão (3, 1) e o vetor y dimensão (1, 3) o resultado da operação `dot(x, y)` seria uma matriz de dimensão (3,3).\n",
    "\n",
    "\n",
    "- A multiplicação de uma matriz de dimensão (4, 3) por um vetor de dimensão (3, ) é um vetor de dimensão (4, )\n",
    "\n",
    "\n",
    "- Como a matriz `A` tem dimensão (3, 3), então, se o vetor y tivesse dimensão (3, 1), a função `dot(A, y)` funcionaria da mesma forma\n",
    "\n",
    "\n",
    "- Se o vetor `y` tivesse dimensão (1, 3), a função `dot(A, y)` geraria erro, pois não obedeceria as regras da álgebra linear.\n"
   ]
  },
  {
   "cell_type": "markdown",
   "metadata": {},
   "source": [
    "### 4.4\tRedimensionamento de tensores (“reshaping”)\n",
    "\n",
    "Uma operação essencial de tensores, que é muito usada nas redes neurais, é o seu redimensionamento. \n",
    "\n",
    "Redimensionar um tensor significa rearranjar suas linhas e colunas para se obter um novo tensor com novos eixos de dimensões diferentes. Obviamente que o tensor redimensionado tem os mesmos elementos que o tensor original.\n",
    "\n",
    "Um caso especial de redimensionamento de tensores é a sua transposição. Transpor uma matriz significa trocar suas linhas por suas colunas. \n",
    "\n",
    "No código abaixo são apresentados alguns exemplos de redimensionamento de tensores usando as funções `reshape` e `transpose` da biblioteca Numpy.\n"
   ]
  },
  {
   "cell_type": "code",
   "execution_count": 24,
   "metadata": {},
   "outputs": [
    {
     "name": "stdout",
     "output_type": "stream",
     "text": [
      "X =  [[0. 1.]\n",
      " [2. 3.]\n",
      " [4. 5.]]\n",
      "Dimensão de X = (3, 2) \n",
      "\n",
      "y =  [[0.]\n",
      " [1.]\n",
      " [2.]\n",
      " [3.]\n",
      " [4.]\n",
      " [5.]]\n",
      "Dimensão de y = (6, 1) \n",
      "\n",
      "z =  [[0.]\n",
      " [2.]\n",
      " [4.]\n",
      " [1.]\n",
      " [3.]\n",
      " [5.]]\n",
      "Dimensão de z = (6, 1) \n",
      "\n",
      "W =  [[0. 1. 2.]\n",
      " [3. 4. 5.]]\n",
      "Dimensão de W = (2, 3) \n",
      "\n",
      "W transposto =  [[0. 3.]\n",
      " [1. 4.]\n",
      " [2. 5.]]\n",
      "Dimensão de w transposto = (3, 2)\n"
     ]
    }
   ],
   "source": [
    "# Importa bilblioteca numpy\n",
    "import numpy as np\n",
    "\n",
    "# Cria tensor X 2D\n",
    "X = np.array([[0., 1.],[2., 3.],[4., 5.]])\n",
    "print(\"X = \",X)\n",
    "print(\"Dimensão de X =\", X.shape, '\\n')\n",
    "\n",
    "# Cria vetor y redimensionando tensor X (seguindo as suas linhas)\n",
    "y = X.reshape((6,1)) #np.reshape(X, (6,1))\n",
    "print(\"y = \", y)\n",
    "print(\"Dimensão de y =\", y.shape,'\\n')\n",
    "\n",
    "# Cria vetor z redimensionando tensor X (seguindo as suas colunas)\n",
    "z = X.reshape((6,1), order='F')\n",
    "print(\"z = \", z)\n",
    "print(\"Dimensão de z =\", z.shape,'\\n')\n",
    "\n",
    "# Cria tensor W pelo redimensionando tensor X\n",
    "W = X.reshape((2,3))\n",
    "print(\"W = \", W)\n",
    "print(\"Dimensão de W =\", W.shape,'\\n')\n",
    "\n",
    "# Transpõe tensor W\n",
    "W = np.transpose(W) #W.T\n",
    "print(\"W transposto = \", W)\n",
    "print(\"Dimensão de w transposto =\", W.shape)"
   ]
  },
  {
   "cell_type": "markdown",
   "metadata": {},
   "source": [
    "- O padrão da função reshape é alocar os elementos no novo tensor seguindo as linhas do tensor original. Contudo, isso pode ser alterado de forma a seguir os elementos pelas colunas usando a opção order. \n",
    "\n",
    "\n",
    "- O cálculo da transposta da matriz `W` poderia ser realizado alternativamente simplesmente por `W.T`, onde o `T` representa transposta.\n"
   ]
  },
  {
   "cell_type": "markdown",
   "metadata": {},
   "source": [
    "## 5. Funções comuns da biblioteca Numpy \n",
    "\n",
    "Existem muitas funções que implementam operações elemento por elemento na biblioteca Numpy. Exemplos de algumas dessas funções são exponencial, logaritmo e potência, cuja utilização é apresentada na célula abaixo."
   ]
  },
  {
   "cell_type": "code",
   "execution_count": 27,
   "metadata": {},
   "outputs": [
    {
     "name": "stdout",
     "output_type": "stream",
     "text": [
      "Exponencial de x = [2.71828183e+00 4.53999298e-05 2.68811714e+43]\n",
      "Log10 de x = [ 0. nan  2.]\n",
      "Ln(x) = [0.                nan 4.60517019]\n",
      "Valor absoluto de x = [  1  10 100]\n",
      "Quadrado de x =  [    1   100 10000]\n"
     ]
    },
    {
     "name": "stderr",
     "output_type": "stream",
     "text": [
      "C:\\Users\\jklca\\Anaconda3\\lib\\site-packages\\ipykernel_launcher.py:10: RuntimeWarning: invalid value encountered in log10\n",
      "  # Remove the CWD from sys.path while we load stuff.\n",
      "C:\\Users\\jklca\\Anaconda3\\lib\\site-packages\\ipykernel_launcher.py:11: RuntimeWarning: invalid value encountered in log\n",
      "  # This is added back by InteractiveShellApp.init_path()\n"
     ]
    }
   ],
   "source": [
    "# Importa bilblioteca numpy\n",
    "import numpy as np\n",
    "\n",
    "# Cria vetor x\n",
    "x = np.array([1, -10, 100])\n",
    "\n",
    "# Calcula e apresenta exponencial, logaritmo base 10, logaritmo \n",
    "# neperiano, valor absoluto e quadrado dos elementos do tensor\n",
    "print('Exponencial de x =', np.exp(x))\n",
    "print('Log10 de x =', np.log10(x))\n",
    "print('Ln(x) =', np.log(x))\n",
    "print('Valor absoluto de x =', np.abs(x))  \n",
    "print('Quadrado de x = ', np.power(x,2))"
   ]
  },
  {
   "cell_type": "markdown",
   "metadata": {},
   "source": [
    "- Note que o segundo elemento do vetor `x` é negativo, portanto, o seu logaritmo não existe e assim o resultado desse cálculo aparece como sendo `nan`, que em Python significa que não existe.\n",
    "\n",
    "Outras quatro funções muito utilizadas são:\n",
    "\n",
    "- `max`: calcula o valor máximo dos elementos de um tensor;\n",
    "- `min`: calcula o valor mínimo dos elementos de um tensor;\n",
    "- `mean`: calcula a média dos elementos de um tensor;\n",
    "- `std`: calcula o desvio padrão dos elementos de um tensor.\n",
    "\n",
    "Se o tensor tiver mais do que um eixo é necessário indicar o eixo ao longo do qual se deseja realizar a operação utilizando o argumento `axis` $\\to$ se não for indicado nenhum eixo, então, o padrão da função é utilizado operando em todos os elementos do tensor.\n",
    "\n",
    "\n",
    "No código abaixo são apresentados exemplos de uso dessas funções."
   ]
  },
  {
   "cell_type": "code",
   "execution_count": 29,
   "metadata": {},
   "outputs": [
    {
     "name": "stdout",
     "output_type": "stream",
     "text": [
      " A =  [[1. 2. 3.]\n",
      " [4. 5. 6.]]\n",
      "Valor máximo de A = 6.0\n",
      "Valor máximo de cada coluna de A = [4. 5. 6.]\n",
      "Valor máximo de cada linha de A = [3. 6.]\n",
      "Valor mínimo de A = 1.0\n",
      "Valor mínimo de cada coluna de A = [1. 2. 3.]\n",
      "Valor mínimo de cada linha de A = [1. 4.]\n",
      "Valor médio de A = 3.5\n",
      "Valor médio de cada coluna de A = [2.5 3.5 4.5]\n",
      "Valor médio de cada linha de A = [2. 5.]\n",
      "Desvio padrão de A = 1.707825127659933\n",
      "Desvio padrão de cada coluna de A = [1.5 1.5 1.5]\n",
      "Desvio padrão de cada linha de A = [0.81649658 0.81649658]\n"
     ]
    }
   ],
   "source": [
    "# Importa bilblioteca numpy\n",
    "import numpy as np\n",
    "\n",
    "# Define matriz A\n",
    "A = np.array([[1., 2., 3.], [4., 5., 6.]])\n",
    "\n",
    "# Calcula e apresenta max, min, média e desvio padrão\n",
    "print(' A = ', A)\n",
    "print('Valor máximo de A =', np.max(A))\n",
    "print('Valor máximo de cada coluna de A =', np.max(A, axis=0))\n",
    "print('Valor máximo de cada linha de A =', np.max(A, axis=1))\n",
    "print('Valor mínimo de A =', np.min(A))\n",
    "print('Valor mínimo de cada coluna de A =', np.min(A, axis=0))\n",
    "print('Valor mínimo de cada linha de A =', np.min(A, axis=1))\n",
    "print('Valor médio de A =', np.mean(A))\n",
    "print('Valor médio de cada coluna de A =', np.mean(A, axis=0))\n",
    "print('Valor médio de cada linha de A =', np.mean(A, axis=1))\n",
    "print('Desvio padrão de A =', np.std(A))\n",
    "print('Desvio padrão de cada coluna de A =', np.std(A, axis=0))\n",
    "print('Desvio padrão de cada linha de A =', np.std(A, axis=1))"
   ]
  },
  {
   "cell_type": "markdown",
   "metadata": {},
   "source": [
    "## 6. Funções customizadas\n",
    "\n",
    "Como em qualquer linguagem de programação é possível criar novas funções utilizando as funções da biblioteca Numpy e obviamente elas serão capazes de realizar cálculos de forma vetorizada. \n",
    "\n",
    "\n",
    "#### Exemplo1: Normalização de dados\n",
    "\n",
    "Uma operação comum em aprendizado de máquina é normalizar os dados. Seja um conjunto de dados composto por $m$ vetores, cada um com $n$ elementos. Esses dados são colocados em uma matriz $V$ com $m$ linhas e $n$ colunas:\n",
    "\n",
    "\n",
    "$$V = \\begin{pmatrix}v_1\\\\ \\vdots \\\\v_m\\end{pmatrix}_{(m,n)}$$   \t\n",
    "\n",
    "onde $v_i$ é a $i$-ésima linha da matriz $V$, ou seja, é um vetor linha de $n$ elementos.\n",
    "\n",
    "Uma forma de normalizar dados é ter o módulo (ou norma) de cada dado igual a um. O módulo de um vetor $v$ é igual ao seu comprimento, sendo calculado por:\n",
    "\n",
    "$$||v||_2 = \\sqrt{v_1^2 + v_2^2 +...+ v_n^2}$$\n",
    "\n",
    "\n",
    "onde $||v||_2$ é o módulo do vetor $v$, $n$ é o número de elementos do vetor e $v_i$ é o $i$-ésimo elemento do vetor. A normalização das linhas da matriz $V$ é feita dividindo cada elemento de cada linha pelo módulo da linha, que pode ser realizada por uma operação vetorizada da seguinte forma:\n",
    "\n",
    "$$v_{i,norm} = \\frac{v_i}{||v_i||_2}$$\n",
    "\n",
    "Dessa forma a matriz $V$ com as suas linhas normalizadas ($V_{norm}$) é dada por:\n",
    "\n",
    "$$V = \\begin{pmatrix}\\frac{v_1}{||v_1||_2}\\\\ \\vdots \\\\ \\frac{v_m}{||v_m||_2}\\end{pmatrix}_{(m,n)}$$\n",
    "\n",
    "No código abaixo é criada e executada uma função que normaliza as linhas de uma matriz, ou seja, todas as linhas da matriz resultante têm módulo igual a um."
   ]
  },
  {
   "cell_type": "code",
   "execution_count": 33,
   "metadata": {},
   "outputs": [
    {
     "name": "stdout",
     "output_type": "stream",
     "text": [
      "Matriz V = [[1 2 3]\n",
      " [2 3 4]]\n",
      "Normas das linhas da matriz = [[3.74165739]\n",
      " [5.38516481]]\n",
      "Matriz com linhas normalizadas = [[0.26726124 0.53452248 0.80178373]\n",
      " [0.37139068 0.55708601 0.74278135]]\n"
     ]
    }
   ],
   "source": [
    "# Função com cálculo vetorizado para normalizar linhas de uma matriz\n",
    "def norm2(V):\n",
    "    \"\"\"\n",
    "    Argumento: V = matriz numpy de dimensões (m, n)\n",
    "    Retorna:\n",
    "    Vnorm = matriz normalizada linha por linha\n",
    "    lin_norm = norma das linhas da matriz original\n",
    "    \"\"\"\n",
    "    \n",
    "    # Cálculo da norma de cada linha da matriz V\n",
    "    lin_norm = np.linalg.norm(V, ord=2, axis = 1, keepdims = True)\n",
    "    \n",
    "    # Normalização das linhas na matriz\n",
    "    Vnorm = V/lin_norm\n",
    "\n",
    "    return Vnorm, lin_norm\n",
    "\n",
    "# Define uma matriz e executa função norm_lin\n",
    "V = np.array([[1, 2, 3], [2, 3, 4]])\n",
    "Vnorm, lin_norm = norm2(V)\n",
    "\n",
    "print('Matriz V =', V)\n",
    "print('Normas das linhas da matriz =', lin_norm)\n",
    "print('Matriz com linhas normalizadas =', Vnorm)"
   ]
  },
  {
   "cell_type": "markdown",
   "metadata": {},
   "source": [
    "- Nota-se que as normas das linhas da matriz são retornadas pela função `norm_lin()` somente para poderem ser visualizadas.\n",
    "\n",
    "- A função `linalg.norm()` calcula norma de tensores e pertence à classe `linalg` da biblioteca Numpy.\n",
    "\n",
    "- A função `linalg.norm()` possui alguns argumentos para definir o cálculo desejado:\n",
    "\n",
    "    - O tipo de norma que se deseja calcular é definido pelo argumento `ord`, que no caso da norma calculada no código acima  é a Forbenuis, ou norma-2. \n",
    "    \n",
    "    - O eixo que se deseja calcular a norma é definido por `axis`, no caso como se deseja calcular a norma da cada linha é definido `axis=0`.\n",
    "    \n",
    "    - Se for desejado calcular a norma de cada coluna deve-se usar `axis=1`.\n",
    "    \n",
    "    - Finalmente o argumento `keepdims=True`, mantém a dimensão do tensor a menos do eixo que é calculada a norma."
   ]
  },
  {
   "cell_type": "markdown",
   "metadata": {},
   "source": [
    "#### Exemplo 2: Normalização de dados\n",
    "\n",
    "Outra forma de normalizar dados utilizada em aprendizado de máquina é transformar os dados de forma que os elementos de cada dado tenham média zero e desvio padrão igual a 1.\n",
    "\n",
    "Da mesma forma que no exemplo anterior, tem-se $m$ dados, sendo que cada um consiste de um vetor linha de dimensão $n$. \n",
    "\n",
    "Nesse caso a matriz de dados, V, é representada de forma mais conveniente de acordo com a equação (3.5). \n",
    "\n",
    "$$V = \\begin{pmatrix}v_1 ... v_n\\end{pmatrix}_{(m,n)}$$   \t\n",
    "\n",
    "onde $v_j$ é a $j$-ésima coluna da matriz $V$, ou seja, é um vetor coluna de $m$ elementos. Observe que nesse caso a normalização é realizada ao longo das colunas. \n",
    "\n",
    "Deseja-se que cada elemento das colunas da matrix $V$ tenha média igual a zero $\\to$ assim, a média e o desvio padrão deve ser calculada para cada coluna da matriz $V$ e a normalização é realizada para cada coluna. \n",
    "\n",
    "A normalização das colunas da matriz nesse exemplo é feita subtraindo de cada elemento a média da coluna e dividindo pelo seu desvio padrão:\n",
    "\n",
    "$$v_{j,nomr} = \\frac{v_j - \\overline{v}_j}{\\sigma_j}, para  j = 1,...,n$$\n",
    "\n",
    "onde $\\overline{v}_j$ e $\\sigma_j$ são respectivamente o valor médio e o desvio padrão da $j$-ésima coluna da matriz $V$.\n",
    "\n",
    "No código abaixo é criada e executada uma função que realiza essa normalização."
   ]
  },
  {
   "cell_type": "code",
   "execution_count": 34,
   "metadata": {},
   "outputs": [
    {
     "name": "stdout",
     "output_type": "stream",
     "text": [
      "Matriz V = [[1 2 3]\n",
      " [2 3 4]\n",
      " [3 4 5]]\n",
      "Média das colunas = [2. 3. 4.]\n",
      "Desvio padrão das colunas = [0.81649658 0.81649658 0.81649658]\n",
      "Matriz com colunas normalizadas = [[-1.22474487 -1.22474487 -1.22474487]\n",
      " [ 0.          0.          0.        ]\n",
      " [ 1.22474487  1.22474487  1.22474487]]\n"
     ]
    }
   ],
   "source": [
    "# Função com cálculo vetorizado para normalizar colunas de uma matriz\n",
    "def norm_col(V):\n",
    "    \"\"\"\n",
    "    Argumento: V = matriz numpy de dimensões (m, n)\n",
    "    Retorna: \n",
    "    Vnorm = matriz normalizada por coluna\n",
    "    media_col = valor médio das colunas da matriz original\n",
    "    std_col = desvio padrão das colunas da matriz original\n",
    "    \"\"\"\n",
    "    \n",
    "    # Calculo da média de cada coluna da matriz A\n",
    "    media_col = np.mean(V, axis = 1)\n",
    "    \n",
    "    # Determina valor absoluto máximo de cada coluna\n",
    "    std_col = np.std(V, axis=1)\n",
    "    \n",
    "    # Normalização das colunas na matriz\n",
    "    Vnorm = (V - media_col)/std_col\n",
    "    \n",
    "    return Vnorm, media_col, std_col\n",
    "\n",
    "# Define matriz V e executa função norm_col\n",
    "V = np.array([[1, 2, 3], [2, 3, 4], [3, 4, 5]])\n",
    "Vnorm, media_col, std_col = norm_col(V)\n",
    "\n",
    "print('Matriz V =', V)\n",
    "print('Média das colunas =', media_col)\n",
    "print('Desvio padrão das colunas =', std_col)\n",
    "print('Matriz com colunas normalizadas =', Vnorm)"
   ]
  },
  {
   "cell_type": "markdown",
   "metadata": {},
   "source": [
    "## 7. Propagação para frente em uma camada\n",
    "\n",
    "As equações da propagação para frente na $l$-ésima camada de uma RNA são definidas por:\n",
    "\n",
    "$$z^{[l]} = W^{[l]} a^{[l-1]} + b^{[l]}$$\n",
    "\n",
    "$$a^{[l]} = \\sigma(z^{[l]})$$\n",
    " \n",
    "onde:\n",
    "\n",
    "- dimensão de $W^{[l]} =  (n^{[l]}, n^{[l-1]})$;\n",
    "- dimensão de $a^{[l-1]}  = (n^{[l-1]}, 1)$;\n",
    "- dimensão de $b^{[l]}$ = dimensão de $a^{[l]}$ = dimensão de $z^{[l]} = (n^{[l]}, 1)$.\n",
    "\n",
    "Para inicializar os pesos das ligações de uma RNA são usados números aleatórios $\\to$ a biblioteca Numpy possui a função `random.random()` para gerar números aleatórios com distribuição uniforme entre 0 e 1.\n",
    "\n",
    "No código abaico apresenta um exemplo do cálculo vetorizado da propagação para frente de uma camada de uma RNA.\n"
   ]
  },
  {
   "cell_type": "code",
   "execution_count": 36,
   "metadata": {},
   "outputs": [
    {
     "name": "stdout",
     "output_type": "stream",
     "text": [
      "W =  [[0.18236187 0.23712558 0.79159864]\n",
      " [0.63347229 0.38816348 0.87673339]\n",
      " [0.09491629 0.06247212 0.1737442 ]\n",
      " [0.626605   0.99089785 0.70030163]]\n",
      "b =  [[0.87770138]\n",
      " [0.25466509]\n",
      " [0.02661593]\n",
      " [0.68330255]]\n",
      "a_ant =  [[1.]\n",
      " [1.]\n",
      " [1.]]\n",
      "a =  [[0.88980859]\n",
      " [0.89595198]\n",
      " [0.58849531]\n",
      " [0.95262411]]\n"
     ]
    }
   ],
   "source": [
    "# Importa bilblioteca numpy\n",
    "import numpy as np\n",
    "\n",
    "# Função para cálculo da propagação para frente na camada l\n",
    "def frente(W, b, a_ant):\n",
    "    z = np.dot(W,a_ant) + b\n",
    "    a = 1/(1 + np.exp(-z))\n",
    "    return a\n",
    "\n",
    "# Inicialização dos parâmetros da camada da RNA\n",
    "W = np.random.random((4,3))\n",
    "b = np.random.random((4,1))\n",
    "a_ant = np.ones((3,1))\n",
    "\n",
    "# Calculo da propagação para frente na camada\n",
    "a = frente(W,b,a_ant)\n",
    "\n",
    "# Apresenta resultados\n",
    "print(\"W = \",W)\n",
    "print(\"b = \",b)\n",
    "print(\"a_ant = \",a_ant)\n",
    "print(\"a = \",a)"
   ]
  },
  {
   "cell_type": "markdown",
   "metadata": {},
   "source": [
    "- Observa-se que essa camada possui 4 neurônios e a camada anterior possui 3 neurônios, ou seja: $n^{[l]} = 4$ e $n^{[l-1]} = 3$.\n",
    "\n",
    "\n",
    "- A função `np.random.random()` recebe uma tuple que repesenta os números de elementos de cada eixo do tensor gerado."
   ]
  }
 ],
 "metadata": {
  "kernelspec": {
   "display_name": "Python 3",
   "language": "python",
   "name": "python3"
  },
  "language_info": {
   "codemirror_mode": {
    "name": "ipython",
    "version": 3
   },
   "file_extension": ".py",
   "mimetype": "text/x-python",
   "name": "python",
   "nbconvert_exporter": "python",
   "pygments_lexer": "ipython3",
   "version": "3.8.8"
  }
 },
 "nbformat": 4,
 "nbformat_minor": 2
}
