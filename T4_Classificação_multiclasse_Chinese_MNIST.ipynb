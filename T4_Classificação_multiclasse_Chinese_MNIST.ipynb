{
 "cells": [
  {
   "cell_type": "markdown",
   "id": "1a2ca156",
   "metadata": {},
   "source": [
    "# Trabalho #4 - Classificação multiclasse\n",
    "\n",
    "Nesse trabalho você vai treinar uma rede para realizar uma tarefa de classificação multiclasse.\n",
    "\n",
    "A tarefa é classificar imagens de dígitos numéricos chineses."
   ]
  },
  {
   "cell_type": "markdown",
   "id": "4cdf7d41",
   "metadata": {},
   "source": [
    "## Coloque seu nome aqui:\n",
    "\n",
    "Aluno: Bruno Pinto de Oliveira\n",
    "\n",
    "RA: 21.84712-4"
   ]
  },
  {
   "cell_type": "markdown",
   "id": "2bcbe917",
   "metadata": {},
   "source": [
    "### Importação das principais bibliotecas\n",
    "\n",
    "Em primeiro lugar é necessário importar alguns pacotes do Python que serão usados nesse trabalho."
   ]
  },
  {
   "cell_type": "code",
   "execution_count": 3,
   "id": "3fe23845",
   "metadata": {},
   "outputs": [],
   "source": [
    "import numpy as np\n",
    "import matplotlib.pyplot as plt\n",
    "import tensorflow as tf\n",
    "import pandas as pd\n",
    "import os"
   ]
  },
  {
   "cell_type": "markdown",
   "id": "df36cc69",
   "metadata": {},
   "source": [
    "## 1 - Visão geral do problema\n",
    "\n",
    "O objetivo desse problema é determinar o dígito da lingua chinesa que é mostrado em uma imagem usando uma RNA. Assim, esse problema consiste em dada uma imagem, a RNA avalia a probabilidade de existirem determinados dígitos na imagem e determina qual o mais provável entre 15 possíveis.\n",
    "\n",
    "O banco de dados usado nesse exemplo é o Chinese-MNIST, que consiste de imagens de dígitos chineses. Esse banco de dados pode ser obtido no Kaggle em https://www.kaggle.com/gpreda/chinese-mnist."
   ]
  },
  {
   "cell_type": "markdown",
   "id": "46627a77",
   "metadata": {},
   "source": [
    "## 2 - Dados de treinamento\n",
    "\n",
    "Características dos dados:\n",
    "\n",
    "- O banco de dados Chinese MNIST possui 15.000 exemplos;\n",
    "- Cada exemplo consiste de uma imagem em tons de cinza, de dimensão 64x64 pixels;\n",
    "- Cada imagem é associada a um rótulo de 15 classes;\n",
    "- O valor da intensidade luminosa de cada pixel da imagem é um número inteiro entre 0 e 255.\n",
    "\n",
    "Primeiramente você deve acessar o link do Kaggle onde se encontra os dados e fazer download dos mesmos e descompactar o arquivo. \n",
    "\n",
    "\n",
    "### 2.1 Carregar dados\n",
    "\n",
    "Após descompactar o arquivo com os dados execute as células abaixo para carregar e inspecionar os dados.\n",
    "\n",
    "Note que os dados devem estar em uma pasta de nome `Chinese_MNIST` e as imagens estão dentro da pasta `Chinese_MNIST/data`.\n",
    "\n",
    "O arquivo `chinese_mnist.csv` contém os nomes dos arquivos das imagens codificados e as classes de cada imagem."
   ]
  },
  {
   "cell_type": "code",
   "execution_count": 4,
   "id": "8b66735d",
   "metadata": {
    "scrolled": true
   },
   "outputs": [
    {
     "data": {
      "text/html": [
       "<div>\n",
       "<style scoped>\n",
       "    .dataframe tbody tr th:only-of-type {\n",
       "        vertical-align: middle;\n",
       "    }\n",
       "\n",
       "    .dataframe tbody tr th {\n",
       "        vertical-align: top;\n",
       "    }\n",
       "\n",
       "    .dataframe thead th {\n",
       "        text-align: right;\n",
       "    }\n",
       "</style>\n",
       "<table border=\"1\" class=\"dataframe\">\n",
       "  <thead>\n",
       "    <tr style=\"text-align: right;\">\n",
       "      <th></th>\n",
       "      <th>suite_id</th>\n",
       "      <th>sample_id</th>\n",
       "      <th>code</th>\n",
       "      <th>value</th>\n",
       "      <th>character</th>\n",
       "    </tr>\n",
       "  </thead>\n",
       "  <tbody>\n",
       "    <tr>\n",
       "      <th>0</th>\n",
       "      <td>1</td>\n",
       "      <td>1</td>\n",
       "      <td>10</td>\n",
       "      <td>9</td>\n",
       "      <td>九</td>\n",
       "    </tr>\n",
       "    <tr>\n",
       "      <th>1</th>\n",
       "      <td>1</td>\n",
       "      <td>10</td>\n",
       "      <td>10</td>\n",
       "      <td>9</td>\n",
       "      <td>九</td>\n",
       "    </tr>\n",
       "    <tr>\n",
       "      <th>2</th>\n",
       "      <td>1</td>\n",
       "      <td>2</td>\n",
       "      <td>10</td>\n",
       "      <td>9</td>\n",
       "      <td>九</td>\n",
       "    </tr>\n",
       "    <tr>\n",
       "      <th>3</th>\n",
       "      <td>1</td>\n",
       "      <td>3</td>\n",
       "      <td>10</td>\n",
       "      <td>9</td>\n",
       "      <td>九</td>\n",
       "    </tr>\n",
       "    <tr>\n",
       "      <th>4</th>\n",
       "      <td>1</td>\n",
       "      <td>4</td>\n",
       "      <td>10</td>\n",
       "      <td>9</td>\n",
       "      <td>九</td>\n",
       "    </tr>\n",
       "  </tbody>\n",
       "</table>\n",
       "</div>"
      ],
      "text/plain": [
       "   suite_id  sample_id  code  value character\n",
       "0         1          1    10      9         九\n",
       "1         1         10    10      9         九\n",
       "2         1          2    10      9         九\n",
       "3         1          3    10      9         九\n",
       "4         1          4    10      9         九"
      ]
     },
     "execution_count": 4,
     "metadata": {},
     "output_type": "execute_result"
    }
   ],
   "source": [
    "# Carrega arquivo de informações sobre dados\n",
    "data_df = pd.read_csv('Chinese_MNIST/chinese_mnist.csv')\n",
    "data_df.head()"
   ]
  },
  {
   "cell_type": "markdown",
   "id": "5a3fdcdb",
   "metadata": {},
   "source": [
    "### 2.2 Inspecionar dados\n",
    "\n",
    "Vamos verificar o número de dados de cada classe de dígito, se existem dados ausentes e quantos arquivos de imagens existem."
   ]
  },
  {
   "cell_type": "code",
   "execution_count": 5,
   "id": "d4a9e8ce",
   "metadata": {},
   "outputs": [
    {
     "data": {
      "text/plain": [
       "value      character\n",
       "0          零            1000\n",
       "1          一            1000\n",
       "2          二            1000\n",
       "3          三            1000\n",
       "4          四            1000\n",
       "5          五            1000\n",
       "6          六            1000\n",
       "7          七            1000\n",
       "8          八            1000\n",
       "9          九            1000\n",
       "10         十            1000\n",
       "100        百            1000\n",
       "1000       千            1000\n",
       "10000      万            1000\n",
       "100000000  亿            1000\n",
       "dtype: int64"
      ]
     },
     "execution_count": 5,
     "metadata": {},
     "output_type": "execute_result"
    }
   ],
   "source": [
    "data_df.groupby([\"value\",\"character\"]).size()"
   ]
  },
  {
   "cell_type": "code",
   "execution_count": 6,
   "id": "d2928269",
   "metadata": {},
   "outputs": [
    {
     "data": {
      "text/html": [
       "<div>\n",
       "<style scoped>\n",
       "    .dataframe tbody tr th:only-of-type {\n",
       "        vertical-align: middle;\n",
       "    }\n",
       "\n",
       "    .dataframe tbody tr th {\n",
       "        vertical-align: top;\n",
       "    }\n",
       "\n",
       "    .dataframe thead th {\n",
       "        text-align: right;\n",
       "    }\n",
       "</style>\n",
       "<table border=\"1\" class=\"dataframe\">\n",
       "  <thead>\n",
       "    <tr style=\"text-align: right;\">\n",
       "      <th></th>\n",
       "      <th>Total</th>\n",
       "      <th>Percent</th>\n",
       "    </tr>\n",
       "  </thead>\n",
       "  <tbody>\n",
       "    <tr>\n",
       "      <th>suite_id</th>\n",
       "      <td>0</td>\n",
       "      <td>0.0</td>\n",
       "    </tr>\n",
       "    <tr>\n",
       "      <th>sample_id</th>\n",
       "      <td>0</td>\n",
       "      <td>0.0</td>\n",
       "    </tr>\n",
       "    <tr>\n",
       "      <th>code</th>\n",
       "      <td>0</td>\n",
       "      <td>0.0</td>\n",
       "    </tr>\n",
       "    <tr>\n",
       "      <th>value</th>\n",
       "      <td>0</td>\n",
       "      <td>0.0</td>\n",
       "    </tr>\n",
       "    <tr>\n",
       "      <th>character</th>\n",
       "      <td>0</td>\n",
       "      <td>0.0</td>\n",
       "    </tr>\n",
       "  </tbody>\n",
       "</table>\n",
       "</div>"
      ],
      "text/plain": [
       "           Total  Percent\n",
       "suite_id       0      0.0\n",
       "sample_id      0      0.0\n",
       "code           0      0.0\n",
       "value          0      0.0\n",
       "character      0      0.0"
      ]
     },
     "execution_count": 6,
     "metadata": {},
     "output_type": "execute_result"
    }
   ],
   "source": [
    "# Verifica se existem dados ausentes\n",
    "total = data_df.isnull().sum().sort_values(ascending = False)\n",
    "percent = (data_df.isnull().sum()/data_df.isnull().count()*100).sort_values(ascending = False)\n",
    "missing_data = pd.concat([total, percent], axis=1, keys=['Total', 'Percent'])\n",
    "missing_data"
   ]
  },
  {
   "cell_type": "code",
   "execution_count": 7,
   "id": "ae8fa3c8",
   "metadata": {},
   "outputs": [
    {
     "name": "stdout",
     "output_type": "stream",
     "text": [
      "Numero de imagens: 15000\n"
     ]
    }
   ],
   "source": [
    "# Verifica número de arquivos de imagens existentes\n",
    "image_files = list(os.listdir(\"Chinese_MNIST/data\"))\n",
    "print(\"Numero de imagens: {}\".format(len(image_files)))"
   ]
  },
  {
   "cell_type": "markdown",
   "id": "01b30dab",
   "metadata": {},
   "source": [
    "### 2.3 Anexar propriedades das imagens ao dataframe\n",
    "\n",
    "Como as imagens tem uma convenção de nome de `input_ [siote_id] _ [sample_id] _ [código] .jpg`, devemos criar mais uma coluna no dataframe com o nome do arquivo das imagens para podermos associar cada imagem à sua classe correspondente."
   ]
  },
  {
   "cell_type": "code",
   "execution_count": 8,
   "id": "582e4606",
   "metadata": {},
   "outputs": [
    {
     "data": {
      "text/html": [
       "<div>\n",
       "<style scoped>\n",
       "    .dataframe tbody tr th:only-of-type {\n",
       "        vertical-align: middle;\n",
       "    }\n",
       "\n",
       "    .dataframe tbody tr th {\n",
       "        vertical-align: top;\n",
       "    }\n",
       "\n",
       "    .dataframe thead th {\n",
       "        text-align: right;\n",
       "    }\n",
       "</style>\n",
       "<table border=\"1\" class=\"dataframe\">\n",
       "  <thead>\n",
       "    <tr style=\"text-align: right;\">\n",
       "      <th></th>\n",
       "      <th>suite_id</th>\n",
       "      <th>sample_id</th>\n",
       "      <th>code</th>\n",
       "      <th>value</th>\n",
       "      <th>character</th>\n",
       "      <th>file</th>\n",
       "    </tr>\n",
       "  </thead>\n",
       "  <tbody>\n",
       "    <tr>\n",
       "      <th>0</th>\n",
       "      <td>1</td>\n",
       "      <td>1</td>\n",
       "      <td>10</td>\n",
       "      <td>9</td>\n",
       "      <td>九</td>\n",
       "      <td>input_1_1_10.jpg</td>\n",
       "    </tr>\n",
       "    <tr>\n",
       "      <th>1</th>\n",
       "      <td>1</td>\n",
       "      <td>10</td>\n",
       "      <td>10</td>\n",
       "      <td>9</td>\n",
       "      <td>九</td>\n",
       "      <td>input_1_10_10.jpg</td>\n",
       "    </tr>\n",
       "    <tr>\n",
       "      <th>2</th>\n",
       "      <td>1</td>\n",
       "      <td>2</td>\n",
       "      <td>10</td>\n",
       "      <td>9</td>\n",
       "      <td>九</td>\n",
       "      <td>input_1_2_10.jpg</td>\n",
       "    </tr>\n",
       "    <tr>\n",
       "      <th>3</th>\n",
       "      <td>1</td>\n",
       "      <td>3</td>\n",
       "      <td>10</td>\n",
       "      <td>9</td>\n",
       "      <td>九</td>\n",
       "      <td>input_1_3_10.jpg</td>\n",
       "    </tr>\n",
       "    <tr>\n",
       "      <th>4</th>\n",
       "      <td>1</td>\n",
       "      <td>4</td>\n",
       "      <td>10</td>\n",
       "      <td>9</td>\n",
       "      <td>九</td>\n",
       "      <td>input_1_4_10.jpg</td>\n",
       "    </tr>\n",
       "  </tbody>\n",
       "</table>\n",
       "</div>"
      ],
      "text/plain": [
       "   suite_id  sample_id  code  value character               file\n",
       "0         1          1    10      9         九   input_1_1_10.jpg\n",
       "1         1         10    10      9         九  input_1_10_10.jpg\n",
       "2         1          2    10      9         九   input_1_2_10.jpg\n",
       "3         1          3    10      9         九   input_1_3_10.jpg\n",
       "4         1          4    10      9         九   input_1_4_10.jpg"
      ]
     },
     "execution_count": 8,
     "metadata": {},
     "output_type": "execute_result"
    }
   ],
   "source": [
    "import skimage.io\n",
    "\n",
    "def image_files(x):\n",
    "    file_name = f\"input_{x[0]}_{x[1]}_{x[2]}.jpg\"\n",
    "    return file_name\n",
    "data_df[\"file\"] = data_df.apply(image_files, axis=1)\n",
    "\n",
    "def image_sizes(file_name):\n",
    "    image = skimage.io.imread(\"Chinese_MNIST/data/\" + file_name)\n",
    "    return list(image.shape)\n",
    "\n",
    "data_df = pd.concat([data_df],axis=1, sort=False)\n",
    "\n",
    "data_df.head()"
   ]
  },
  {
   "cell_type": "markdown",
   "id": "38b5d9ab",
   "metadata": {},
   "source": [
    "## 3. Processamento dos dados\n",
    "\n",
    "Primeiramente precisamos dividir os dados nos conjuntos de treinamento e teste. Vamos usar 80% para treinamento e 20% para teste/validação."
   ]
  },
  {
   "cell_type": "code",
   "execution_count": 9,
   "id": "6bd2d8ea",
   "metadata": {},
   "outputs": [
    {
     "name": "stdout",
     "output_type": "stream",
     "text": [
      "Train set: (12000, 6)\n",
      "Test set: (3000, 6)\n"
     ]
    }
   ],
   "source": [
    "from sklearn.model_selection import train_test_split\n",
    "\n",
    "train_df, test_df = train_test_split(data_df, test_size=0.2, random_state=42, stratify=data_df[\"code\"].values)\n",
    "\n",
    "print(\"Train set: {}\".format(train_df.shape))\n",
    "print(\"Test set: {}\".format(test_df.shape))"
   ]
  },
  {
   "cell_type": "markdown",
   "id": "a9f5bcf9",
   "metadata": {},
   "source": [
    "As imagens precisam ser carregadas, redimensionadas e normalizadas. Para isso vamos usar uma função que carrega as imagens, redimensiona-as para (64, 64) e normaliza os pixels para terem valores reais entre 0 e 1.\n",
    "\n",
    "Precisamos também de uma função para criar a classe do dígito correspondente a cada imagem."
   ]
  },
  {
   "cell_type": "code",
   "execution_count": 10,
   "id": "a85e8c11",
   "metadata": {
    "scrolled": true
   },
   "outputs": [
    {
     "name": "stdout",
     "output_type": "stream",
     "text": [
      "Dimensão do tensor das imagens de treinamento: (12000, 64, 64)\n",
      "Dimensão do tensor das imagens de teste: (3000, 64, 64)\n",
      "Dimensão do tensor de classes de treinamento: (12000, 15)\n",
      "Dimensão do tensor de classes de teste: (3000, 15)\n"
     ]
    }
   ],
   "source": [
    "import skimage.transform\n",
    "\n",
    "def read_image(file_name):\n",
    "    #print(file_name)\n",
    "    image = skimage.io.imread(\"Chinese_MNIST/data/\" + file_name)\n",
    "    image = skimage.transform.resize(image, (64, 64), mode='reflect')\n",
    "    return image\n",
    "\n",
    "def categories_encoder(dataset, var='character'):\n",
    "    X = np.stack(dataset['file'].apply(read_image))\n",
    "    y = pd.get_dummies(dataset[var], drop_first=False)\n",
    "    return X, y\n",
    "\n",
    "X_train, y_train = categories_encoder(train_df)\n",
    "X_test, y_test = categories_encoder(test_df)\n",
    "\n",
    "print('Dimensão do tensor das imagens de treinamento:', X_train.shape)\n",
    "print('Dimensão do tensor das imagens de teste:', X_test.shape)\n",
    "print('Dimensão do tensor de classes de treinamento:', y_train.shape)\n",
    "print('Dimensão do tensor de classes de teste:', y_test.shape)"
   ]
  },
  {
   "cell_type": "markdown",
   "id": "9e572075",
   "metadata": {},
   "source": [
    "Como vamos processar as imagens com uma rede de camadas densas, devemos transformá-las em vetores."
   ]
  },
  {
   "cell_type": "code",
   "execution_count": 11,
   "id": "22d8ac96",
   "metadata": {},
   "outputs": [
    {
     "name": "stdout",
     "output_type": "stream",
     "text": [
      "Dimensão do tensor das imagens de treinamento: (12000, 4096)\n",
      "Dimensão do tensor das imagens de teste: (3000, 4096)\n",
      "Dimensão do tensor de classes de treinamento: (12000, 15)\n",
      "Dimensão do tensor de classes de teste: (3000, 15)\n",
      "Valores mímnimo e máximo dos pixels das imagens: 0.0 1.0\n"
     ]
    }
   ],
   "source": [
    "# Redimensionamento das images \n",
    "X_train_flat = np.reshape(X_train, (12000, 64*64))\n",
    "X_test_flat = np.reshape(X_test, (3000, 64*64))\n",
    "\n",
    "# Transformação das saídas em tensor numpy\n",
    "y_train = np.array(y_train)\n",
    "y_test = np.array(y_test)\n",
    "\n",
    "print('Dimensão do tensor das imagens de treinamento:', X_train_flat.shape)\n",
    "print('Dimensão do tensor das imagens de teste:', X_test_flat.shape)\n",
    "print('Dimensão do tensor de classes de treinamento:', y_train.shape)\n",
    "print('Dimensão do tensor de classes de teste:', y_test.shape)\n",
    "print('Valores mímnimo e máximo dos pixels das imagens:', np.min(X_train_flat), np.max(X_train_flat))"
   ]
  },
  {
   "cell_type": "code",
   "execution_count": 12,
   "id": "556301b9",
   "metadata": {},
   "outputs": [
    {
     "name": "stdout",
     "output_type": "stream",
     "text": [
      "y = 4 (y_hot=[0 0 0 0 1 0 0 0 0 0 0 0 0 0 0])\n"
     ]
    },
    {
     "data": {
      "image/png": "[encoded data removed]",
      "text/plain": [
       "<Figure size 432x288 with 1 Axes>"
      ]
     },
     "metadata": {
      "needs_background": "light"
     },
     "output_type": "display_data"
    }
   ],
   "source": [
    "# Exemplo de uma imagem\n",
    "index = 11\n",
    "plt.imshow(X_train[index], cmap='gray')\n",
    "print (\"y = \" + str(np.argmax(y_train[index])) + \" (y_hot=\" + str(y_train[index]) + \")\")"
   ]
  },
  {
   "cell_type": "markdown",
   "id": "6470ea67",
   "metadata": {},
   "source": [
    "## 3. Para você fazer\n",
    "\n",
    "Você deve desenvolver uma rede neural usando a plataforma TensorFlow-Keras, para classificar os dígitos escritos em chinês.\n",
    "\n",
    "Além de mostrar a configuração da rede utilizada, os parâmetros escolhidos para a compilação e treinamento, apresente pelo menos os seguintes resultados:\n",
    "\n",
    "1. Resultado do processo de treinamento (gráficos);\n",
    "\n",
    "2. Valores da função de custo e da métrica para os dados de treinamento e teste (use o método evaluate);\n",
    "\n",
    "3. Gráfico com as classes previstas junto com as classes reais dos dados de teste. Use círculos de cores diferentes para diferenciar as classe previstas das reais.\n",
    "\n",
    "4. Matriz de confusão dos resulatdos para facilitar a análise de desempenho da sua rede.\n",
    "\n",
    "Para entregar o seu trabalho, transforme o seu notebook em pdf e faça o upload do mesmo nesse espaço.  "
   ]
  },
  {
   "cell_type": "markdown",
   "id": "7daaf419",
   "metadata": {},
   "source": [
    "## 3.1 Configuração da RNA"
   ]
  },
  {
   "cell_type": "code",
   "execution_count": 21,
   "id": "9f262fd1",
   "metadata": {},
   "outputs": [
    {
     "name": "stdout",
     "output_type": "stream",
     "text": [
      "Model: \"sequential_2\"\n",
      "_________________________________________________________________\n",
      "Layer (type)                 Output Shape              Param #   \n",
      "=================================================================\n",
      "dense_2 (Dense)              (None, 256)               1048832   \n",
      "_________________________________________________________________\n",
      "dense_3 (Dense)              (None, 64)                16448     \n",
      "_________________________________________________________________\n",
      "dense_4 (Dense)              (None, 15)                975       \n",
      "=================================================================\n",
      "Total params: 1,066,255\n",
      "Trainable params: 1,066,255\n",
      "Non-trainable params: 0\n",
      "_________________________________________________________________\n"
     ]
    }
   ],
   "source": [
    "# Importa bibliotecas do TensorFlow\n",
    "from tensorflow.keras import models\n",
    "from tensorflow.keras import layers\n",
    "\n",
    "\n",
    "# Configuração da RNA\n",
    "rna = models.Sequential()\n",
    "\n",
    "# Determinação dos números de neurônios e do número de camadas. 'input_shate' recebe o valor de 64*64px = 4096.\n",
    "rna.add(layers.Dense(256, activation='relu', input_shape=(X_train_flat.shape[1],)))\n",
    "rna.add(layers.Dense(64,activation='relu'))\n",
    "rna.add(layers.Dense(15, activation='softmax'))\n",
    "\n",
    "\n",
    "# Mostra resuma da rede\n",
    "rna.summary()"
   ]
  },
  {
   "cell_type": "code",
   "execution_count": 22,
   "id": "08eb839f",
   "metadata": {
    "scrolled": false
   },
   "outputs": [
    {
     "data": {
      "image/png": "[encoded data removed]",
      "text/plain": [
       "<IPython.core.display.Image object>"
      ]
     },
     "execution_count": 22,
     "metadata": {},
     "output_type": "execute_result"
    }
   ],
   "source": [
    "from tensorflow.keras.utils import plot_model\n",
    "import pydot\n",
    "\n",
    "# Ilustra a representação esquemática do RNA\n",
    "plot_model(rna, to_file='rna.png', show_shapes=True)"
   ]
  },
  {
   "cell_type": "markdown",
   "id": "fcd44338",
   "metadata": {},
   "source": [
    "## 3.2 Compilação da RNA"
   ]
  },
  {
   "cell_type": "code",
   "execution_count": 23,
   "id": "0bd9e272",
   "metadata": {},
   "outputs": [],
   "source": [
    "# Importa classe dos otimizadores\n",
    "from tensorflow.keras import optimizers\n",
    "\n",
    "# Define otimizador RMSprop com taxa de aprendizado igual a 0.01\n",
    "rms = optimizers.RMSprop(lr=0.001)\n",
    "\n",
    "# Compilaçõ da RNA\n",
    "rna.compile(optimizer=rms, loss='categorical_crossentropy', metrics=['accuracy'])"
   ]
  },
  {
   "cell_type": "markdown",
   "id": "5da7d529",
   "metadata": {},
   "source": [
    "## 3.3 Treinamento da RNA"
   ]
  },
  {
   "cell_type": "code",
   "execution_count": 24,
   "id": "64aba4c3",
   "metadata": {},
   "outputs": [
    {
     "name": "stdout",
     "output_type": "stream",
     "text": [
      "Epoch 1/25\n",
      "24/24 [==============================] - 4s 173ms/step - loss: 2.2848 - accuracy: 0.3043 - val_loss: 2.0007 - val_accuracy: 0.4270\n",
      "Epoch 2/25\n",
      "24/24 [==============================] - 1s 51ms/step - loss: 1.7763 - accuracy: 0.4976 - val_loss: 1.7204 - val_accuracy: 0.5113\n",
      "Epoch 3/25\n",
      "24/24 [==============================] - 1s 54ms/step - loss: 1.4889 - accuracy: 0.5825 - val_loss: 1.5171 - val_accuracy: 0.5610\n",
      "Epoch 4/25\n",
      "24/24 [==============================] - 1s 53ms/step - loss: 1.2661 - accuracy: 0.6422 - val_loss: 1.3850 - val_accuracy: 0.5940\n",
      "Epoch 5/25\n",
      "24/24 [==============================] - 1s 51ms/step - loss: 1.0863 - accuracy: 0.6959 - val_loss: 1.2135 - val_accuracy: 0.6453\n",
      "Epoch 6/25\n",
      "24/24 [==============================] - 1s 55ms/step - loss: 0.9319 - accuracy: 0.7424 - val_loss: 1.1350 - val_accuracy: 0.6643\n",
      "Epoch 7/25\n",
      "24/24 [==============================] - 2s 73ms/step - loss: 0.8054 - accuracy: 0.7795 - val_loss: 1.0197 - val_accuracy: 0.6990\n",
      "Epoch 8/25\n",
      "24/24 [==============================] - 1s 51ms/step - loss: 0.7066 - accuracy: 0.8077 - val_loss: 0.9678 - val_accuracy: 0.7063\n",
      "Epoch 9/25\n",
      "24/24 [==============================] - 1s 54ms/step - loss: 0.6163 - accuracy: 0.8336 - val_loss: 0.8931 - val_accuracy: 0.7327\n",
      "Epoch 10/25\n",
      "24/24 [==============================] - 1s 53ms/step - loss: 0.5413 - accuracy: 0.8573 - val_loss: 0.8441 - val_accuracy: 0.7507\n",
      "Epoch 11/25\n",
      "24/24 [==============================] - 1s 51ms/step - loss: 0.4813 - accuracy: 0.8740 - val_loss: 0.8296 - val_accuracy: 0.7470\n",
      "Epoch 12/25\n",
      "24/24 [==============================] - 1s 53ms/step - loss: 0.4256 - accuracy: 0.8887 - val_loss: 0.8082 - val_accuracy: 0.7537\n",
      "Epoch 13/25\n",
      "24/24 [==============================] - 1s 54ms/step - loss: 0.3781 - accuracy: 0.9029 - val_loss: 0.7526 - val_accuracy: 0.7737\n",
      "Epoch 14/25\n",
      "24/24 [==============================] - 1s 52ms/step - loss: 0.3372 - accuracy: 0.9155 - val_loss: 0.7275 - val_accuracy: 0.7870\n",
      "Epoch 15/25\n",
      "24/24 [==============================] - 1s 51ms/step - loss: 0.3059 - accuracy: 0.9229 - val_loss: 0.7145 - val_accuracy: 0.7797\n",
      "Epoch 16/25\n",
      "24/24 [==============================] - 1s 56ms/step - loss: 0.2700 - accuracy: 0.9338 - val_loss: 0.7031 - val_accuracy: 0.7940\n",
      "Epoch 17/25\n",
      "24/24 [==============================] - 1s 54ms/step - loss: 0.2513 - accuracy: 0.9373 - val_loss: 0.6876 - val_accuracy: 0.7953\n",
      "Epoch 18/25\n",
      "24/24 [==============================] - 1s 57ms/step - loss: 0.2183 - accuracy: 0.9488 - val_loss: 0.6933 - val_accuracy: 0.7980\n",
      "Epoch 19/25\n",
      "24/24 [==============================] - 1s 61ms/step - loss: 0.1988 - accuracy: 0.9550 - val_loss: 0.6854 - val_accuracy: 0.7950\n",
      "Epoch 20/25\n",
      "24/24 [==============================] - 1s 54ms/step - loss: 0.1779 - accuracy: 0.9599 - val_loss: 0.6866 - val_accuracy: 0.7997\n",
      "Epoch 21/25\n",
      "24/24 [==============================] - 1s 56ms/step - loss: 0.1596 - accuracy: 0.9657 - val_loss: 0.7224 - val_accuracy: 0.7887\n",
      "Epoch 22/25\n",
      "24/24 [==============================] - 1s 61ms/step - loss: 0.1475 - accuracy: 0.9663 - val_loss: 0.7010 - val_accuracy: 0.8020\n",
      "Epoch 23/25\n",
      "24/24 [==============================] - 1s 54ms/step - loss: 0.1328 - accuracy: 0.9720 - val_loss: 0.6896 - val_accuracy: 0.8100\n",
      "Epoch 24/25\n",
      "24/24 [==============================] - 1s 53ms/step - loss: 0.1189 - accuracy: 0.9762 - val_loss: 0.6899 - val_accuracy: 0.8097\n",
      "Epoch 25/25\n",
      "24/24 [==============================] - 1s 61ms/step - loss: 0.1061 - accuracy: 0.9806 - val_loss: 0.7094 - val_accuracy: 0.8100\n"
     ]
    }
   ],
   "source": [
    "history = rna.fit(X_train_flat, y_train, epochs=25, batch_size=500, validation_data=(X_test_flat, y_test))"
   ]
  },
  {
   "cell_type": "markdown",
   "id": "20d0260b",
   "metadata": {},
   "source": [
    "## 3.4 Visualização do resultado do treinamento"
   ]
  },
  {
   "cell_type": "code",
   "execution_count": 25,
   "id": "a7b22757",
   "metadata": {},
   "outputs": [
    {
     "data": {
      "image/png": "[encoded data removed]",
      "text/plain": [
       "<Figure size 432x288 with 1 Axes>"
      ]
     },
     "metadata": {
      "needs_background": "light"
     },
     "output_type": "display_data"
    },
    {
     "data": {
      "image/png": "[encoded data removed]",
      "text/plain": [
       "<Figure size 432x288 with 1 Axes>"
      ]
     },
     "metadata": {
      "needs_background": "light"
     },
     "output_type": "display_data"
    }
   ],
   "source": [
    "# Salva custo e exatidão em vetores\n",
    "history_dict = history.history\n",
    "custo = history_dict['loss']\n",
    "exatidao = history_dict['accuracy']\n",
    "custo_val = history_dict['val_loss']\n",
    "exatidao_val = history_dict['val_accuracy']\n",
    "# Cria vetor de épocas\n",
    "epocas = range(1, len(custo) + 1)\n",
    "# Gráfico do custo em função das épocas\n",
    "custo = history_dict['loss']\n",
    "plt.plot(epocas, custo, 'b', label='Treinamento')\n",
    "plt.plot(epocas, custo_val, 'r', label='Validação')\n",
    "plt.title('Valor da função de custo')\n",
    "plt.xlabel('Épocas')\n",
    "plt.ylabel('Custo')\n",
    "plt.legend()\n",
    "plt.show()\n",
    "# Gráfico da exatidão em função das épocas\n",
    "plt.plot(epocas, exatidao, 'b', label='Treinamento')\n",
    "plt.plot(epocas, exatidao_val, 'r', label='Validação')\n",
    "plt.title('Valor da exatidão')\n",
    "plt.xlabel('Épocas')\n",
    "plt.ylabel('Exatidão')\n",
    "plt.legend()\n",
    "plt.show()"
   ]
  },
  {
   "cell_type": "markdown",
   "id": "5f5e6854",
   "metadata": {},
   "source": [
    "## 3.5 Avaliação do desempenho da rede"
   ]
  },
  {
   "cell_type": "code",
   "execution_count": 26,
   "id": "f37bda9e",
   "metadata": {},
   "outputs": [
    {
     "name": "stdout",
     "output_type": "stream",
     "text": [
      "375/375 [==============================] - 2s 4ms/step - loss: 0.0857 - accuracy: 0.9880\n",
      "94/94 [==============================] - 0s 4ms/step - loss: 0.7094 - accuracy: 0.8100\n"
     ]
    }
   ],
   "source": [
    "# Calculo do custo e exatidão para os dados de treinamento, validação e teste\n",
    "custo_e_metricas_train = rna.evaluate(X_train_flat, y_train)\n",
    "custo_e_metricas_test = rna.evaluate(X_test_flat, y_test)"
   ]
  },
  {
   "cell_type": "markdown",
   "id": "6e308146",
   "metadata": {},
   "source": [
    "## 3.6 Teste de previsão da RNA"
   ]
  },
  {
   "cell_type": "code",
   "execution_count": 27,
   "id": "6b8625b1",
   "metadata": {},
   "outputs": [
    {
     "data": {
      "image/png": "[encoded data removed]",
      "text/plain": [
       "<Figure size 1296x432 with 1 Axes>"
      ]
     },
     "metadata": {
      "needs_background": "light"
     },
     "output_type": "display_data"
    }
   ],
   "source": [
    "# Calcula das classes previstas\n",
    "y_prev = rna.predict(X_test_flat)\n",
    "\n",
    "\n",
    "# Identifica classe prevista\n",
    "classe_prev = np.argmax(y_prev, axis=1)\n",
    "classe_real = np.argmax(y_test, axis=1)\n",
    "\n",
    "\n",
    "# Gráfico das classes reais e previstas para os primeiros 200 exemplos de teste\n",
    "plt.figure(figsize=(18,6))\n",
    "plt.plot(classe_real[:100], 'bo', label='Classes reais')\n",
    "plt.plot(classe_prev[:100], 'ro', label=\"Classes previstas\")\n",
    "plt.title('Classes reais e previstas')\n",
    "plt.xlabel('Exemplos')\n",
    "plt.ylabel('Classes')\n",
    "plt.legend()\n",
    "plt.show()"
   ]
  },
  {
   "cell_type": "code",
   "execution_count": 28,
   "id": "7020f2bc",
   "metadata": {
    "scrolled": true
   },
   "outputs": [
    {
     "name": "stdout",
     "output_type": "stream",
     "text": [
      "Classe real: 1 - [0 1 0 0 0 0 0 0 0 0 0 0 0 0 0] ; Classe prevista: 1\n"
     ]
    },
    {
     "data": {
      "image/png": "[encoded data removed]",
      "text/plain": [
       "<Figure size 432x288 with 1 Axes>"
      ]
     },
     "metadata": {
      "needs_background": "light"
     },
     "output_type": "display_data"
    }
   ],
   "source": [
    "# Exemplo de classificação de uma imagem.\n",
    "index = 40\n",
    "plt.imshow(X_test[index,:], cmap='gray')\n",
    "print (\"Classe real:\", str(np.argmax(y_test[index])), '-',y_test[index], ';',\n",
    "#print (\"Classe real:\", y_test[index], '-', ';',\n",
    "       \n",
    "      \n",
    "\"Classe prevista:\", classe_prev[index],)"
   ]
  },
  {
   "cell_type": "markdown",
   "id": "5ac61a30",
   "metadata": {},
   "source": [
    "## 3.7 Matriz de confusão"
   ]
  },
  {
   "cell_type": "markdown",
   "id": "ef6aaf77",
   "metadata": {},
   "source": [
    "### 3.7.1 Modelo 1"
   ]
  },
  {
   "cell_type": "code",
   "execution_count": 33,
   "id": "534afac3",
   "metadata": {
    "scrolled": false
   },
   "outputs": [
    {
     "name": "stdout",
     "output_type": "stream",
     "text": [
      "Matriz de confusão:\n",
      " [[191   0   0   0   0   6   0   0   0   3   0   0   0   0   0]\n",
      " [  0 145   2   0  17   3   7   5   1   7   4   2   4   3   0]\n",
      " [  0   1 147   0   3   0   2   1   0   7   0   2   6  22   9]\n",
      " [  0   2   0 170   0  18   6   0   0   1   0   2   0   1   0]\n",
      " [  0   6  15   0 126   0   5  28   3   3   1   3   2   6   2]\n",
      " [  5   2   0  21   0 168   0   1   0   2   1   0   0   0   0]\n",
      " [  0   3   3   4   3   0 168   1   1   4   2   1   0  10   0]\n",
      " [  0   0   1   1  14   0   3 169   0   2   0   1   8   1   0]\n",
      " [  0   1   7   0   1   1   0   4 181   3   0   0   2   0   0]\n",
      " [  0   3  10   2  12   0   0   3   2 158   3   1   3   2   1]\n",
      " [  0   0   6   2   1   1   0   0   0   2 166  20   1   0   1]\n",
      " [  0   3   1   1   3   2   4   1   0   5  41 132   1   5   1]\n",
      " [  0   0   2   0   2   0   1  10   0   1   2   0 174   7   1]\n",
      " [  0   3  23   1   5   0   3   2   2   2   0   1   1 152   5]\n",
      " [  0   0   5   0   1   0   0   0   0   0   0   2   1   8 183]]\n"
     ]
    },
    {
     "name": "stderr",
     "output_type": "stream",
     "text": [
      "<ipython-input-33-e94378991a03>:12: UserWarning: FixedFormatter should only be used together with FixedLocator\n",
      "  ax.set_xticklabels([''] + labels)\n",
      "<ipython-input-33-e94378991a03>:13: UserWarning: FixedFormatter should only be used together with FixedLocator\n",
      "  ax.set_yticklabels([''] + labels)\n"
     ]
    },
    {
     "data": {
      "text/plain": [
       "<Figure size 432x432 with 0 Axes>"
      ]
     },
     "metadata": {},
     "output_type": "display_data"
    },
    {
     "data": {
      "image/png": "[encoded data removed]",
      "text/plain": [
       "<Figure size 432x288 with 2 Axes>"
      ]
     },
     "metadata": {
      "needs_background": "light"
     },
     "output_type": "display_data"
    }
   ],
   "source": [
    "from sklearn.metrics import confusion_matrix\n",
    "from matplotlib import pyplot as plt\n",
    "\n",
    "conf_mat = confusion_matrix(y_true=classe_real, y_pred=np.round(classe_prev))\n",
    "print('Matriz de confusão:\\n', conf_mat)\n",
    "labels = ['Cl 0', 'Cl 1', 'Cl 2', 'Cl 3', 'Cl 4', 'Cl 5', 'Cl 6', 'Cl 7', 'Cl 8']\n",
    "plt.figure(figsize=(6,6))\n",
    "fig = plt.figure()\n",
    "ax = fig.add_subplot(111)\n",
    "cax = ax.matshow(conf_mat, cmap=plt.cm.Blues)\n",
    "fig.colorbar(cax)\n",
    "ax.set_xticklabels([''] + labels)\n",
    "ax.set_yticklabels([''] + labels)\n",
    "plt.xlabel('Previsto')\n",
    "plt.ylabel('Esperado')\n",
    "plt.show()"
   ]
  },
  {
   "cell_type": "markdown",
   "id": "c7dd8ce9",
   "metadata": {},
   "source": [
    "### 3.7.2 Modelo 2"
   ]
  },
  {
   "cell_type": "code",
   "execution_count": 41,
   "id": "73eb1de4",
   "metadata": {},
   "outputs": [
    {
     "data": {
      "image/png": "[encoded data removed]",
      "text/plain": [
       "<Figure size 1080x360 with 2 Axes>"
      ]
     },
     "metadata": {
      "needs_background": "light"
     },
     "output_type": "display_data"
    }
   ],
   "source": [
    "#Matriz de confusão\n",
    "import seaborn as sn\n",
    "\n",
    "plt.figure(figsize= (15,5))\n",
    "cm = confusion_matrix(np.argmax(y_test, axis=1), classe_prev)\n",
    "sn.heatmap(cm, annot= True)\n",
    "plt.xlabel('Valores previstos')\n",
    "plt.ylabel('Valores reais')\n",
    "plt.show()"
   ]
  },
  {
   "cell_type": "code",
   "execution_count": null,
   "id": "3f60852e",
   "metadata": {},
   "outputs": [],
   "source": []
  }
 ],
 "metadata": {
  "kernelspec": {
   "display_name": "Python 3",
   "language": "python",
   "name": "python3"
  },
  "language_info": {
   "codemirror_mode": {
    "name": "ipython",
    "version": 3
   },
   "file_extension": ".py",
   "mimetype": "text/x-python",
   "name": "python",
   "nbconvert_exporter": "python",
   "pygments_lexer": "ipython3",
   "version": "3.8.8"
  }
 },
 "nbformat": 4,
 "nbformat_minor": 5
}
